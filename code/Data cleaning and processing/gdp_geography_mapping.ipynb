{
 "cells": [
  {
   "metadata": {},
   "cell_type": "markdown",
   "source": "Mapping GDP data with geographic data",
   "id": "ffa989b3ec41b6a"
  },
  {
   "metadata": {
    "collapsed": true,
    "ExecuteTime": {
     "end_time": "2025-03-27T19:49:54.895407Z",
     "start_time": "2025-03-27T19:49:54.476060Z"
    }
   },
   "cell_type": "code",
   "source": [
    "import os\n",
    "os.chdir(\"../\")\n",
    "%run config.ipynb\n",
    "import os.path\n",
    "from pandas import DataFrame\n",
    "import pandas as pd"
   ],
   "id": "initial_id",
   "outputs": [],
   "execution_count": 1
  },
  {
   "metadata": {},
   "cell_type": "markdown",
   "source": "## loading economic data utils",
   "id": "9212e1052596ed41"
  },
  {
   "metadata": {
    "ExecuteTime": {
     "end_time": "2025-03-27T19:49:54.904484Z",
     "start_time": "2025-03-27T19:49:54.900561Z"
    }
   },
   "cell_type": "code",
   "source": [
    "# load rawData\n",
    "def loadRawData(sheetName=\"Table 1\", index='Region name'):\n",
    "    rawData = pd.read_excel(rgdpPath, sheet_name=f\"{sheetName}\", skiprows=1, header=0, index_col=index)\n",
    "    rawData.index = [item if item !=\"Yorkshire and The Humber\" else \"Yorkshire and the Humber\" for item in rawData.index]\n",
    "    rawData.columns = [int(item) if item.startswith('1') or item.startswith('2') else item for item in rawData.columns]\n",
    "    return rawData\n",
    "\n",
    "# realGDP = loadRawData('Table 12')\n",
    "# len(realGDP.query(\"ITL == 'ITL3'\"))"
   ],
   "id": "eb71ee06c59d365",
   "outputs": [],
   "execution_count": 2
  },
  {
   "metadata": {
    "ExecuteTime": {
     "end_time": "2025-03-27T19:49:55.052453Z",
     "start_time": "2025-03-27T19:49:55.047378Z"
    }
   },
   "cell_type": "code",
   "source": [
    "def getDataByITL(data:DataFrame, ITL=\"ITL3\", startYear=1999, endYear=2022, isOriginalFormat=True):\n",
    "    \"\"\"\n",
    "    query gdpGrowthRates by ITL\n",
    "    ----------\n",
    "    :param data: raw data\n",
    "    :param ITL: ITL code\n",
    "    :param isOriginalFormat: return data format\n",
    "        True: original data format\n",
    "        False: transformed data format\n",
    "    \"\"\"\n",
    "    # filter ITL level\n",
    "    subData = data.copy(deep=True)\n",
    "    if ITL == \"all\":\n",
    "        pass\n",
    "    else:\n",
    "        subData = data.query(f\"ITL == '{ITL}'\").copy()\n",
    "\n",
    "    # filter year\n",
    "    if startYear and endYear:\n",
    "        subData.drop(columns=[year for year in range(1999, startYear)], axis=1, inplace=True)\n",
    "        subData.drop(columns=[year for year in range(endYear+1, 2023)], axis=1, inplace=True)\n",
    "\n",
    "    # transform data format\n",
    "    if not isOriginalFormat:\n",
    "        subData.reset_index(inplace=True)\n",
    "        subData.rename(columns={'index': 'Region Name'}, inplace=True)\n",
    "\n",
    "        subData = subData.melt(\n",
    "            id_vars=['Region Name', 'ITL', 'ITL code'],\n",
    "            value_vars=[y for y in range(startYear, endYear+1)],\n",
    "            var_name='year',\n",
    "            value_name='value'\n",
    "        )\n",
    "    print(\"getDataByITL shape:\", subData.shape)\n",
    "    return subData\n",
    "\n",
    "# gdp_df = loadRawData(sheetName='Table 12')\n",
    "# gdp_ITL3 = getDataByITL(data=gdp_df, ITL='ITL3', startYear=1999, endYear=2022, isOriginalFormat=False)\n",
    "# gdp_ITL3.head()"
   ],
   "id": "849825a1e4a12f28",
   "outputs": [],
   "execution_count": 3
  },
  {
   "metadata": {},
   "cell_type": "markdown",
   "source": "## loading LAD(Local Authority District Code)",
   "id": "4978461a32e2566c"
  },
  {
   "metadata": {},
   "cell_type": "markdown",
   "source": "* loading LAD data",
   "id": "b82091647ab9ee65"
  },
  {
   "metadata": {
    "ExecuteTime": {
     "end_time": "2025-03-27T19:49:55.068237Z",
     "start_time": "2025-03-27T19:49:55.057842Z"
    }
   },
   "cell_type": "code",
   "source": [
    "lads_df = pd.read_csv(ladPath, usecols=['ITL321CD', 'ITL321NM', 'LAD23CD', 'LAD23NM'])\n",
    "print(lads_df.shape)\n",
    "lads_df.head()"
   ],
   "id": "20dffc65df71dcd7",
   "outputs": [
    {
     "name": "stdout",
     "output_type": "stream",
     "text": [
      "(388, 4)\n"
     ]
    },
    {
     "data": {
      "text/plain": [
       "     LAD23CD               LAD23NM ITL321CD                         ITL321NM\n",
       "0  E06000001            Hartlepool    TLC11  Hartlepool and Stockton-on-Tees\n",
       "1  E06000004      Stockton-on-Tees    TLC11  Hartlepool and Stockton-on-Tees\n",
       "2  E06000002         Middlesbrough    TLC12                   South Teesside\n",
       "3  E06000003  Redcar and Cleveland    TLC12                   South Teesside\n",
       "4  E06000005            Darlington    TLC13                       Darlington"
      ],
      "text/html": [
       "<div>\n",
       "<style scoped>\n",
       "    .dataframe tbody tr th:only-of-type {\n",
       "        vertical-align: middle;\n",
       "    }\n",
       "\n",
       "    .dataframe tbody tr th {\n",
       "        vertical-align: top;\n",
       "    }\n",
       "\n",
       "    .dataframe thead th {\n",
       "        text-align: right;\n",
       "    }\n",
       "</style>\n",
       "<table border=\"1\" class=\"dataframe\">\n",
       "  <thead>\n",
       "    <tr style=\"text-align: right;\">\n",
       "      <th></th>\n",
       "      <th>LAD23CD</th>\n",
       "      <th>LAD23NM</th>\n",
       "      <th>ITL321CD</th>\n",
       "      <th>ITL321NM</th>\n",
       "    </tr>\n",
       "  </thead>\n",
       "  <tbody>\n",
       "    <tr>\n",
       "      <th>0</th>\n",
       "      <td>E06000001</td>\n",
       "      <td>Hartlepool</td>\n",
       "      <td>TLC11</td>\n",
       "      <td>Hartlepool and Stockton-on-Tees</td>\n",
       "    </tr>\n",
       "    <tr>\n",
       "      <th>1</th>\n",
       "      <td>E06000004</td>\n",
       "      <td>Stockton-on-Tees</td>\n",
       "      <td>TLC11</td>\n",
       "      <td>Hartlepool and Stockton-on-Tees</td>\n",
       "    </tr>\n",
       "    <tr>\n",
       "      <th>2</th>\n",
       "      <td>E06000002</td>\n",
       "      <td>Middlesbrough</td>\n",
       "      <td>TLC12</td>\n",
       "      <td>South Teesside</td>\n",
       "    </tr>\n",
       "    <tr>\n",
       "      <th>3</th>\n",
       "      <td>E06000003</td>\n",
       "      <td>Redcar and Cleveland</td>\n",
       "      <td>TLC12</td>\n",
       "      <td>South Teesside</td>\n",
       "    </tr>\n",
       "    <tr>\n",
       "      <th>4</th>\n",
       "      <td>E06000005</td>\n",
       "      <td>Darlington</td>\n",
       "      <td>TLC13</td>\n",
       "      <td>Darlington</td>\n",
       "    </tr>\n",
       "  </tbody>\n",
       "</table>\n",
       "</div>"
      ]
     },
     "execution_count": 4,
     "metadata": {},
     "output_type": "execute_result"
    }
   ],
   "execution_count": 4
  },
  {
   "metadata": {
    "ExecuteTime": {
     "end_time": "2025-03-27T19:49:55.180524Z",
     "start_time": "2025-03-27T19:49:55.176987Z"
    }
   },
   "cell_type": "code",
   "source": [
    "print(len(lads_df['LAD23CD'].unique()))\n",
    "print(len(lads_df['ITL321CD'].unique()))"
   ],
   "id": "d7911e8879dea00d",
   "outputs": [
    {
     "name": "stdout",
     "output_type": "stream",
     "text": [
      "361\n",
      "179\n"
     ]
    }
   ],
   "execution_count": 5
  },
  {
   "metadata": {},
   "cell_type": "markdown",
   "source": "- check duplicated data",
   "id": "1c31d3264173e636"
  },
  {
   "metadata": {
    "ExecuteTime": {
     "end_time": "2025-03-27T19:49:55.223690Z",
     "start_time": "2025-03-27T19:49:55.220740Z"
    }
   },
   "cell_type": "code",
   "source": [
    "# duplicated data number\n",
    "print(lads_df['LAD23CD'].duplicated(keep=False).sum())\n",
    "print(lads_df['ITL321CD'].duplicated(keep=False).sum())"
   ],
   "id": "37631406234b57b5",
   "outputs": [
    {
     "name": "stdout",
     "output_type": "stream",
     "text": [
      "37\n",
      "297\n"
     ]
    }
   ],
   "execution_count": 6
  },
  {
   "metadata": {
    "ExecuteTime": {
     "end_time": "2025-03-27T19:49:55.237629Z",
     "start_time": "2025-03-27T19:49:55.232632Z"
    }
   },
   "cell_type": "code",
   "source": [
    "# drop dumplicated data\n",
    "lads_df.drop_duplicates(subset='LAD23CD', keep=False, inplace=True)\n",
    "lads_df.drop_duplicates(subset='ITL321CD', keep=False, inplace=True)\n",
    "print(lads_df.shape)\n",
    "lads_df.to_csv(os.path.join(root, 'geographic_data_cleaned_unique.csv'), index=False)      # Contains lads that both LAD and ITL can be unique matched"
   ],
   "id": "6ef0f0f9a5da5d01",
   "outputs": [
    {
     "name": "stdout",
     "output_type": "stream",
     "text": [
      "(92, 4)\n"
     ]
    }
   ],
   "execution_count": 7
  },
  {
   "metadata": {},
   "cell_type": "markdown",
   "source": "## Mapping GDP data with geographic data",
   "id": "81aa34cffaadc33b"
  },
  {
   "metadata": {
    "ExecuteTime": {
     "end_time": "2025-03-27T19:49:55.495788Z",
     "start_time": "2025-03-27T19:49:55.262166Z"
    }
   },
   "cell_type": "code",
   "source": "gdp_ITL3 = getDataByITL(data=loadRawData('Table 9'), ITL='ITL3', startYear=1999, endYear=2022, isOriginalFormat=False)",
   "id": "7384f00c9685550e",
   "outputs": [
    {
     "name": "stdout",
     "output_type": "stream",
     "text": [
      "getDataByITL shape: (4296, 5)\n"
     ]
    }
   ],
   "execution_count": 8
  },
  {
   "metadata": {
    "ExecuteTime": {
     "end_time": "2025-03-27T19:49:55.510612Z",
     "start_time": "2025-03-27T19:49:55.506713Z"
    }
   },
   "cell_type": "code",
   "source": [
    "ITL3_lads = gdp_ITL3['ITL code'].unique()\n",
    "lads_list = lads_df.groupby('ITL321CD').count()\n",
    "print(f\"number of ITL code in economic data: {len(ITL3_lads)}\\nnumber of ITL code in LAD mapping data: {len(lads_list)}\")\n",
    "ifExist = pd.Series(ITL3_lads).isin(lads_list.index)\n",
    "existItems = ITL3_lads[ifExist]\n",
    "print(f'number of ITL code in economic data that can be mapped to LAD: {ifExist.sum()}')"
   ],
   "id": "4b829216d97f2170",
   "outputs": [
    {
     "name": "stdout",
     "output_type": "stream",
     "text": [
      "number of ITL code in economic data: 179\n",
      "number of ITL code in LAD mapping data: 92\n",
      "number of ITL code in economic data that can be mapped to LAD: 92\n"
     ]
    }
   ],
   "execution_count": 9
  },
  {
   "metadata": {},
   "cell_type": "markdown",
   "source": "So, all 92 ITL3 areas have unique ITL code and LAD code. We mainly focus on those areas.",
   "id": "7d12d39988a41668"
  },
  {
   "metadata": {
    "ExecuteTime": {
     "end_time": "2025-03-27T19:49:55.527462Z",
     "start_time": "2025-03-27T19:49:55.519650Z"
    }
   },
   "cell_type": "code",
   "source": [
    "# map LAD to economic data\n",
    "gdp_ITL3_LDA = pd.merge(gdp_ITL3, lads_df, left_on='ITL code', right_on='ITL321CD', how='inner')\n",
    "print(gdp_ITL3_LDA.shape)\n",
    "gdp_ITL3_LDA.head()"
   ],
   "id": "fdab631763108368",
   "outputs": [
    {
     "name": "stdout",
     "output_type": "stream",
     "text": [
      "(2208, 9)\n"
     ]
    },
    {
     "data": {
      "text/plain": [
       "  Region Name   ITL ITL code  year  value    LAD23CD     LAD23NM ITL321CD  \\\n",
       "0  Darlington  ITL3    TLC13  1999  161.8  E06000005  Darlington    TLC13   \n",
       "1  Darlington  ITL3    TLC13  2000  151.4  E06000005  Darlington    TLC13   \n",
       "2  Darlington  ITL3    TLC13  2001  144.6  E06000005  Darlington    TLC13   \n",
       "3  Darlington  ITL3    TLC13  2002  141.1  E06000005  Darlington    TLC13   \n",
       "4  Darlington  ITL3    TLC13  2003  136.6  E06000005  Darlington    TLC13   \n",
       "\n",
       "     ITL321NM  \n",
       "0  Darlington  \n",
       "1  Darlington  \n",
       "2  Darlington  \n",
       "3  Darlington  \n",
       "4  Darlington  "
      ],
      "text/html": [
       "<div>\n",
       "<style scoped>\n",
       "    .dataframe tbody tr th:only-of-type {\n",
       "        vertical-align: middle;\n",
       "    }\n",
       "\n",
       "    .dataframe tbody tr th {\n",
       "        vertical-align: top;\n",
       "    }\n",
       "\n",
       "    .dataframe thead th {\n",
       "        text-align: right;\n",
       "    }\n",
       "</style>\n",
       "<table border=\"1\" class=\"dataframe\">\n",
       "  <thead>\n",
       "    <tr style=\"text-align: right;\">\n",
       "      <th></th>\n",
       "      <th>Region Name</th>\n",
       "      <th>ITL</th>\n",
       "      <th>ITL code</th>\n",
       "      <th>year</th>\n",
       "      <th>value</th>\n",
       "      <th>LAD23CD</th>\n",
       "      <th>LAD23NM</th>\n",
       "      <th>ITL321CD</th>\n",
       "      <th>ITL321NM</th>\n",
       "    </tr>\n",
       "  </thead>\n",
       "  <tbody>\n",
       "    <tr>\n",
       "      <th>0</th>\n",
       "      <td>Darlington</td>\n",
       "      <td>ITL3</td>\n",
       "      <td>TLC13</td>\n",
       "      <td>1999</td>\n",
       "      <td>161.8</td>\n",
       "      <td>E06000005</td>\n",
       "      <td>Darlington</td>\n",
       "      <td>TLC13</td>\n",
       "      <td>Darlington</td>\n",
       "    </tr>\n",
       "    <tr>\n",
       "      <th>1</th>\n",
       "      <td>Darlington</td>\n",
       "      <td>ITL3</td>\n",
       "      <td>TLC13</td>\n",
       "      <td>2000</td>\n",
       "      <td>151.4</td>\n",
       "      <td>E06000005</td>\n",
       "      <td>Darlington</td>\n",
       "      <td>TLC13</td>\n",
       "      <td>Darlington</td>\n",
       "    </tr>\n",
       "    <tr>\n",
       "      <th>2</th>\n",
       "      <td>Darlington</td>\n",
       "      <td>ITL3</td>\n",
       "      <td>TLC13</td>\n",
       "      <td>2001</td>\n",
       "      <td>144.6</td>\n",
       "      <td>E06000005</td>\n",
       "      <td>Darlington</td>\n",
       "      <td>TLC13</td>\n",
       "      <td>Darlington</td>\n",
       "    </tr>\n",
       "    <tr>\n",
       "      <th>3</th>\n",
       "      <td>Darlington</td>\n",
       "      <td>ITL3</td>\n",
       "      <td>TLC13</td>\n",
       "      <td>2002</td>\n",
       "      <td>141.1</td>\n",
       "      <td>E06000005</td>\n",
       "      <td>Darlington</td>\n",
       "      <td>TLC13</td>\n",
       "      <td>Darlington</td>\n",
       "    </tr>\n",
       "    <tr>\n",
       "      <th>4</th>\n",
       "      <td>Darlington</td>\n",
       "      <td>ITL3</td>\n",
       "      <td>TLC13</td>\n",
       "      <td>2003</td>\n",
       "      <td>136.6</td>\n",
       "      <td>E06000005</td>\n",
       "      <td>Darlington</td>\n",
       "      <td>TLC13</td>\n",
       "      <td>Darlington</td>\n",
       "    </tr>\n",
       "  </tbody>\n",
       "</table>\n",
       "</div>"
      ]
     },
     "execution_count": 10,
     "metadata": {},
     "output_type": "execute_result"
    }
   ],
   "execution_count": 10
  },
  {
   "metadata": {
    "ExecuteTime": {
     "end_time": "2025-03-27T19:49:55.596241Z",
     "start_time": "2025-03-27T19:49:55.592267Z"
    }
   },
   "cell_type": "code",
   "source": [
    "# check null value\n",
    "gdp_ITL3_LDA.isna().any()"
   ],
   "id": "13d499ca8c2f4774",
   "outputs": [
    {
     "data": {
      "text/plain": [
       "Region Name    False\n",
       "ITL            False\n",
       "ITL code       False\n",
       "year           False\n",
       "value          False\n",
       "LAD23CD        False\n",
       "LAD23NM        False\n",
       "ITL321CD       False\n",
       "ITL321NM       False\n",
       "dtype: bool"
      ]
     },
     "execution_count": 11,
     "metadata": {},
     "output_type": "execute_result"
    }
   ],
   "execution_count": 11
  },
  {
   "metadata": {
    "ExecuteTime": {
     "end_time": "2025-03-27T19:49:55.642028Z",
     "start_time": "2025-03-27T19:49:55.636429Z"
    }
   },
   "cell_type": "code",
   "source": [
    "# check duplicated value\n",
    "gdp_ITL3_LDA[gdp_ITL3_LDA[['LAD23CD', 'year']].duplicated()]"
   ],
   "id": "274d6b3e99a95103",
   "outputs": [
    {
     "data": {
      "text/plain": [
       "Empty DataFrame\n",
       "Columns: [Region Name, ITL, ITL code, year, value, LAD23CD, LAD23NM, ITL321CD, ITL321NM]\n",
       "Index: []"
      ],
      "text/html": [
       "<div>\n",
       "<style scoped>\n",
       "    .dataframe tbody tr th:only-of-type {\n",
       "        vertical-align: middle;\n",
       "    }\n",
       "\n",
       "    .dataframe tbody tr th {\n",
       "        vertical-align: top;\n",
       "    }\n",
       "\n",
       "    .dataframe thead th {\n",
       "        text-align: right;\n",
       "    }\n",
       "</style>\n",
       "<table border=\"1\" class=\"dataframe\">\n",
       "  <thead>\n",
       "    <tr style=\"text-align: right;\">\n",
       "      <th></th>\n",
       "      <th>Region Name</th>\n",
       "      <th>ITL</th>\n",
       "      <th>ITL code</th>\n",
       "      <th>year</th>\n",
       "      <th>value</th>\n",
       "      <th>LAD23CD</th>\n",
       "      <th>LAD23NM</th>\n",
       "      <th>ITL321CD</th>\n",
       "      <th>ITL321NM</th>\n",
       "    </tr>\n",
       "  </thead>\n",
       "  <tbody>\n",
       "  </tbody>\n",
       "</table>\n",
       "</div>"
      ]
     },
     "execution_count": 12,
     "metadata": {},
     "output_type": "execute_result"
    }
   ],
   "execution_count": 12
  },
  {
   "metadata": {
    "ExecuteTime": {
     "end_time": "2025-03-27T19:49:55.723699Z",
     "start_time": "2025-03-27T19:49:55.715065Z"
    }
   },
   "cell_type": "code",
   "source": [
    "# save data\n",
    "gdp_ITL3_LDA.to_csv(os.path.join(root, 'GDP_ITL3_LDA(raw).csv'), index=False)       # ITL3 GDP data"
   ],
   "id": "6c387c7f476bd91b",
   "outputs": [],
   "execution_count": 13
  }
 ],
 "metadata": {
  "kernelspec": {
   "display_name": "Python 3",
   "language": "python",
   "name": "python3"
  },
  "language_info": {
   "codemirror_mode": {
    "name": "ipython",
    "version": 2
   },
   "file_extension": ".py",
   "mimetype": "text/x-python",
   "name": "python",
   "nbconvert_exporter": "python",
   "pygments_lexer": "ipython2",
   "version": "2.7.6"
  }
 },
 "nbformat": 4,
 "nbformat_minor": 5
}
