{
 "cells": [
  {
   "cell_type": "code",
   "execution_count": 1,
   "metadata": {},
   "outputs": [],
   "source": [
    "import pandas as pd\n",
    "from difflib import SequenceMatcher"
   ]
  },
  {
   "cell_type": "code",
   "execution_count": 2,
   "metadata": {},
   "outputs": [],
   "source": [
    "# Read raw files\n",
    "file_path_traffic = r\"datasets\\dft_traffic_counts_raw_counts.csv\"\n",
    "df_traffic = pd.read_csv(file_path_traffic, low_memory=False)\n",
    "\n",
    "file_path_eco = r\"datasets\\Regional gross domestic product(all ITL).xlsx\"\n",
    "df_eco = pd.read_excel(\n",
    "    file_path_eco, sheet_name=\"Table 5\", header=1\n",
    ")  # Table 5: Gross domestic product (GDP) at current market prices, pounds million"
   ]
  },
  {
   "cell_type": "code",
   "execution_count": 4,
   "metadata": {},
   "outputs": [
    {
     "data": {
      "text/plain": [
       "Index(['count_point_id', 'direction_of_travel', 'year', 'count_date', 'hour',\n",
       "       'region_id', 'region_name', 'region_ons_code', 'local_authority_id',\n",
       "       'local_authority_name', 'local_authority_code', 'road_name',\n",
       "       'road_category', 'road_type', 'start_junction_road_name',\n",
       "       'end_junction_road_name', 'easting', 'northing', 'latitude',\n",
       "       'longitude', 'link_length_km', 'link_length_miles', 'pedal_cycles',\n",
       "       'two_wheeled_motor_vehicles', 'cars_and_taxis', 'buses_and_coaches',\n",
       "       'LGVs', 'HGVs_2_rigid_axle', 'HGVs_3_rigid_axle',\n",
       "       'HGVs_4_or_more_rigid_axle', 'HGVs_3_or_4_articulated_axle',\n",
       "       'HGVs_5_articulated_axle', 'HGVs_6_articulated_axle', 'all_HGVs',\n",
       "       'all_motor_vehicles'],\n",
       "      dtype='object')"
      ]
     },
     "execution_count": 4,
     "metadata": {},
     "output_type": "execute_result"
    }
   ],
   "source": [
    "df_traffic.columns"
   ]
  },
  {
   "cell_type": "code",
   "execution_count": 4,
   "metadata": {},
   "outputs": [
    {
     "data": {
      "text/plain": [
       "((3174678, 35), (236, 28))"
      ]
     },
     "execution_count": 4,
     "metadata": {},
     "output_type": "execute_result"
    }
   ],
   "source": [
    "df_traffic.shape, df_eco.shape"
   ]
  },
  {
   "cell_type": "code",
   "execution_count": 5,
   "metadata": {},
   "outputs": [
    {
     "name": "stdout",
     "output_type": "stream",
     "text": [
      "共有的地区: 83\n",
      "只有交通数据的地区: 130\n",
      "只有经济数据的地区: 150\n"
     ]
    }
   ],
   "source": [
    "# Get unique city names from traffic and economic data\n",
    "unique_authorities = df_traffic[\"local_authority_name\"].dropna().unique()\n",
    "region_names = df_eco[\"Region name\"].dropna().unique()\n",
    "\n",
    "# Set operations to find common and unique values\n",
    "set_traffic = set(unique_authorities)\n",
    "set_eco = set(region_names)\n",
    "\n",
    "common = set_traffic.intersection(set_eco)\n",
    "only_traffic = set_traffic.difference(set_eco)\n",
    "only_eco = set_eco.difference(set_traffic)\n",
    "\n",
    "print(\"共有的地区:\", len(common))\n",
    "print(\"只有交通数据的地区:\", len(only_traffic))\n",
    "print(\"只有经济数据的地区:\", len(only_eco))"
   ]
  },
  {
   "cell_type": "code",
   "execution_count": 6,
   "metadata": {},
   "outputs": [
    {
     "name": "stdout",
     "output_type": "stream",
     "text": [
      "Name pairs that are similar but not identified as identical (similarity >= 0.8):\n",
      "traffic set: 'Shropshire'  <-->  economic set: 'Shropshire CC'  similarity: 0.87\n",
      "traffic set: 'Derbyshire'  <-->  economic set: 'East Derbyshire'  similarity: 0.80\n",
      "traffic set: 'West Sussex'  <-->  economic set: 'West Essex'  similarity: 0.86\n",
      "traffic set: 'Dumfries & Galloway'  <-->  economic set: 'Dumfries and Galloway'  similarity: 0.90\n",
      "traffic set: 'Cornwall excluding Isles of Scilly'  <-->  economic set: 'Cornwall and Isles of Scilly'  similarity: 0.84\n",
      "traffic set: 'Worcestershire'  <-->  economic set: 'Worcestershire CC'  similarity: 0.90\n",
      "traffic set: 'North East Lincolnshire'  <-->  economic set: 'North and North East Lincolnshire'  similarity: 0.82\n",
      "traffic set: 'Cambridgeshire'  <-->  economic set: 'Cambridgeshire CC'  similarity: 0.90\n",
      "traffic set: 'South Tyneside'  <-->  economic set: 'South Teesside'  similarity: 0.86\n",
      "traffic set: 'Warwickshire'  <-->  economic set: 'Warwickshire CC'  similarity: 0.89\n",
      "traffic set: 'Oxfordshire'  <-->  economic set: 'Oxfordshire CC'  similarity: 0.88\n",
      "traffic set: 'West Berkshire'  <-->  economic set: 'West Yorkshire'  similarity: 0.86\n",
      "traffic set: 'Durham'  <-->  economic set: 'Durham CC'  similarity: 0.80\n",
      "traffic set: 'Northamptonshire'  <-->  economic set: 'North Hampshire'  similarity: 0.84\n",
      "traffic set: 'East Sussex'  <-->  economic set: 'East Sussex CC'  similarity: 0.88\n",
      "traffic set: 'Suffolk'  <-->  economic set: 'Suffolk CC'  similarity: 0.82\n",
      "traffic set: 'Buckinghamshire'  <-->  economic set: 'Buckinghamshire CC'  similarity: 0.91\n",
      "traffic set: 'Gloucestershire'  <-->  economic set: 'Gloucestershire CC'  similarity: 0.91\n",
      "traffic set: 'Hertfordshire'  <-->  economic set: 'Hertfordshire CC'  similarity: 0.90\n",
      "traffic set: 'Nottinghamshire'  <-->  economic set: 'North Nottinghamshire'  similarity: 0.83\n",
      "traffic set: 'Nottinghamshire'  <-->  economic set: 'South Nottinghamshire'  similarity: 0.83\n",
      "traffic set: 'Somerset'  <-->  economic set: 'Somerset CC'  similarity: 0.84\n",
      "traffic set: 'Staffordshire'  <-->  economic set: 'Staffordshire CC'  similarity: 0.90\n"
     ]
    }
   ],
   "source": [
    "# Output unique city names\n",
    "def similar(a, b):\n",
    "    return SequenceMatcher(None, a, b).ratio()\n",
    "\n",
    "# Set similarity threshold\n",
    "threshold = 0.8\n",
    "\n",
    "# Use list comprehension to find similar name pairs\n",
    "similar_pairs = [\n",
    "    (name_traffic, name_eco, similar(name_traffic, name_eco))\n",
    "    for name_traffic in only_traffic\n",
    "    for name_eco in only_eco\n",
    "    if similar(name_traffic, name_eco) >= threshold\n",
    "]\n",
    "\n",
    "# Output similar but not exactly matched name pairs\n",
    "print(\"Name pairs that are similar but not identified as identical (similarity >= 0.8):\")\n",
    "for name_traffic, name_eco, ratio in similar_pairs:\n",
    "    print(f\"traffic set: '{name_traffic}'  <-->  economic set: '{name_eco}'  similarity: {ratio:.2f}\")\n"
   ]
  },
  {
   "cell_type": "code",
   "execution_count": 7,
   "metadata": {},
   "outputs": [
    {
     "name": "stdout",
     "output_type": "stream",
     "text": [
      "23\n"
     ]
    }
   ],
   "source": [
    "print(len(similar_pairs))"
   ]
  },
  {
   "cell_type": "code",
   "execution_count": 8,
   "metadata": {},
   "outputs": [
    {
     "name": "stdout",
     "output_type": "stream",
     "text": [
      "\n",
      "Traffic new table row count: 2074248\n",
      "Economic new table row count: 107\n",
      "Datasets with same city names created.\n"
     ]
    }
   ],
   "source": [
    "# Get the matching results\n",
    "common_traffic = common.union({pair[0] for pair in similar_pairs})\n",
    "common_eco = common.union({pair[1] for pair in similar_pairs})\n",
    "\n",
    "# Extract corresponding data and form new tables\n",
    "df_traffic_common = df_traffic[df_traffic[\"local_authority_name\"].isin(common_traffic)]\n",
    "df_eco_common = df_eco[df_eco[\"Region name\"].isin(common_eco)]\n",
    "\n",
    "print(\"\\nTraffic new table row count:\", df_traffic_common.shape[0])\n",
    "print(\"Economic new table row count:\", df_eco_common.shape[0])\n",
    "print(f\"Datasets with same city names created.\")\n"
   ]
  },
  {
   "cell_type": "code",
   "execution_count": 11,
   "metadata": {},
   "outputs": [],
   "source": [
    "# Save the new tables as CSV files\n",
    "df_traffic_common.to_csv(\"Traffic_common_data.csv\", index=False)\n",
    "df_eco_common.to_csv(\"Economic_common_data.csv\", index=False)\n"
   ]
  },
  {
   "cell_type": "code",
   "execution_count": 12,
   "metadata": {},
   "outputs": [],
   "source": [
    "# check matching result\n",
    "file_path_traffic = r\"Traffic_common_data.csv\"\n",
    "df_traffic_common = pd.read_csv(file_path_traffic, low_memory=False)\n",
    "file_path_eco = r\"Economic_common_data.csv\"\n",
    "df_eco_common = pd.read_csv(file_path_eco, low_memory=False)\n"
   ]
  },
  {
   "cell_type": "code",
   "execution_count": 14,
   "metadata": {},
   "outputs": [
    {
     "data": {
      "text/plain": [
       "((2074248, 35), (107, 28))"
      ]
     },
     "execution_count": 14,
     "metadata": {},
     "output_type": "execute_result"
    }
   ],
   "source": [
    "df_traffic_common.shape, df_eco_common.shape"
   ]
  },
  {
   "cell_type": "code",
   "execution_count": 17,
   "metadata": {},
   "outputs": [
    {
     "name": "stdout",
     "output_type": "stream",
     "text": [
      "共有的地区: 83\n",
      "只有交通数据的地区: 22\n",
      "只有经济数据的地区: 23\n"
     ]
    }
   ],
   "source": [
    "# Get unique city names from traffic and economic data\n",
    "unique_authorities_new = df_traffic_common[\"local_authority_name\"].dropna().unique()\n",
    "region_names_new = df_eco_common[\"Region name\"].dropna().unique()\n",
    "\n",
    "# Set operations to find common and unique values\n",
    "set_traffic_new = set(unique_authorities_new)\n",
    "set_eco_new = set(region_names_new)\n",
    "\n",
    "common_new = set_traffic_new.intersection(set_eco_new)\n",
    "only_traffic_new = set_traffic_new.difference(set_eco_new)\n",
    "only_eco_new = set_eco_new.difference(set_traffic_new)\n",
    "\n",
    "print(\"共有的地区:\", len(common_new))\n",
    "print(\"只有交通数据的地区:\", len(only_traffic_new))\n",
    "print(\"只有经济数据的地区:\", len(only_eco_new))"
   ]
  },
  {
   "cell_type": "code",
   "execution_count": null,
   "metadata": {},
   "outputs": [],
   "source": []
  },
  {
   "cell_type": "code",
   "execution_count": 1,
   "metadata": {},
   "outputs": [],
   "source": [
    "import pandas as pd\n",
    "import folium\n",
    "from folium.plugins import HeatMap\n",
    "\n",
    "def plot_heatmap(df, value_column=\"all_motor_vehicles\", zoom_start=7):\n",
    "    \"\"\"\n",
    "    绘制基于经纬度的热力图，并支持不同指标的可视化。\n",
    "    \n",
    "    参数:\n",
    "        df (pd.DataFrame): 需要包含 'latitude', 'longitude' 和指标列（默认 'all_motor_vehicless'）。\n",
    "        value_column (str): 选择用于热力图的列（默认为 'all_motor_vehicles'）。\n",
    "        zoom_start (int): 地图初始缩放级别（默认 7）。\n",
    "        \n",
    "    返回:\n",
    "        folium.Map 对象（可视化地图）。\n",
    "    \"\"\"\n",
    "    # 确保数据包含必要列\n",
    "    if not {\"latitude\", \"longitude\", value_column}.issubset(df.columns):\n",
    "        raise ValueError(\"数据集必须包含 'latitude', 'longitude' 和 '{}' 列\".format(value_column))\n",
    "\n",
    "    # 清理数据，去除缺失值和错误坐标\n",
    "    df_clean = df.dropna(subset=[\"latitude\", \"longitude\", value_column])\n",
    "    \n",
    "    # 确保数据类型正确\n",
    "    df_clean = df_clean.astype({\"latitude\": float, \"longitude\": float, value_column: float})\n",
    "\n",
    "    # 过滤掉明显错误的经纬度值\n",
    "    df_clean = df_clean[\n",
    "        (df_clean[\"latitude\"].between(-90, 90)) &\n",
    "        (df_clean[\"longitude\"].between(-180, 180))\n",
    "    ]\n",
    "\n",
    "    # 计算权重（归一化，避免极值影响）\n",
    "    max_value = df_clean[value_column].max()\n",
    "    df_clean[\"weight\"] = df_clean[value_column] / max_value if max_value > 0 else 1\n",
    "\n",
    "    # 生成地图（以数据中心点为中心）\n",
    "    map_center = [df_clean[\"latitude\"].mean(), df_clean[\"longitude\"].mean()]\n",
    "    m = folium.Map(location=map_center, zoom_start=zoom_start)\n",
    "\n",
    "    # 添加热力图\n",
    "    heat_data = df_clean[[\"latitude\", \"longitude\", \"weight\"]].values.tolist()\n",
    "    HeatMap(heat_data, radius=10, blur=15, max_zoom=1).add_to(m)\n",
    "\n",
    "    return m\n"
   ]
  },
  {
   "cell_type": "code",
   "execution_count": 3,
   "metadata": {},
   "outputs": [],
   "source": [
    "# 读取数据\n",
    "df_traffic = pd.read_csv(\"Traffic_common_data_cleaned.csv\")\n",
    "\n",
    "# 绘制热力图（默认 all_HGVs）\n",
    "heatmap = plot_heatmap(df_traffic, value_column=\"all_HGVs\")\n",
    "\n",
    "# 保存 folium 地图为 HTML 文件\n",
    "heatmap.save(\"heatmap.html\")\n",
    "\n"
   ]
  },
  {
   "cell_type": "code",
   "execution_count": 16,
   "metadata": {},
   "outputs": [],
   "source": [
    "## deperecated after this"
   ]
  },
  {
   "cell_type": "markdown",
   "metadata": {},
   "source": []
  },
  {
   "cell_type": "code",
   "execution_count": 9,
   "metadata": {},
   "outputs": [
    {
     "name": "stdout",
     "output_type": "stream",
     "text": [
      "Ceredigion\n",
      "Comhairle nan Eilean Siar\n",
      "Shropshire\n",
      "Torfaen\n",
      "Bolton\n",
      "Monmouthshire\n",
      "Derbyshire\n",
      "Cardiff\n",
      "Leicestershire\n",
      "Hartlepool\n",
      "Bury\n",
      "Neath Port Talbot\n",
      "Inverclyde\n",
      "Pembrokeshire\n",
      "Merton\n",
      "East Dunbartonshire\n",
      "Barnsley\n",
      "Greenwich\n",
      "North Ayrshire\n",
      "Cumberland\n",
      "West Sussex\n",
      "Dumfries & Galloway\n",
      "Salford\n",
      "Norfolk\n",
      "Kingston upon Thames\n",
      "Newham\n",
      "Hammersmith and Fulham\n",
      "Richmond upon Thames\n",
      "Flintshire\n",
      "Wigan\n",
      "South Gloucestershire\n",
      "Rutland\n",
      "Calderdale\n",
      "West Cheshire\n",
      "Argyll & Bute\n",
      "Harrow\n",
      "Havering\n",
      "Kirklees\n",
      "Westmorland and Furness\n",
      "Islington\n",
      "Doncaster\n",
      "Stockport\n",
      "Aberdeen City\n",
      "Merthyr Tydfil\n",
      "Oldham\n",
      "North Somerset\n",
      "Lewisham\n",
      "Cornwall excluding Isles of Scilly\n",
      "Windsor and Maidenhead\n",
      "Moray\n",
      "Middlesbrough\n",
      "Poole\n",
      "East Ayrshire\n",
      "Bracknell Forest\n",
      "Hillingdon\n",
      "Worcestershire\n",
      "Tameside\n",
      "Carmarthenshire\n",
      "Newport\n",
      "North East Lincolnshire\n",
      "Conwy\n",
      "Southwark\n",
      "North Tyneside\n",
      "Hackney\n",
      "Dundee City\n",
      "Sutton\n",
      "Newcastle upon Tyne\n",
      "Cambridgeshire\n",
      "Bath and North East Somerset\n",
      "Barking and Dagenham\n",
      "Denbighshire\n",
      "Hampshire\n",
      "Bridgend\n",
      "Blaenau Gwent\n",
      "Isles of Scilly\n",
      "South Tyneside\n",
      "Knowsley\n",
      "Highland\n",
      "Bedfordshire\n",
      "East Renfrewshire\n",
      "Waltham Forest\n",
      "Hounslow\n",
      "Reading\n",
      "Aberdeenshire\n",
      "Warwickshire\n",
      "Surrey\n",
      "Redbridge\n",
      "East Lothian\n",
      "North Lincolnshire\n",
      "Oxfordshire\n",
      "St. Helens\n",
      "Gateshead\n",
      "Wrexham\n",
      "The Vale of Glamorgan\n",
      "West Berkshire\n",
      "Rochdale\n",
      "Durham\n",
      "Renfrewshire\n",
      "East Cheshire\n",
      "Bournemouth\n",
      "Rotherham\n",
      "Trafford\n",
      "Stirling\n",
      "Northamptonshire\n",
      "Fife\n",
      "East Sussex\n",
      "Suffolk\n",
      "Buckinghamshire\n",
      "Gloucestershire\n",
      "Haringey\n",
      "Stockton-on-Tees\n",
      "Caerphilly\n",
      "Kensington and Chelsea\n",
      "Camden\n",
      "City of London\n",
      "Halton\n",
      "Angus\n",
      "Slough\n",
      "Hertfordshire\n",
      "Nottinghamshire\n",
      "Redcar and Cleveland\n",
      "Somerset\n",
      "Bexley\n",
      "Clackmannanshire\n",
      "Rhondda, Cynon, Taff\n",
      "Perth & Kinross\n",
      "Midlothian\n",
      "Wokingham\n",
      "West Dunbartonshire\n",
      "Staffordshire\n"
     ]
    }
   ],
   "source": [
    "print(*list(only_traffic),sep='\\n')"
   ]
  },
  {
   "cell_type": "code",
   "execution_count": 10,
   "metadata": {},
   "outputs": [
    {
     "name": "stdout",
     "output_type": "stream",
     "text": [
      "Breckland and South Norfolk\n",
      "East Lothian and Midlothian\n",
      "Merseyside\n",
      "Hackney and Newham\n",
      "Chorley and West Lancashire\n",
      "Redbridge and Waltham Forest\n",
      "Cheshire West and Chester\n",
      "North East\n",
      "South Teesside\n",
      "Surrey, East and West Sussex\n",
      "Gloucestershire CC\n",
      "East Surrey\n",
      "East Dunbartonshire, West Dunbartonshire, and Helensburgh and Lomond\n",
      "Central Hampshire\n",
      "Cornwall and Isles of Scilly\n",
      "Tyneside\n",
      "Extra-Regio\n",
      "Na h-Eileanan Siar\n",
      "East Ayrshire and North Ayrshire mainland\n",
      "Inverness and Nairn, Moray, Badenoch and Strathspey\n",
      "Kent Thames Gateway\n",
      "Somerset CC\n",
      "Leicestershire CC and Rutland\n",
      "Durham CC\n",
      "Gloucestershire, Wiltshire and Bath/Bristol Area\n",
      "East Sussex CC\n",
      "Perth and Kinross, and Stirling\n",
      "Bexley and Greenwich\n",
      "East Wales\n",
      "Conwy and Denbighshire\n",
      "Merton, Kingston upon Thames and Sutton\n",
      "Lancaster and Wyre\n",
      "South West Wales\n",
      "South West\n",
      "Southern Scotland\n",
      "Greater Manchester South West\n",
      "South Yorkshire\n",
      "Leicestershire, Rutland and Northamptonshire\n",
      "West Wales and The Valleys\n",
      "Gwent Valleys\n",
      "Scotland\n",
      "Buckinghamshire CC\n",
      "Aberdeen City and Aberdeenshire\n",
      "Shropshire CC\n",
      "West Cumbria\n",
      "North Hampshire\n",
      "Shropshire and Staffordshire\n",
      "Hampshire and Isle of Wight\n",
      "Oxfordshire CC\n",
      "Greater Manchester\n",
      "Kensington & Chelsea and Hammersmith & Fulham\n",
      "Cardiff and Vale of Glamorgan\n",
      "North Nottinghamshire\n",
      "Hartlepool and Stockton-on-Tees\n",
      "East Cumbria\n",
      "Essex Haven Gateway\n",
      "East Yorkshire and Northern Lincolnshire\n",
      "Hertfordshire CC\n",
      "Inner London - West\n",
      "Barnsley, Doncaster and Rotherham\n",
      "London\n",
      "Suffolk CC\n",
      "East Anglia\n",
      "Hounslow and Richmond upon Thames\n",
      "South Hampshire\n",
      "Wales\n",
      "England\n",
      "Devon CC\n",
      "Newry, Mourne and Down\n",
      "Caithness and Sutherland, and Ross and Cromarty\n",
      "Calderdale and Kirklees\n",
      "Dorset and Somerset\n",
      "Greater Manchester North East\n",
      "West Surrey\n",
      "Monmouthshire and Newport\n",
      "Inner London - East\n",
      "Angus and Dundee City\n",
      "Clackmannanshire and Fife\n",
      "Northumberland, and Tyne and Wear\n",
      "Yorkshire and The Humber\n",
      "Highlands and Islands\n",
      "South and West Derbyshire\n",
      "Haringey and Islington\n",
      "Inverclyde, East Renfrewshire, and Renfrewshire\n",
      "Outer London - South\n",
      "Cheshire East\n",
      "North Yorkshire CC\n",
      "Berkshire, Buckinghamshire and Oxfordshire\n",
      "West Central Scotland\n",
      "United Kingdom less Extra-Regio\n",
      "East Lancashire\n",
      "Greater Manchester South East\n",
      "Bedfordshire and Hertfordshire\n",
      "East Kent\n",
      "Herefordshire, Worcestershire and Warwickshire\n",
      "West Midlands\n",
      "Mid Kent\n",
      "Harrow and Hillingdon\n",
      "Greater Manchester North West\n",
      "United Kingdom\n",
      "South Nottinghamshire\n",
      "Derbyshire and Nottinghamshire\n",
      "Essex Thames Gateway\n",
      "Derry City and Strabane\n",
      "Mid and East Antrim\n",
      "North Eastern Scotland\n",
      "East Merseyside\n",
      "Norwich and East Norfolk\n",
      "West Sussex (North East)\n",
      "Heart of Essex\n",
      "East Midlands\n",
      "Ards and North Down\n",
      "Lochaber, Skye and Lochalsh, Arran and Cumbrae, and Argyll and Bute\n",
      "Staffordshire CC\n",
      "Northern Ireland\n",
      "Antrim and Newtownabbey\n",
      "Outer London - East and North East\n",
      "Outer London - West and North West\n",
      "Lisburn and Castlereagh\n",
      "Lewisham and Southwark\n",
      "Tees Valley and Durham\n",
      "West Sussex (South West)\n",
      "East Derbyshire\n",
      "Central Valleys\n",
      "North West\n",
      "Mid Lancashire\n",
      "Fermanagh and Omagh\n",
      "East\n",
      "Armagh City, Banbridge and Craigavon\n",
      "Causeway Coast and Glens\n",
      "West Essex\n",
      "Lincolnshire CC\n",
      "Belfast\n",
      "North and North East Lincolnshire\n",
      "Cambridgeshire CC\n",
      "Flintshire and Wrexham\n",
      "West Yorkshire\n",
      "Warwickshire CC\n",
      "South East\n",
      "Bridgend and Neath Port Talbot\n",
      "Dumfries and Galloway\n",
      "Bath and North East Somerset, North Somerset and South Gloucestershire\n",
      "Berkshire\n",
      "Worcestershire CC\n",
      "Eastern Scotland\n",
      "Camden and City of London\n",
      "Barking & Dagenham and Havering\n",
      "Mid Ulster\n",
      "West Kent\n",
      "North and West Norfolk\n"
     ]
    }
   ],
   "source": [
    "print(*list(only_eco),sep='\\n')"
   ]
  },
  {
   "cell_type": "code",
   "execution_count": null,
   "metadata": {},
   "outputs": [
    {
     "name": "stdout",
     "output_type": "stream",
     "text": [
      "成功匹配的城市数量: 144\n"
     ]
    }
   ],
   "source": [
    "from rapidfuzz import process\n",
    "\n",
    "# 预处理城市名称（去除空格，转换小写）\n",
    "only_traffic_cleaned = [name.strip().lower() for name in only_traffic]\n",
    "only_eco_cleaned = [name.strip().lower() for name in only_eco]\n",
    "\n",
    "# 进行模糊匹配\n",
    "city_mapping = {}\n",
    "\n",
    "for name_traffic in only_traffic_cleaned:\n",
    "    result = process.extractOne(name_traffic, only_eco_cleaned, score_cutoff=80)\n",
    "    if result:\n",
    "        match, score, _ = result\n",
    "        city_mapping[name_traffic] = match\n",
    "\n",
    "# 替换 DataFrame 里的城市名称（确保大小写一致）\n",
    "df_traffic[\"local_authority_name\"] = df_traffic[\"local_authority_name\"].str.lower().replace(city_mapping)\n",
    "\n",
    "# 统计匹配结果\n",
    "matched_cities = set(df_traffic[\"local_authority_name\"].unique()) & set(df_eco[\"Region name\"].str.lower().unique())\n",
    "print(f\"成功匹配的城市数量: {len(matched_cities)}\")\n",
    "\n"
   ]
  },
  {
   "cell_type": "code",
   "execution_count": null,
   "metadata": {},
   "outputs": [
    {
     "name": "stdout",
     "output_type": "stream",
     "text": [
      "+------------------------------------+------------------------------------------------------------------------+\n",
      "|            Traffic Name            |                         Matched Economic Name                          |\n",
      "+------------------------------------+------------------------------------------------------------------------+\n",
      "|             cumberland             |                   northumberland, and tyne and wear                    |\n",
      "|      westmorland and furness       |                east yorkshire and northern lincolnshire                |\n",
      "|           staffordshire            |                            staffordshire cc                            |\n",
      "|       the vale of glamorgan        |                             heart of essex                             |\n",
      "|           aberdeen city            |                    aberdeen city and aberdeenshire                     |\n",
      "|              rutland               |                     leicestershire cc and rutland                      |\n",
      "|           north somerset           | bath and north east somerset, north somerset and south gloucestershire |\n",
      "|           monmouthshire            |                       monmouthshire and newport                        |\n",
      "|              hackney               |                           hackney and newham                           |\n",
      "|             rotherham              |                   barnsley, doncaster and rotherham                    |\n",
      "|               newham               |                           hackney and newham                           |\n",
      "|              havering              |                    barking & dagenham and havering                     |\n",
      "|               merton               |                merton, kingston upon thames and sutton                 |\n",
      "|              suffolk               |                               suffolk cc                               |\n",
      "|           north tyneside           |                                tyneside                                |\n",
      "|           worcestershire           |                           worcestershire cc                            |\n",
      "|             shropshire             |                             shropshire cc                              |\n",
      "|           south tyneside           |                                tyneside                                |\n",
      "|        dumfries & galloway         |                         dumfries and galloway                          |\n",
      "|             midlothian             |                      east lothian and midlothian                       |\n",
      "|            denbighshire            |                         conwy and denbighshire                         |\n",
      "|              newport               |                       monmouthshire and newport                        |\n",
      "|        richmond upon thames        |                   hounslow and richmond upon thames                    |\n",
      "|          stockton-on-tees          |                    hartlepool and stockton-on-tees                     |\n",
      "|               camden               |                       camden and city of london                        |\n",
      "|              bridgend              |                     bridgend and neath port talbot                     |\n",
      "|              barnsley              |                   barnsley, doncaster and rotherham                    |\n",
      "|                fife                |                       clackmannanshire and fife                        |\n",
      "|             derbyshire             |                       south and west derbyshire                        |\n",
      "|          gloucestershire           |                           gloucestershire cc                           |\n",
      "|               surrey               |                              east surrey                               |\n",
      "|           hertfordshire            |                            hertfordshire cc                            |\n",
      "|              highland              |                         highlands and islands                          |\n",
      "|       kensington and chelsea       |                   barnsley, doncaster and rotherham                    |\n",
      "|              wrexham               |                         flintshire and wrexham                         |\n",
      "|           argyll & bute            |             kensington & chelsea and hammersmith & fulham              |\n",
      "|           north ayrshire           |               east ayrshire and north ayrshire mainland                |\n",
      "|             redbridge              |                      redbridge and waltham forest                      |\n",
      "|      north east lincolnshire       |                   north and north east lincolnshire                    |\n",
      "|             calderdale             |                        calderdale and kirklees                         |\n",
      "|        newcastle upon tyne         |                   hounslow and richmond upon thames                    |\n",
      "|               durham               |                         tees valley and durham                         |\n",
      "|             islington              |                         haringey and islington                         |\n",
      "|        kingston upon thames        |                merton, kingston upon thames and sutton                 |\n",
      "|            warwickshire            |                            warwickshire cc                             |\n",
      "|       windsor and maidenhead       |                   barnsley, doncaster and rotherham                    |\n",
      "|        east dunbartonshire         |  east dunbartonshire, west dunbartonshire, and helensburgh and lomond  |\n",
      "|           west berkshire           |                               berkshire                                |\n",
      "|              kirklees              |                        calderdale and kirklees                         |\n",
      "|               sutton               |                merton, kingston upon thames and sutton                 |\n",
      "|    bath and north east somerset    | bath and north east somerset, north somerset and south gloucestershire |\n",
      "|          perth & kinross           |                    perth and kinross, and stirling                     |\n",
      "|             doncaster              |                   barnsley, doncaster and rotherham                    |\n",
      "|         neath port talbot          |                     bridgend and neath port talbot                     |\n",
      "|              somerset              |                              somerset cc                               |\n",
      "|            oxfordshire             |                             oxfordshire cc                             |\n",
      "|             inverclyde             |            inverclyde, east renfrewshire, and renfrewshire             |\n",
      "|           cambridgeshire           |                           cambridgeshire cc                            |\n",
      "|          northamptonshire          |              leicestershire, rutland and northamptonshire              |\n",
      "|            dundee city             |                         angus and dundee city                          |\n",
      "|             hampshire              |                           central hampshire                            |\n",
      "|             hartlepool             |                    hartlepool and stockton-on-tees                     |\n",
      "|           city of london           |                       camden and city of london                        |\n",
      "|             greenwich              |                          bexley and greenwich                          |\n",
      "|            bedfordshire            |                     bedfordshire and hertfordshire                     |\n",
      "|           waltham forest           |                      redbridge and waltham forest                      |\n",
      "|         east renfrewshire          |            inverclyde, east renfrewshire, and renfrewshire             |\n",
      "|       south gloucestershire        | bath and north east somerset, north somerset and south gloucestershire |\n",
      "|              norfolk               |                        norwich and east norfolk                        |\n",
      "|          isles of scilly           |                      cornwall and isles of scilly                      |\n",
      "|            west sussex             |                        west sussex (south west)                        |\n",
      "|              haringey              |                         haringey and islington                         |\n",
      "|       hammersmith and fulham       |                   barnsley, doncaster and rotherham                    |\n",
      "|           east cheshire            |                             cheshire east                              |\n",
      "|        barking and dagenham        |                   barnsley, doncaster and rotherham                    |\n",
      "|        west dunbartonshire         |  east dunbartonshire, west dunbartonshire, and helensburgh and lomond  |\n",
      "|              stirling              |                    perth and kinross, and stirling                     |\n",
      "|               bexley               |                          bexley and greenwich                          |\n",
      "|             hillingdon             |                         harrow and hillingdon                          |\n",
      "|              cardiff               |                     cardiff and vale of glamorgan                      |\n",
      "|         north lincolnshire         |                               north west                               |\n",
      "|              lewisham              |                         lewisham and southwark                         |\n",
      "|           west cheshire            |                             cheshire east                              |\n",
      "|          bracknell forest          |                      redbridge and waltham forest                      |\n",
      "|           aberdeenshire            |                    aberdeen city and aberdeenshire                     |\n",
      "|          nottinghamshire           |                         north nottinghamshire                          |\n",
      "|        redcar and cleveland        |                   barnsley, doncaster and rotherham                    |\n",
      "|            renfrewshire            |            inverclyde, east renfrewshire, and renfrewshire             |\n",
      "|              hounslow              |                   hounslow and richmond upon thames                    |\n",
      "|               angus                |                         angus and dundee city                          |\n",
      "|             flintshire             |                         flintshire and wrexham                         |\n",
      "|           leicestershire           |                     leicestershire cc and rutland                      |\n",
      "|            east lothian            |                      east lothian and midlothian                       |\n",
      "|               conwy                |                         conwy and denbighshire                         |\n",
      "|          clackmannanshire          |                       clackmannanshire and fife                        |\n",
      "|             southwark              |                         lewisham and southwark                         |\n",
      "|               harrow               |                         harrow and hillingdon                          |\n",
      "|           east ayrshire            |               east ayrshire and north ayrshire mainland                |\n",
      "|          buckinghamshire           |                           buckinghamshire cc                           |\n",
      "| cornwall excluding isles of scilly |                      cornwall and isles of scilly                      |\n",
      "|            east sussex             |                             east sussex cc                             |\n",
      "+------------------------------------+------------------------------------------------------------------------+\n"
     ]
    }
   ],
   "source": [
    "from prettytable import PrettyTable\n",
    "\n",
    "table = PrettyTable([\"Traffic Name\", \"Matched Economic Name\"])\n",
    "for traffic, eco in city_mapping.items():\n",
    "    table.add_row([traffic, eco])\n",
    "\n",
    "print(table.get_string(max_width=80))  # 限制最大宽度，防止超出屏幕\n"
   ]
  },
  {
   "cell_type": "code",
   "execution_count": null,
   "metadata": {},
   "outputs": [
    {
     "name": "stdout",
     "output_type": "stream",
     "text": [
      "未匹配的交通数据城市173个: {'wiltshire', 'inverclyde, east renfrewshire, and renfrewshire', 'trafford', 'lambeth', 'tower hamlets', 'wolverhampton', 'hounslow and richmond upon thames', 'barnet', 'swindon', 'blaenau gwent', 'ceredigion', 'leicester', 'somerset cc', 'west lothian', 'bournemouth, christchurch and poole', 'peterborough', 'wokingham', 'leicestershire cc and rutland', 'warwickshire cc', 'west sussex (south west)', 'kent', 'suffolk cc', 'st. helens', 'leicestershire, rutland and northamptonshire', 'cheshire', 'lewisham and southwark', 'cheshire east', 'torbay', 'telford and wrekin', 'rochdale', 'blackburn with darwen', 'swansea', 'east ayrshire and north ayrshire mainland', 'luton', 'tameside', 'highlands and islands', 'torfaen', 'caerphilly', 'shetland islands', 'westminster', 'sefton', 'bolton', 'stockport', 'west northamptonshire', 'bedfordshire and hertfordshire', 'cardiff and vale of glamorgan', 'powys', 'sandwell', 'norwich and east norfolk', 'thurrock', 'wandsworth', 'central hampshire', 'north yorkshire', 'bromley', 'heart of essex', 'camden and city of london', 'oldham', 'wigan', 'bradford', 'east lothian and midlothian', 'sunderland', 'isle of wight', 'harrow and hillingdon', 'barnsley, doncaster and rotherham', 'conwy and denbighshire', 'north west', 'city of edinburgh', 'sheffield', 'middlesbrough', 'cambridgeshire cc', 'gateshead', 'reading', 'north nottinghamshire', 'stoke-on-trent', 'salford', 'shropshire cc', 'walsall', 'tees valley and durham', 'merthyr tydfil', 'devon', 'cumbria', 'haringey and islington', 'gwynedd', 'wirral', 'monmouthshire and newport', 'glasgow city', 'bridgend and neath port talbot', 'dorset', 'plymouth', 'comhairle nan eilean siar', 'gloucestershire cc', 'poole', 'kingston upon hull, city of', 'perth and kinross, and stirling', 'east sussex cc', 'dudley', 'clackmannanshire and fife', 'bournemouth', 'east dunbartonshire, west dunbartonshire, and helensburgh and lomond', 'medway', 'orkney islands', 'southend-on-sea', 'south and west derbyshire', 'bexley and greenwich', 'north and north east lincolnshire', 'birmingham', 'east surrey', 'oxfordshire cc', 'barking & dagenham and havering', 'enfield', 'brent', 'aberdeen city and aberdeenshire', 'bury', 'herefordshire, county of', 'nottingham', 'wakefield', 'carmarthenshire', 'kensington & chelsea and hammersmith & fulham', 'southampton', 'staffordshire cc', 'york', 'hartlepool and stockton-on-tees', 'halton', 'cornwall and isles of scilly', 'manchester', 'pembrokeshire', 'leeds', 'warrington', 'lincolnshire', 'milton keynes', 'calderdale and kirklees', 'northumberland', 'portsmouth', 'bath and north east somerset, north somerset and south gloucestershire', 'merton, kingston upon thames and sutton', 'ealing', 'tyneside', 'knowsley', 'worcestershire cc', 'derby', 'coventry', 'moray', 'bristol, city of', 'darlington', 'buckinghamshire cc', 'lancashire', 'east yorkshire and northern lincolnshire', 'liverpool', 'south lanarkshire', 'essex', 'angus and dundee city', 'hackney and newham', 'brighton and hove', 'isle of anglesey', 'south ayrshire', 'north lanarkshire', 'berkshire', 'rhondda, cynon, taff', 'dumfries and galloway', 'north northamptonshire', 'blackpool', 'central bedfordshire', 'redbridge and waltham forest', 'solihull', 'scottish borders', 'slough', 'east riding of yorkshire', 'croydon', 'falkirk', 'bedford', 'flintshire and wrexham', 'hertfordshire cc', 'northumberland, and tyne and wear'}\n",
      "未匹配的经济数据城市233个: {'Liverpool', 'North Nottinghamshire', 'Hertfordshire CC', 'South West Wales', 'Buckinghamshire CC', 'Tyneside', 'Torbay', 'North West', 'Swansea', 'Kent', 'Leicestershire CC and Rutland', 'Berkshire', 'Bedford', 'Shropshire and Staffordshire', 'Sunderland', 'Wolverhampton', 'Wakefield', 'Haringey and Islington', 'East Wales', 'Mid Ulster', 'Cornwall and Isles of Scilly', 'Gloucestershire CC', 'South and West Derbyshire', 'Dumfries and Galloway', 'Fermanagh and Omagh', 'South East', 'Bradford', 'Brighton and Hove', 'East Lancashire', 'Wiltshire', 'Greater Manchester South East', 'Birmingham', 'Merseyside', 'Tees Valley and Durham', 'Barnsley, Doncaster and Rotherham', 'Kent Thames Gateway', 'North Yorkshire', 'Perth and Kinross, and Stirling', 'Thurrock', 'Falkirk', 'Leeds', 'Ards and North Down', 'York', 'Central Hampshire', 'Cheshire', 'West Midlands', 'Hampshire and Isle of Wight', 'Inner London - West', 'Newry, Mourne and Down', 'Stoke-on-Trent', 'Lewisham and Southwark', 'Herefordshire, County of', 'Isle of Wight', 'Bridgend and Neath Port Talbot', 'Greater Manchester North West', 'Medway', 'Norwich and East Norfolk', 'Luton', 'East Yorkshire and Northern Lincolnshire', 'Outer London - East and North East', 'West Sussex (South West)', 'Staffordshire CC', 'Plymouth', 'Dudley', 'West Cumbria', 'Sefton', 'Somerset CC', 'Bath and North East Somerset, North Somerset and South Gloucestershire', 'East Anglia', 'Hackney and Newham', 'Warrington', 'East Riding of Yorkshire', 'South Lanarkshire', 'Belfast', 'Oxfordshire CC', 'Northumberland', 'Lancaster and Wyre', 'North East', 'Derbyshire and Nottinghamshire', 'Lincolnshire CC', 'Wandsworth', 'Durham CC', 'Central Bedfordshire', 'Portsmouth', 'East Surrey', 'Flintshire and Wrexham', 'Angus and Dundee City', 'Greater Manchester', 'Cheshire West and Chester', 'South Ayrshire', 'East Kent', 'Northern Ireland', 'Cardiff and Vale of Glamorgan', 'North Eastern Scotland', 'Suffolk CC', 'Westminster', 'Conwy and Denbighshire', 'South Teesside', 'Blackpool', 'Manchester', 'West Kent', 'Berkshire, Buckinghamshire and Oxfordshire', 'Caithness and Sutherland, and Ross and Cromarty', 'Tower Hamlets', 'Harrow and Hillingdon', 'Na h-Eileanan Siar', 'Blackburn with Darwen', 'Derby', 'Yorkshire and The Humber', 'Kingston upon Hull, City of', 'Walsall', 'Lisburn and Castlereagh', 'Bexley and Greenwich', 'Peterborough', 'Gwent Valleys', 'North Lanarkshire', 'Highlands and Islands', 'Greater Manchester North East', 'Lincolnshire', 'Worcestershire CC', 'Bromley', 'Bournemouth, Christchurch and Poole', 'Armagh City, Banbridge and Craigavon', 'South West', 'South Hampshire', 'Scottish Borders', 'Powys', 'Leicester', 'East Ayrshire and North Ayrshire mainland', 'Derry City and Strabane', 'City of Edinburgh', 'United Kingdom', 'Wirral', 'Southend-on-Sea', 'Inverness and Nairn, Moray, Badenoch and Strathspey', 'West Sussex (North East)', 'Barnet', 'North Northamptonshire', 'Kensington & Chelsea and Hammersmith & Fulham', 'Greater Manchester South West', 'Sandwell', 'Antrim and Newtownabbey', 'Inner London - East', 'Cumbria', 'Hounslow and Richmond upon Thames', 'North Yorkshire CC', 'East Cumbria', 'Coventry', 'East Derbyshire', 'Shetland Islands', 'Mid and East Antrim', 'Glasgow City', 'Gwynedd', 'Dorset', 'Eastern Scotland', 'Ealing', 'Isle of Anglesey', 'Wales', 'Scotland', 'Herefordshire, Worcestershire and Warwickshire', 'Devon', 'Swindon', 'North Hampshire', 'Lambeth', 'Clackmannanshire and Fife', 'Essex Thames Gateway', 'East Lothian and Midlothian', 'West Central Scotland', 'Redbridge and Waltham Forest', 'South Nottinghamshire', 'East Merseyside', 'Lochaber, Skye and Lochalsh, Arran and Cumbrae, and Argyll and Bute', 'West Northamptonshire', 'North and North East Lincolnshire', 'Nottingham', 'Gloucestershire, Wiltshire and Bath/Bristol Area', 'Mid Lancashire', 'Barking & Dagenham and Havering', 'Surrey, East and West Sussex', 'Essex', 'Camden and City of London', 'Telford and Wrekin', 'Southern Scotland', 'West Essex', 'West Surrey', 'Bristol, City of', 'Outer London - South', 'Milton Keynes', 'Cambridgeshire CC', 'South Yorkshire', 'Sheffield', 'Croydon', 'East Sussex CC', 'Devon CC', 'Inverclyde, East Renfrewshire, and Renfrewshire', 'Northumberland, and Tyne and Wear', 'England', 'Hartlepool and Stockton-on-Tees', 'Cheshire East', 'Darlington', 'Aberdeen City and Aberdeenshire', 'East Dunbartonshire, West Dunbartonshire, and Helensburgh and Lomond', 'Chorley and West Lancashire', 'East', 'Essex Haven Gateway', 'London', 'Enfield', 'Dorset and Somerset', 'Central Valleys', 'Solihull', 'Calderdale and Kirklees', 'West Lothian', 'Merton, Kingston upon Thames and Sutton', 'West Wales and The Valleys', 'Southampton', 'Shropshire CC', 'Leicestershire, Rutland and Northamptonshire', 'United Kingdom less Extra-Regio', 'Breckland and South Norfolk', 'Causeway Coast and Glens', 'Heart of Essex', 'Extra-Regio', 'West Yorkshire', 'Lancashire', 'North and West Norfolk', 'East Midlands', 'Warwickshire CC', 'Bedfordshire and Hertfordshire', 'Mid Kent', 'Orkney Islands', 'Monmouthshire and Newport', 'Outer London - West and North West', 'Brent'}\n"
     ]
    }
   ],
   "source": [
    "# 获取匹配后的城市列表\n",
    "traffic_cities_after = set(df_traffic[\"local_authority_name\"].unique())\n",
    "eco_cities_after = set(df_eco[\"Region name\"].unique())\n",
    "\n",
    "# 仍然未匹配的城市\n",
    "unmatched_traffic = traffic_cities_after - eco_cities_after\n",
    "unmatched_eco = eco_cities_after - traffic_cities_after\n",
    "\n",
    "print(f\"未匹配的交通数据城市{len(unmatched_traffic)}个:\", unmatched_traffic)\n",
    "print(f\"未匹配的经济数据城市{len(unmatched_eco)}个:\", unmatched_eco)\n",
    "\n"
   ]
  },
  {
   "cell_type": "code",
   "execution_count": null,
   "metadata": {},
   "outputs": [],
   "source": [
    "\n"
   ]
  },
  {
   "cell_type": "code",
   "execution_count": null,
   "metadata": {},
   "outputs": [],
   "source": []
  },
  {
   "cell_type": "code",
   "execution_count": null,
   "metadata": {},
   "outputs": [],
   "source": []
  }
 ],
 "metadata": {
  "kernelspec": {
   "display_name": "Python 3",
   "language": "python",
   "name": "python3"
  },
  "language_info": {
   "codemirror_mode": {
    "name": "ipython",
    "version": 3
   },
   "file_extension": ".py",
   "mimetype": "text/x-python",
   "name": "python",
   "nbconvert_exporter": "python",
   "pygments_lexer": "ipython3",
   "version": "3.12.1"
  }
 },
 "nbformat": 4,
 "nbformat_minor": 2
}
