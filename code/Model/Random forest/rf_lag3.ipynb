{
 "cells": [
  {
   "metadata": {
    "collapsed": true,
    "ExecuteTime": {
     "end_time": "2025-03-11T22:34:39.431304Z",
     "start_time": "2025-03-11T22:34:39.423578Z"
    }
   },
   "cell_type": "code",
   "source": [
    "import os.path\n",
    "import os\n",
    "os.chdir(\"../\")\n",
    "%run config.ipynb\n",
    "import numpy as np\n",
    "from sklearn.ensemble import RandomForestRegressor\n",
    "from sklearn.preprocessing import StandardScaler\n",
    "from sklearn.model_selection import RandomizedSearchCV\n",
    "import pandas as pd\n",
    "from sklearn.model_selection import train_test_split\n",
    "from sklearn.model_selection import GridSearchCV\n",
    "import matplotlib.pyplot as plt\n",
    "from sklearn.metrics import mean_squared_error, r2_score, mean_absolute_percentage_error, mean_absolute_error"
   ],
   "id": "initial_id",
   "outputs": [],
   "execution_count": 28
  },
  {
   "metadata": {
    "ExecuteTime": {
     "end_time": "2025-03-11T22:34:39.450495Z",
     "start_time": "2025-03-11T22:34:39.443063Z"
    }
   },
   "cell_type": "code",
   "source": [
    "eTraffic = pd.read_csv(os.path.join(root, 'eTraffic_lag3.csv'))\n",
    "print(eTraffic.shape)\n",
    "print(len(eTraffic['local_authority_name'].unique()))"
   ],
   "id": "89d96ed5fed0a44b",
   "outputs": [
    {
     "name": "stdout",
     "output_type": "stream",
     "text": [
      "(1273, 17)\n",
      "67\n"
     ]
    }
   ],
   "execution_count": 29
  },
  {
   "metadata": {
    "ExecuteTime": {
     "end_time": "2025-03-11T22:34:39.483904Z",
     "start_time": "2025-03-11T22:34:39.476674Z"
    }
   },
   "cell_type": "code",
   "source": "eTraffic.info()",
   "id": "19bb1c99d18e70d6",
   "outputs": [
    {
     "name": "stdout",
     "output_type": "stream",
     "text": [
      "<class 'pandas.core.frame.DataFrame'>\n",
      "RangeIndex: 1273 entries, 0 to 1272\n",
      "Data columns (total 17 columns):\n",
      " #   Column                        Non-Null Count  Dtype  \n",
      "---  ------                        --------------  -----  \n",
      " 0   local_authority_name          1273 non-null   object \n",
      " 1   year                          1273 non-null   int64  \n",
      " 2   pedal_cycles                  1273 non-null   float64\n",
      " 3   two_wheeled_motor_vehicles    1273 non-null   float64\n",
      " 4   cars_and_taxis                1273 non-null   float64\n",
      " 5   buses_and_coaches             1273 non-null   float64\n",
      " 6   LGVs                          1273 non-null   float64\n",
      " 7   HGVs_2_rigid_axle             1273 non-null   float64\n",
      " 8   HGVs_3_rigid_axle             1273 non-null   float64\n",
      " 9   HGVs_4_or_more_rigid_axle     1273 non-null   float64\n",
      " 10  HGVs_3_or_4_articulated_axle  1273 non-null   float64\n",
      " 11  HGVs_5_articulated_axle       1273 non-null   float64\n",
      " 12  HGVs_6_articulated_axle       1273 non-null   float64\n",
      " 13  all_HGVs                      1273 non-null   float64\n",
      " 14  all_motor_vehicles            1273 non-null   float64\n",
      " 15  GDP                           1273 non-null   float64\n",
      " 16  local_authority_name_encoded  1273 non-null   int64  \n",
      "dtypes: float64(14), int64(2), object(1)\n",
      "memory usage: 169.2+ KB\n"
     ]
    }
   ],
   "execution_count": 30
  },
  {
   "metadata": {
    "ExecuteTime": {
     "end_time": "2025-03-11T22:34:39.528430Z",
     "start_time": "2025-03-11T22:34:39.518294Z"
    }
   },
   "cell_type": "code",
   "source": "eTraffic.head()",
   "id": "aad606008d5e0c83",
   "outputs": [
    {
     "data": {
      "text/plain": [
       "  local_authority_name  year  pedal_cycles  two_wheeled_motor_vehicles  \\\n",
       "0               Barnet  2001        1602.0                     15907.0   \n",
       "1               Barnet  2002        1895.0                     16269.0   \n",
       "2               Barnet  2003        1393.0                     15282.0   \n",
       "3               Barnet  2004        1626.0                     11552.0   \n",
       "4               Barnet  2005        1919.0                     15356.0   \n",
       "\n",
       "   cars_and_taxis  buses_and_coaches      LGVs  HGVs_2_rigid_axle  \\\n",
       "0        735493.0            11038.0  129137.0            23599.0   \n",
       "1        726567.0            12326.0  127527.0            22825.0   \n",
       "2        774985.0            10245.0  121795.0            21971.0   \n",
       "3        585697.0            10064.0   96435.0            14035.0   \n",
       "4        731251.0            12411.0  126300.0            19454.0   \n",
       "\n",
       "   HGVs_3_rigid_axle  HGVs_4_or_more_rigid_axle  HGVs_3_or_4_articulated_axle  \\\n",
       "0             2599.0                     3235.0                        2498.0   \n",
       "1             2706.0                     3184.0                        2480.0   \n",
       "2             3013.0                     3960.0                        2053.0   \n",
       "3             2158.0                     3163.0                        1773.0   \n",
       "4             3301.0                     3380.0                        2182.0   \n",
       "\n",
       "   HGVs_5_articulated_axle  HGVs_6_articulated_axle  all_HGVs  \\\n",
       "0                   3951.0                   3184.0   39066.0   \n",
       "1                   3790.0                   3362.0   38347.0   \n",
       "2                   4002.0                   3305.0   38304.0   \n",
       "3                   2725.0                   2198.0   26052.0   \n",
       "4                   4052.0                   3822.0   36192.0   \n",
       "\n",
       "   all_motor_vehicles   GDP  local_authority_name_encoded  \n",
       "0            930641.0  66.5                             0  \n",
       "1            921036.0  68.5                             0  \n",
       "2            960611.0  70.1                             0  \n",
       "3            729800.0  71.4                             0  \n",
       "4            921510.0  73.9                             0  "
      ],
      "text/html": [
       "<div>\n",
       "<style scoped>\n",
       "    .dataframe tbody tr th:only-of-type {\n",
       "        vertical-align: middle;\n",
       "    }\n",
       "\n",
       "    .dataframe tbody tr th {\n",
       "        vertical-align: top;\n",
       "    }\n",
       "\n",
       "    .dataframe thead th {\n",
       "        text-align: right;\n",
       "    }\n",
       "</style>\n",
       "<table border=\"1\" class=\"dataframe\">\n",
       "  <thead>\n",
       "    <tr style=\"text-align: right;\">\n",
       "      <th></th>\n",
       "      <th>local_authority_name</th>\n",
       "      <th>year</th>\n",
       "      <th>pedal_cycles</th>\n",
       "      <th>two_wheeled_motor_vehicles</th>\n",
       "      <th>cars_and_taxis</th>\n",
       "      <th>buses_and_coaches</th>\n",
       "      <th>LGVs</th>\n",
       "      <th>HGVs_2_rigid_axle</th>\n",
       "      <th>HGVs_3_rigid_axle</th>\n",
       "      <th>HGVs_4_or_more_rigid_axle</th>\n",
       "      <th>HGVs_3_or_4_articulated_axle</th>\n",
       "      <th>HGVs_5_articulated_axle</th>\n",
       "      <th>HGVs_6_articulated_axle</th>\n",
       "      <th>all_HGVs</th>\n",
       "      <th>all_motor_vehicles</th>\n",
       "      <th>GDP</th>\n",
       "      <th>local_authority_name_encoded</th>\n",
       "    </tr>\n",
       "  </thead>\n",
       "  <tbody>\n",
       "    <tr>\n",
       "      <th>0</th>\n",
       "      <td>Barnet</td>\n",
       "      <td>2001</td>\n",
       "      <td>1602.0</td>\n",
       "      <td>15907.0</td>\n",
       "      <td>735493.0</td>\n",
       "      <td>11038.0</td>\n",
       "      <td>129137.0</td>\n",
       "      <td>23599.0</td>\n",
       "      <td>2599.0</td>\n",
       "      <td>3235.0</td>\n",
       "      <td>2498.0</td>\n",
       "      <td>3951.0</td>\n",
       "      <td>3184.0</td>\n",
       "      <td>39066.0</td>\n",
       "      <td>930641.0</td>\n",
       "      <td>66.5</td>\n",
       "      <td>0</td>\n",
       "    </tr>\n",
       "    <tr>\n",
       "      <th>1</th>\n",
       "      <td>Barnet</td>\n",
       "      <td>2002</td>\n",
       "      <td>1895.0</td>\n",
       "      <td>16269.0</td>\n",
       "      <td>726567.0</td>\n",
       "      <td>12326.0</td>\n",
       "      <td>127527.0</td>\n",
       "      <td>22825.0</td>\n",
       "      <td>2706.0</td>\n",
       "      <td>3184.0</td>\n",
       "      <td>2480.0</td>\n",
       "      <td>3790.0</td>\n",
       "      <td>3362.0</td>\n",
       "      <td>38347.0</td>\n",
       "      <td>921036.0</td>\n",
       "      <td>68.5</td>\n",
       "      <td>0</td>\n",
       "    </tr>\n",
       "    <tr>\n",
       "      <th>2</th>\n",
       "      <td>Barnet</td>\n",
       "      <td>2003</td>\n",
       "      <td>1393.0</td>\n",
       "      <td>15282.0</td>\n",
       "      <td>774985.0</td>\n",
       "      <td>10245.0</td>\n",
       "      <td>121795.0</td>\n",
       "      <td>21971.0</td>\n",
       "      <td>3013.0</td>\n",
       "      <td>3960.0</td>\n",
       "      <td>2053.0</td>\n",
       "      <td>4002.0</td>\n",
       "      <td>3305.0</td>\n",
       "      <td>38304.0</td>\n",
       "      <td>960611.0</td>\n",
       "      <td>70.1</td>\n",
       "      <td>0</td>\n",
       "    </tr>\n",
       "    <tr>\n",
       "      <th>3</th>\n",
       "      <td>Barnet</td>\n",
       "      <td>2004</td>\n",
       "      <td>1626.0</td>\n",
       "      <td>11552.0</td>\n",
       "      <td>585697.0</td>\n",
       "      <td>10064.0</td>\n",
       "      <td>96435.0</td>\n",
       "      <td>14035.0</td>\n",
       "      <td>2158.0</td>\n",
       "      <td>3163.0</td>\n",
       "      <td>1773.0</td>\n",
       "      <td>2725.0</td>\n",
       "      <td>2198.0</td>\n",
       "      <td>26052.0</td>\n",
       "      <td>729800.0</td>\n",
       "      <td>71.4</td>\n",
       "      <td>0</td>\n",
       "    </tr>\n",
       "    <tr>\n",
       "      <th>4</th>\n",
       "      <td>Barnet</td>\n",
       "      <td>2005</td>\n",
       "      <td>1919.0</td>\n",
       "      <td>15356.0</td>\n",
       "      <td>731251.0</td>\n",
       "      <td>12411.0</td>\n",
       "      <td>126300.0</td>\n",
       "      <td>19454.0</td>\n",
       "      <td>3301.0</td>\n",
       "      <td>3380.0</td>\n",
       "      <td>2182.0</td>\n",
       "      <td>4052.0</td>\n",
       "      <td>3822.0</td>\n",
       "      <td>36192.0</td>\n",
       "      <td>921510.0</td>\n",
       "      <td>73.9</td>\n",
       "      <td>0</td>\n",
       "    </tr>\n",
       "  </tbody>\n",
       "</table>\n",
       "</div>"
      ]
     },
     "execution_count": 31,
     "metadata": {},
     "output_type": "execute_result"
    }
   ],
   "execution_count": 31
  },
  {
   "metadata": {},
   "cell_type": "markdown",
   "source": "## Select Feature and Model",
   "id": "8019445ef7c51f57"
  },
  {
   "metadata": {
    "ExecuteTime": {
     "end_time": "2025-03-11T22:34:39.590242Z",
     "start_time": "2025-03-11T22:34:39.587160Z"
    }
   },
   "cell_type": "code",
   "source": [
    "eTraffic = eTraffic[eTraffic['year'] < 2020]\n",
    "print(eTraffic['year'].min(), eTraffic['year'].max())\n",
    "print(eTraffic.shape)"
   ],
   "id": "f9c91e8c91dbb1fd",
   "outputs": [
    {
     "name": "stdout",
     "output_type": "stream",
     "text": [
      "2001 2019\n",
      "(1273, 17)\n"
     ]
    }
   ],
   "execution_count": 32
  },
  {
   "metadata": {
    "ExecuteTime": {
     "end_time": "2025-03-11T22:34:39.633568Z",
     "start_time": "2025-03-11T22:34:39.629938Z"
    }
   },
   "cell_type": "code",
   "source": [
    "X = eTraffic.drop(columns=['GDP', 'year', 'local_authority_name', 'local_authority_name_encoded'])\n",
    "y = eTraffic['GDP']\n",
    "print(X.shape, y.shape)"
   ],
   "id": "68a23baa6ec2e7ff",
   "outputs": [
    {
     "name": "stdout",
     "output_type": "stream",
     "text": [
      "(1273, 13) (1273,)\n"
     ]
    }
   ],
   "execution_count": 33
  },
  {
   "metadata": {
    "ExecuteTime": {
     "end_time": "2025-03-11T22:34:39.647600Z",
     "start_time": "2025-03-11T22:34:39.643807Z"
    }
   },
   "cell_type": "code",
   "source": "X_train, X_test, y_train, y_test = train_test_split(X, y, test_size=0.2, random_state=18)",
   "id": "56690867afcb3018",
   "outputs": [],
   "execution_count": 34
  },
  {
   "metadata": {
    "ExecuteTime": {
     "end_time": "2025-03-11T22:45:28.897319Z",
     "start_time": "2025-03-11T22:45:06.253766Z"
    }
   },
   "cell_type": "code",
   "source": [
    "param_dist = {\n",
    "    'n_estimators': np.arange(20, 100, step=5),\n",
    "    'max_depth': np.arange(3, 12, step=1),\n",
    "    'min_samples_split': np.arange(3, 12, step=1),\n",
    "    'min_samples_leaf': np.arange(2, 12, step=1),\n",
    "    'bootstrap': [True, False]\n",
    "}\n",
    "\n",
    "rf = RandomForestRegressor(random_state=18)\n",
    "random_search = RandomizedSearchCV(estimator=rf, param_distributions=param_dist, n_iter=40, cv=3, scoring='r2', random_state=18)\n",
    "random_search.fit(X_train, y_train)\n",
    "\n",
    "print(\"Best parameters:\", random_search.best_params_)\n",
    "print(\"Best score:\", random_search.best_score_)"
   ],
   "id": "b367174e119b0689",
   "outputs": [
    {
     "name": "stdout",
     "output_type": "stream",
     "text": [
      "Best parameters: {'n_estimators': 75, 'min_samples_split': 4, 'min_samples_leaf': 4, 'max_depth': 11, 'bootstrap': True}\n",
      "Best score: 0.5159805376083842\n"
     ]
    }
   ],
   "execution_count": 48
  },
  {
   "metadata": {
    "ExecuteTime": {
     "end_time": "2025-03-11T22:34:51.329490Z",
     "start_time": "2025-03-11T22:34:51.306770Z"
    }
   },
   "cell_type": "code",
   "source": [
    "# train set\n",
    "Y_train_hat = random_search.best_estimator_.predict(X_train)\n",
    "mse_train = mean_squared_error(y_train, Y_train_hat)\n",
    "mae_train = mean_absolute_error(y_train, Y_train_hat)\n",
    "mape_train = mean_absolute_percentage_error(y_train, Y_train_hat)\n",
    "r2_train = r2_score(y_train, Y_train_hat)\n",
    "\n",
    "# test set\n",
    "Y_test_hat = random_search.best_estimator_.predict(X_test)\n",
    "mse_test = mean_squared_error(y_test, Y_test_hat)\n",
    "mae_test = mean_absolute_error(y_test, Y_test_hat)\n",
    "mape_test = mean_absolute_percentage_error(y_test, Y_test_hat)\n",
    "r2_test = r2_score(y_test, Y_test_hat)\n",
    "\n",
    "print(f\"[RF][Training Set] MSE: {mse_train:.2f}; MAPE: {mape_train:.2f}; MAE: {mae_train:.2f}; R2 score: {r2_train:.2f}\")\n",
    "print(f\"[RF][Testing Set]  MSE: {mse_test:.2f}; MAPE: {mape_test:.2f}; MAE: {mae_test:.2f}; R2 score: {r2_test:.2f}\")\n",
    "\n",
    "feature_importances = random_search.best_estimator_.feature_importances_\n",
    "\n",
    "features_df = pd.DataFrame({\n",
    "    'Feature': X_train.columns,\n",
    "    'Importance': feature_importances\n",
    "}).sort_values(by='Importance', ascending=False)\n",
    "\n",
    "features_df"
   ],
   "id": "d44a9305352743a3",
   "outputs": [
    {
     "name": "stdout",
     "output_type": "stream",
     "text": [
      "[RF][Training Set] MSE: 23.15; MAPE: 0.04; MAE: 3.33; R2 score: 0.80\n",
      "[RF][Testing Set]  MSE: 62.05; MAPE: 0.07; MAE: 5.63; R2 score: 0.54\n"
     ]
    },
    {
     "data": {
      "text/plain": [
       "                         Feature  Importance\n",
       "8   HGVs_3_or_4_articulated_axle    0.246125\n",
       "10       HGVs_6_articulated_axle    0.210989\n",
       "5              HGVs_2_rigid_axle    0.166604\n",
       "7      HGVs_4_or_more_rigid_axle    0.086404\n",
       "3              buses_and_coaches    0.053961\n",
       "4                           LGVs    0.050546\n",
       "0                   pedal_cycles    0.042226\n",
       "1     two_wheeled_motor_vehicles    0.037424\n",
       "6              HGVs_3_rigid_axle    0.032908\n",
       "9        HGVs_5_articulated_axle    0.025774\n",
       "11                      all_HGVs    0.017984\n",
       "2                 cars_and_taxis    0.017629\n",
       "12            all_motor_vehicles    0.011426"
      ],
      "text/html": [
       "<div>\n",
       "<style scoped>\n",
       "    .dataframe tbody tr th:only-of-type {\n",
       "        vertical-align: middle;\n",
       "    }\n",
       "\n",
       "    .dataframe tbody tr th {\n",
       "        vertical-align: top;\n",
       "    }\n",
       "\n",
       "    .dataframe thead th {\n",
       "        text-align: right;\n",
       "    }\n",
       "</style>\n",
       "<table border=\"1\" class=\"dataframe\">\n",
       "  <thead>\n",
       "    <tr style=\"text-align: right;\">\n",
       "      <th></th>\n",
       "      <th>Feature</th>\n",
       "      <th>Importance</th>\n",
       "    </tr>\n",
       "  </thead>\n",
       "  <tbody>\n",
       "    <tr>\n",
       "      <th>8</th>\n",
       "      <td>HGVs_3_or_4_articulated_axle</td>\n",
       "      <td>0.246125</td>\n",
       "    </tr>\n",
       "    <tr>\n",
       "      <th>10</th>\n",
       "      <td>HGVs_6_articulated_axle</td>\n",
       "      <td>0.210989</td>\n",
       "    </tr>\n",
       "    <tr>\n",
       "      <th>5</th>\n",
       "      <td>HGVs_2_rigid_axle</td>\n",
       "      <td>0.166604</td>\n",
       "    </tr>\n",
       "    <tr>\n",
       "      <th>7</th>\n",
       "      <td>HGVs_4_or_more_rigid_axle</td>\n",
       "      <td>0.086404</td>\n",
       "    </tr>\n",
       "    <tr>\n",
       "      <th>3</th>\n",
       "      <td>buses_and_coaches</td>\n",
       "      <td>0.053961</td>\n",
       "    </tr>\n",
       "    <tr>\n",
       "      <th>4</th>\n",
       "      <td>LGVs</td>\n",
       "      <td>0.050546</td>\n",
       "    </tr>\n",
       "    <tr>\n",
       "      <th>0</th>\n",
       "      <td>pedal_cycles</td>\n",
       "      <td>0.042226</td>\n",
       "    </tr>\n",
       "    <tr>\n",
       "      <th>1</th>\n",
       "      <td>two_wheeled_motor_vehicles</td>\n",
       "      <td>0.037424</td>\n",
       "    </tr>\n",
       "    <tr>\n",
       "      <th>6</th>\n",
       "      <td>HGVs_3_rigid_axle</td>\n",
       "      <td>0.032908</td>\n",
       "    </tr>\n",
       "    <tr>\n",
       "      <th>9</th>\n",
       "      <td>HGVs_5_articulated_axle</td>\n",
       "      <td>0.025774</td>\n",
       "    </tr>\n",
       "    <tr>\n",
       "      <th>11</th>\n",
       "      <td>all_HGVs</td>\n",
       "      <td>0.017984</td>\n",
       "    </tr>\n",
       "    <tr>\n",
       "      <th>2</th>\n",
       "      <td>cars_and_taxis</td>\n",
       "      <td>0.017629</td>\n",
       "    </tr>\n",
       "    <tr>\n",
       "      <th>12</th>\n",
       "      <td>all_motor_vehicles</td>\n",
       "      <td>0.011426</td>\n",
       "    </tr>\n",
       "  </tbody>\n",
       "</table>\n",
       "</div>"
      ]
     },
     "execution_count": 36,
     "metadata": {},
     "output_type": "execute_result"
    }
   ],
   "execution_count": 36
  },
  {
   "metadata": {},
   "cell_type": "markdown",
   "source": "### Select features with cumulative importance in the top 85%",
   "id": "37f890f82a6aa573"
  },
  {
   "metadata": {
    "ExecuteTime": {
     "end_time": "2025-03-11T22:34:51.385277Z",
     "start_time": "2025-03-11T22:34:51.381815Z"
    }
   },
   "cell_type": "code",
   "source": [
    "features_df['Cumulative Importance'] = features_df['Importance'].cumsum()\n",
    "\n",
    "selected_features = features_df[features_df['Cumulative Importance'] <= 0.85]['Feature']\n",
    "print(f\"Selected Features number: {len(selected_features)}\")\n",
    "print(f\"Selected Features: \\n{selected_features}\")"
   ],
   "id": "81a2203f82edb98e",
   "outputs": [
    {
     "name": "stdout",
     "output_type": "stream",
     "text": [
      "Selected Features number: 6\n",
      "Selected Features: \n",
      "8     HGVs_3_or_4_articulated_axle\n",
      "10         HGVs_6_articulated_axle\n",
      "5                HGVs_2_rigid_axle\n",
      "7        HGVs_4_or_more_rigid_axle\n",
      "3                buses_and_coaches\n",
      "4                             LGVs\n",
      "Name: Feature, dtype: object\n"
     ]
    }
   ],
   "execution_count": 37
  },
  {
   "metadata": {},
   "cell_type": "markdown",
   "source": "## Retrain the model using selected features",
   "id": "e94e689a004645c6"
  },
  {
   "metadata": {
    "ExecuteTime": {
     "end_time": "2025-03-11T22:34:51.420519Z",
     "start_time": "2025-03-11T22:34:51.416722Z"
    }
   },
   "cell_type": "code",
   "source": [
    "X_train_selected = X_train[selected_features]\n",
    "X_test_selected = X_test[selected_features]\n",
    "\n",
    "print(X_train_selected.shape, X_test_selected.shape)\n",
    "print(X_train_selected.columns)"
   ],
   "id": "389098c637f7429a",
   "outputs": [
    {
     "name": "stdout",
     "output_type": "stream",
     "text": [
      "(1018, 6) (255, 6)\n",
      "Index(['HGVs_3_or_4_articulated_axle', 'HGVs_6_articulated_axle',\n",
      "       'HGVs_2_rigid_axle', 'HGVs_4_or_more_rigid_axle', 'buses_and_coaches',\n",
      "       'LGVs'],\n",
      "      dtype='object')\n"
     ]
    }
   ],
   "execution_count": 38
  },
  {
   "metadata": {
    "ExecuteTime": {
     "end_time": "2025-03-11T22:34:56.966819Z",
     "start_time": "2025-03-11T22:34:51.424541Z"
    }
   },
   "cell_type": "code",
   "source": [
    "# modeling\n",
    "param_dist = {\n",
    "    'n_estimators': np.arange(20, 80, step=5),\n",
    "    'max_depth': np.arange(3, 10, step=1),\n",
    "    'min_samples_split': np.arange(3, 10, step=1),\n",
    "    'min_samples_leaf': np.arange(2, 10, step=1),\n",
    "    'bootstrap': [True, False]\n",
    "}\n",
    "\n",
    "rf = RandomForestRegressor(random_state=18)\n",
    "random_search = RandomizedSearchCV(estimator=rf, param_distributions=param_dist, n_iter=20, cv=3, scoring='r2', random_state=18)\n",
    "random_search.fit(X_train_selected, y_train)\n",
    "\n",
    "print(\"Best parameters:\", random_search.best_params_)\n",
    "print(\"Best score:\", random_search.best_score_)\n",
    "\n",
    "rf_best = random_search.best_estimator_\n",
    "\n",
    "# test set\n",
    "Y_test_hat = rf_best.predict(X_test_selected)\n",
    "mse_test = mean_squared_error(y_test, Y_test_hat)\n",
    "mae_test = mean_absolute_error(y_test, Y_test_hat)\n",
    "mape_test = mean_absolute_percentage_error(y_test, Y_test_hat)\n",
    "r2_test = r2_score(y_test, Y_test_hat)\n",
    "\n",
    "# train set\n",
    "Y_train_hat = rf_best.predict(X_train_selected)\n",
    "mse_train = mean_squared_error(y_train, Y_train_hat)\n",
    "mae_train = mean_absolute_error(y_train, Y_train_hat)\n",
    "mape_train = mean_absolute_percentage_error(y_train, Y_train_hat)\n",
    "r2_train = r2_score(y_train, Y_train_hat)\n",
    "\n",
    "print(f\"[RF][Training Set] MSE: {mse_train:.2f}; MAPE: {mape_train:.2f}; MAE: {mae_train:.2f}; R2 score: {r2_train:.2f}\")\n",
    "print(f\"[RF][Testing Set]  MSE: {mse_test:.2f}; MAPE: {mape_test:.2f}; MAE: {mae_test:.2f}; R2 score: {r2_test:.2f}\")"
   ],
   "id": "6269f17ead82af1",
   "outputs": [
    {
     "name": "stdout",
     "output_type": "stream",
     "text": [
      "Best parameters: {'n_estimators': 40, 'min_samples_split': 7, 'min_samples_leaf': 2, 'max_depth': 9, 'bootstrap': True}\n",
      "Best score: 0.49515663069079946\n",
      "[RF][Training Set] MSE: 20.90; MAPE: 0.04; MAE: 3.17; R2 score: 0.82\n",
      "[RF][Testing Set]  MSE: 64.33; MAPE: 0.07; MAE: 5.73; R2 score: 0.52\n"
     ]
    }
   ],
   "execution_count": 39
  },
  {
   "metadata": {},
   "cell_type": "markdown",
   "source": "### Grid search in a small range base on privous parameters",
   "id": "dfeabe2efcd8713a"
  },
  {
   "metadata": {
    "ExecuteTime": {
     "end_time": "2025-03-11T23:03:51.290330Z",
     "start_time": "2025-03-11T23:03:47.217525Z"
    }
   },
   "cell_type": "code",
   "source": [
    "best_model = random_search.best_params_\n",
    "# param_grid = {\n",
    "#     'n_estimators': np.arange(-10, 10, step=3) + best_model['n_estimators'],  # 树的数量\n",
    "#     'max_depth': np.arange(-2, 2, step=3) + best_model['max_depth'],  # 树的最大深度\n",
    "#     'min_samples_split': np.arange(2, 4, step=2) + best_model['min_samples_leaf'],  # 节点分裂所需的最小样本数\n",
    "#     'min_samples_leaf': np.arange(2, 4, step=2) + best_model['min_samples_leaf'],\n",
    "#     'bootstrap': [best_model['bootstrap']]\n",
    "# }\n",
    "\n",
    "param_grid = {\n",
    "    'n_estimators': [10, 15, 20],\n",
    "    'max_depth': [8],\n",
    "    'min_samples_split': [16, 20, 25],\n",
    "    'min_samples_leaf': [16, 20, 25],\n",
    "    'bootstrap': [True]\n",
    "}\n",
    "\n",
    "rf = RandomForestRegressor(random_state=18)\n",
    "grid_search = GridSearchCV(estimator=rf, param_grid=param_grid, cv=5, verbose=2, scoring='r2')\n",
    "grid_search.fit(X_train_selected, y_train)\n",
    "\n",
    "print(\"Best parameters:\", grid_search.best_params_)\n",
    "print(\"Best score:\", grid_search.best_score_)\n",
    "\n",
    "# train set\n",
    "Y_train_hat = grid_search.best_estimator_.predict(X_train_selected)\n",
    "mse_train = mean_squared_error(y_train, Y_train_hat)\n",
    "mae_train = mean_absolute_error(y_train, Y_train_hat)\n",
    "mape_train = mean_absolute_percentage_error(y_train, Y_train_hat)\n",
    "r2_train = r2_score(y_train, Y_train_hat)\n",
    "\n",
    "# test set\n",
    "Y_test_hat = grid_search.best_estimator_.predict(X_test_selected)\n",
    "mse_test = mean_squared_error(y_test, Y_test_hat)\n",
    "mae_test = mean_absolute_error(y_test, Y_test_hat)\n",
    "mape_test = mean_absolute_percentage_error(y_test, Y_test_hat)\n",
    "r2_test = r2_score(y_test, Y_test_hat)\n",
    "\n",
    "print(f\"[RF][Training Set] MSE: {mse_train:.2f}; MAPE: {mape_train:.2f}; MAE: {mae_train:.2f}; R2 score: {r2_train:.2f}\")\n",
    "print(f\"[RF][Testing Set]  MSE: {mse_test:.2f}; MAPE: {mape_test:.2f}; MAE: {mae_test:.2f}; R2 score: {r2_test:.2f}\")"
   ],
   "id": "aa0b0fa7c79852af",
   "outputs": [
    {
     "name": "stdout",
     "output_type": "stream",
     "text": [
      "Fitting 5 folds for each of 27 candidates, totalling 135 fits\n",
      "[CV] END bootstrap=True, max_depth=8, min_samples_leaf=16, min_samples_split=16, n_estimators=10; total time=   0.1s\n",
      "[CV] END bootstrap=True, max_depth=8, min_samples_leaf=16, min_samples_split=16, n_estimators=10; total time=   0.1s\n",
      "[CV] END bootstrap=True, max_depth=8, min_samples_leaf=16, min_samples_split=16, n_estimators=10; total time=   0.1s\n",
      "[CV] END bootstrap=True, max_depth=8, min_samples_leaf=16, min_samples_split=16, n_estimators=10; total time=   0.0s\n",
      "[CV] END bootstrap=True, max_depth=8, min_samples_leaf=16, min_samples_split=16, n_estimators=10; total time=   0.0s\n",
      "[CV] END bootstrap=True, max_depth=8, min_samples_leaf=16, min_samples_split=16, n_estimators=15; total time=   0.0s\n",
      "[CV] END bootstrap=True, max_depth=8, min_samples_leaf=16, min_samples_split=16, n_estimators=15; total time=   0.0s\n",
      "[CV] END bootstrap=True, max_depth=8, min_samples_leaf=16, min_samples_split=16, n_estimators=15; total time=   0.0s\n",
      "[CV] END bootstrap=True, max_depth=8, min_samples_leaf=16, min_samples_split=16, n_estimators=15; total time=   0.0s\n",
      "[CV] END bootstrap=True, max_depth=8, min_samples_leaf=16, min_samples_split=16, n_estimators=15; total time=   0.0s\n",
      "[CV] END bootstrap=True, max_depth=8, min_samples_leaf=16, min_samples_split=16, n_estimators=20; total time=   0.0s\n",
      "[CV] END bootstrap=True, max_depth=8, min_samples_leaf=16, min_samples_split=16, n_estimators=20; total time=   0.0s\n",
      "[CV] END bootstrap=True, max_depth=8, min_samples_leaf=16, min_samples_split=16, n_estimators=20; total time=   0.0s\n",
      "[CV] END bootstrap=True, max_depth=8, min_samples_leaf=16, min_samples_split=16, n_estimators=20; total time=   0.0s\n",
      "[CV] END bootstrap=True, max_depth=8, min_samples_leaf=16, min_samples_split=16, n_estimators=20; total time=   0.0s\n",
      "[CV] END bootstrap=True, max_depth=8, min_samples_leaf=16, min_samples_split=20, n_estimators=10; total time=   0.0s\n",
      "[CV] END bootstrap=True, max_depth=8, min_samples_leaf=16, min_samples_split=20, n_estimators=10; total time=   0.0s\n",
      "[CV] END bootstrap=True, max_depth=8, min_samples_leaf=16, min_samples_split=20, n_estimators=10; total time=   0.0s\n",
      "[CV] END bootstrap=True, max_depth=8, min_samples_leaf=16, min_samples_split=20, n_estimators=10; total time=   0.0s\n",
      "[CV] END bootstrap=True, max_depth=8, min_samples_leaf=16, min_samples_split=20, n_estimators=10; total time=   0.0s\n",
      "[CV] END bootstrap=True, max_depth=8, min_samples_leaf=16, min_samples_split=20, n_estimators=15; total time=   0.0s\n",
      "[CV] END bootstrap=True, max_depth=8, min_samples_leaf=16, min_samples_split=20, n_estimators=15; total time=   0.0s\n",
      "[CV] END bootstrap=True, max_depth=8, min_samples_leaf=16, min_samples_split=20, n_estimators=15; total time=   0.0s\n",
      "[CV] END bootstrap=True, max_depth=8, min_samples_leaf=16, min_samples_split=20, n_estimators=15; total time=   0.0s\n",
      "[CV] END bootstrap=True, max_depth=8, min_samples_leaf=16, min_samples_split=20, n_estimators=15; total time=   0.0s\n",
      "[CV] END bootstrap=True, max_depth=8, min_samples_leaf=16, min_samples_split=20, n_estimators=20; total time=   0.0s\n",
      "[CV] END bootstrap=True, max_depth=8, min_samples_leaf=16, min_samples_split=20, n_estimators=20; total time=   0.0s\n",
      "[CV] END bootstrap=True, max_depth=8, min_samples_leaf=16, min_samples_split=20, n_estimators=20; total time=   0.0s\n",
      "[CV] END bootstrap=True, max_depth=8, min_samples_leaf=16, min_samples_split=20, n_estimators=20; total time=   0.0s\n",
      "[CV] END bootstrap=True, max_depth=8, min_samples_leaf=16, min_samples_split=20, n_estimators=20; total time=   0.0s\n",
      "[CV] END bootstrap=True, max_depth=8, min_samples_leaf=16, min_samples_split=25, n_estimators=10; total time=   0.0s\n",
      "[CV] END bootstrap=True, max_depth=8, min_samples_leaf=16, min_samples_split=25, n_estimators=10; total time=   0.0s\n",
      "[CV] END bootstrap=True, max_depth=8, min_samples_leaf=16, min_samples_split=25, n_estimators=10; total time=   0.0s\n",
      "[CV] END bootstrap=True, max_depth=8, min_samples_leaf=16, min_samples_split=25, n_estimators=10; total time=   0.0s\n",
      "[CV] END bootstrap=True, max_depth=8, min_samples_leaf=16, min_samples_split=25, n_estimators=10; total time=   0.0s\n",
      "[CV] END bootstrap=True, max_depth=8, min_samples_leaf=16, min_samples_split=25, n_estimators=15; total time=   0.0s\n",
      "[CV] END bootstrap=True, max_depth=8, min_samples_leaf=16, min_samples_split=25, n_estimators=15; total time=   0.0s\n",
      "[CV] END bootstrap=True, max_depth=8, min_samples_leaf=16, min_samples_split=25, n_estimators=15; total time=   0.0s\n",
      "[CV] END bootstrap=True, max_depth=8, min_samples_leaf=16, min_samples_split=25, n_estimators=15; total time=   0.0s\n",
      "[CV] END bootstrap=True, max_depth=8, min_samples_leaf=16, min_samples_split=25, n_estimators=15; total time=   0.0s\n",
      "[CV] END bootstrap=True, max_depth=8, min_samples_leaf=16, min_samples_split=25, n_estimators=20; total time=   0.0s\n",
      "[CV] END bootstrap=True, max_depth=8, min_samples_leaf=16, min_samples_split=25, n_estimators=20; total time=   0.0s\n",
      "[CV] END bootstrap=True, max_depth=8, min_samples_leaf=16, min_samples_split=25, n_estimators=20; total time=   0.0s\n",
      "[CV] END bootstrap=True, max_depth=8, min_samples_leaf=16, min_samples_split=25, n_estimators=20; total time=   0.0s\n",
      "[CV] END bootstrap=True, max_depth=8, min_samples_leaf=16, min_samples_split=25, n_estimators=20; total time=   0.0s\n",
      "[CV] END bootstrap=True, max_depth=8, min_samples_leaf=20, min_samples_split=16, n_estimators=10; total time=   0.0s\n",
      "[CV] END bootstrap=True, max_depth=8, min_samples_leaf=20, min_samples_split=16, n_estimators=10; total time=   0.0s\n",
      "[CV] END bootstrap=True, max_depth=8, min_samples_leaf=20, min_samples_split=16, n_estimators=10; total time=   0.0s\n",
      "[CV] END bootstrap=True, max_depth=8, min_samples_leaf=20, min_samples_split=16, n_estimators=10; total time=   0.0s\n",
      "[CV] END bootstrap=True, max_depth=8, min_samples_leaf=20, min_samples_split=16, n_estimators=10; total time=   0.0s\n",
      "[CV] END bootstrap=True, max_depth=8, min_samples_leaf=20, min_samples_split=16, n_estimators=15; total time=   0.0s\n",
      "[CV] END bootstrap=True, max_depth=8, min_samples_leaf=20, min_samples_split=16, n_estimators=15; total time=   0.0s\n",
      "[CV] END bootstrap=True, max_depth=8, min_samples_leaf=20, min_samples_split=16, n_estimators=15; total time=   0.0s\n",
      "[CV] END bootstrap=True, max_depth=8, min_samples_leaf=20, min_samples_split=16, n_estimators=15; total time=   0.0s\n",
      "[CV] END bootstrap=True, max_depth=8, min_samples_leaf=20, min_samples_split=16, n_estimators=15; total time=   0.0s\n",
      "[CV] END bootstrap=True, max_depth=8, min_samples_leaf=20, min_samples_split=16, n_estimators=20; total time=   0.0s\n",
      "[CV] END bootstrap=True, max_depth=8, min_samples_leaf=20, min_samples_split=16, n_estimators=20; total time=   0.0s\n",
      "[CV] END bootstrap=True, max_depth=8, min_samples_leaf=20, min_samples_split=16, n_estimators=20; total time=   0.0s\n",
      "[CV] END bootstrap=True, max_depth=8, min_samples_leaf=20, min_samples_split=16, n_estimators=20; total time=   0.0s\n",
      "[CV] END bootstrap=True, max_depth=8, min_samples_leaf=20, min_samples_split=16, n_estimators=20; total time=   0.0s\n",
      "[CV] END bootstrap=True, max_depth=8, min_samples_leaf=20, min_samples_split=20, n_estimators=10; total time=   0.0s\n",
      "[CV] END bootstrap=True, max_depth=8, min_samples_leaf=20, min_samples_split=20, n_estimators=10; total time=   0.0s\n",
      "[CV] END bootstrap=True, max_depth=8, min_samples_leaf=20, min_samples_split=20, n_estimators=10; total time=   0.0s\n",
      "[CV] END bootstrap=True, max_depth=8, min_samples_leaf=20, min_samples_split=20, n_estimators=10; total time=   0.0s\n",
      "[CV] END bootstrap=True, max_depth=8, min_samples_leaf=20, min_samples_split=20, n_estimators=10; total time=   0.0s\n",
      "[CV] END bootstrap=True, max_depth=8, min_samples_leaf=20, min_samples_split=20, n_estimators=15; total time=   0.0s\n",
      "[CV] END bootstrap=True, max_depth=8, min_samples_leaf=20, min_samples_split=20, n_estimators=15; total time=   0.0s\n",
      "[CV] END bootstrap=True, max_depth=8, min_samples_leaf=20, min_samples_split=20, n_estimators=15; total time=   0.0s\n",
      "[CV] END bootstrap=True, max_depth=8, min_samples_leaf=20, min_samples_split=20, n_estimators=15; total time=   0.0s\n",
      "[CV] END bootstrap=True, max_depth=8, min_samples_leaf=20, min_samples_split=20, n_estimators=15; total time=   0.0s\n",
      "[CV] END bootstrap=True, max_depth=8, min_samples_leaf=20, min_samples_split=20, n_estimators=20; total time=   0.0s\n",
      "[CV] END bootstrap=True, max_depth=8, min_samples_leaf=20, min_samples_split=20, n_estimators=20; total time=   0.0s\n",
      "[CV] END bootstrap=True, max_depth=8, min_samples_leaf=20, min_samples_split=20, n_estimators=20; total time=   0.0s\n",
      "[CV] END bootstrap=True, max_depth=8, min_samples_leaf=20, min_samples_split=20, n_estimators=20; total time=   0.0s\n",
      "[CV] END bootstrap=True, max_depth=8, min_samples_leaf=20, min_samples_split=20, n_estimators=20; total time=   0.0s\n",
      "[CV] END bootstrap=True, max_depth=8, min_samples_leaf=20, min_samples_split=25, n_estimators=10; total time=   0.0s\n",
      "[CV] END bootstrap=True, max_depth=8, min_samples_leaf=20, min_samples_split=25, n_estimators=10; total time=   0.0s\n",
      "[CV] END bootstrap=True, max_depth=8, min_samples_leaf=20, min_samples_split=25, n_estimators=10; total time=   0.0s\n",
      "[CV] END bootstrap=True, max_depth=8, min_samples_leaf=20, min_samples_split=25, n_estimators=10; total time=   0.0s\n",
      "[CV] END bootstrap=True, max_depth=8, min_samples_leaf=20, min_samples_split=25, n_estimators=10; total time=   0.0s\n",
      "[CV] END bootstrap=True, max_depth=8, min_samples_leaf=20, min_samples_split=25, n_estimators=15; total time=   0.0s\n",
      "[CV] END bootstrap=True, max_depth=8, min_samples_leaf=20, min_samples_split=25, n_estimators=15; total time=   0.0s\n",
      "[CV] END bootstrap=True, max_depth=8, min_samples_leaf=20, min_samples_split=25, n_estimators=15; total time=   0.0s\n",
      "[CV] END bootstrap=True, max_depth=8, min_samples_leaf=20, min_samples_split=25, n_estimators=15; total time=   0.0s\n",
      "[CV] END bootstrap=True, max_depth=8, min_samples_leaf=20, min_samples_split=25, n_estimators=15; total time=   0.0s\n",
      "[CV] END bootstrap=True, max_depth=8, min_samples_leaf=20, min_samples_split=25, n_estimators=20; total time=   0.0s\n",
      "[CV] END bootstrap=True, max_depth=8, min_samples_leaf=20, min_samples_split=25, n_estimators=20; total time=   0.0s\n",
      "[CV] END bootstrap=True, max_depth=8, min_samples_leaf=20, min_samples_split=25, n_estimators=20; total time=   0.0s\n",
      "[CV] END bootstrap=True, max_depth=8, min_samples_leaf=20, min_samples_split=25, n_estimators=20; total time=   0.0s\n",
      "[CV] END bootstrap=True, max_depth=8, min_samples_leaf=20, min_samples_split=25, n_estimators=20; total time=   0.0s\n",
      "[CV] END bootstrap=True, max_depth=8, min_samples_leaf=25, min_samples_split=16, n_estimators=10; total time=   0.0s\n",
      "[CV] END bootstrap=True, max_depth=8, min_samples_leaf=25, min_samples_split=16, n_estimators=10; total time=   0.0s\n",
      "[CV] END bootstrap=True, max_depth=8, min_samples_leaf=25, min_samples_split=16, n_estimators=10; total time=   0.0s\n",
      "[CV] END bootstrap=True, max_depth=8, min_samples_leaf=25, min_samples_split=16, n_estimators=10; total time=   0.0s\n",
      "[CV] END bootstrap=True, max_depth=8, min_samples_leaf=25, min_samples_split=16, n_estimators=10; total time=   0.0s\n",
      "[CV] END bootstrap=True, max_depth=8, min_samples_leaf=25, min_samples_split=16, n_estimators=15; total time=   0.0s\n",
      "[CV] END bootstrap=True, max_depth=8, min_samples_leaf=25, min_samples_split=16, n_estimators=15; total time=   0.0s\n",
      "[CV] END bootstrap=True, max_depth=8, min_samples_leaf=25, min_samples_split=16, n_estimators=15; total time=   0.0s\n",
      "[CV] END bootstrap=True, max_depth=8, min_samples_leaf=25, min_samples_split=16, n_estimators=15; total time=   0.0s\n",
      "[CV] END bootstrap=True, max_depth=8, min_samples_leaf=25, min_samples_split=16, n_estimators=15; total time=   0.0s\n",
      "[CV] END bootstrap=True, max_depth=8, min_samples_leaf=25, min_samples_split=16, n_estimators=20; total time=   0.0s\n",
      "[CV] END bootstrap=True, max_depth=8, min_samples_leaf=25, min_samples_split=16, n_estimators=20; total time=   0.0s\n",
      "[CV] END bootstrap=True, max_depth=8, min_samples_leaf=25, min_samples_split=16, n_estimators=20; total time=   0.0s\n",
      "[CV] END bootstrap=True, max_depth=8, min_samples_leaf=25, min_samples_split=16, n_estimators=20; total time=   0.0s\n",
      "[CV] END bootstrap=True, max_depth=8, min_samples_leaf=25, min_samples_split=16, n_estimators=20; total time=   0.0s\n",
      "[CV] END bootstrap=True, max_depth=8, min_samples_leaf=25, min_samples_split=20, n_estimators=10; total time=   0.0s\n",
      "[CV] END bootstrap=True, max_depth=8, min_samples_leaf=25, min_samples_split=20, n_estimators=10; total time=   0.0s\n",
      "[CV] END bootstrap=True, max_depth=8, min_samples_leaf=25, min_samples_split=20, n_estimators=10; total time=   0.0s\n",
      "[CV] END bootstrap=True, max_depth=8, min_samples_leaf=25, min_samples_split=20, n_estimators=10; total time=   0.0s\n",
      "[CV] END bootstrap=True, max_depth=8, min_samples_leaf=25, min_samples_split=20, n_estimators=10; total time=   0.0s\n",
      "[CV] END bootstrap=True, max_depth=8, min_samples_leaf=25, min_samples_split=20, n_estimators=15; total time=   0.0s\n",
      "[CV] END bootstrap=True, max_depth=8, min_samples_leaf=25, min_samples_split=20, n_estimators=15; total time=   0.0s\n",
      "[CV] END bootstrap=True, max_depth=8, min_samples_leaf=25, min_samples_split=20, n_estimators=15; total time=   0.0s\n",
      "[CV] END bootstrap=True, max_depth=8, min_samples_leaf=25, min_samples_split=20, n_estimators=15; total time=   0.0s\n",
      "[CV] END bootstrap=True, max_depth=8, min_samples_leaf=25, min_samples_split=20, n_estimators=15; total time=   0.0s\n",
      "[CV] END bootstrap=True, max_depth=8, min_samples_leaf=25, min_samples_split=20, n_estimators=20; total time=   0.0s\n",
      "[CV] END bootstrap=True, max_depth=8, min_samples_leaf=25, min_samples_split=20, n_estimators=20; total time=   0.0s\n",
      "[CV] END bootstrap=True, max_depth=8, min_samples_leaf=25, min_samples_split=20, n_estimators=20; total time=   0.0s\n",
      "[CV] END bootstrap=True, max_depth=8, min_samples_leaf=25, min_samples_split=20, n_estimators=20; total time=   0.0s\n",
      "[CV] END bootstrap=True, max_depth=8, min_samples_leaf=25, min_samples_split=20, n_estimators=20; total time=   0.0s\n",
      "[CV] END bootstrap=True, max_depth=8, min_samples_leaf=25, min_samples_split=25, n_estimators=10; total time=   0.0s\n",
      "[CV] END bootstrap=True, max_depth=8, min_samples_leaf=25, min_samples_split=25, n_estimators=10; total time=   0.0s\n",
      "[CV] END bootstrap=True, max_depth=8, min_samples_leaf=25, min_samples_split=25, n_estimators=10; total time=   0.0s\n",
      "[CV] END bootstrap=True, max_depth=8, min_samples_leaf=25, min_samples_split=25, n_estimators=10; total time=   0.0s\n",
      "[CV] END bootstrap=True, max_depth=8, min_samples_leaf=25, min_samples_split=25, n_estimators=10; total time=   0.0s\n",
      "[CV] END bootstrap=True, max_depth=8, min_samples_leaf=25, min_samples_split=25, n_estimators=15; total time=   0.0s\n",
      "[CV] END bootstrap=True, max_depth=8, min_samples_leaf=25, min_samples_split=25, n_estimators=15; total time=   0.0s\n",
      "[CV] END bootstrap=True, max_depth=8, min_samples_leaf=25, min_samples_split=25, n_estimators=15; total time=   0.0s\n",
      "[CV] END bootstrap=True, max_depth=8, min_samples_leaf=25, min_samples_split=25, n_estimators=15; total time=   0.0s\n",
      "[CV] END bootstrap=True, max_depth=8, min_samples_leaf=25, min_samples_split=25, n_estimators=15; total time=   0.0s\n",
      "[CV] END bootstrap=True, max_depth=8, min_samples_leaf=25, min_samples_split=25, n_estimators=20; total time=   0.0s\n",
      "[CV] END bootstrap=True, max_depth=8, min_samples_leaf=25, min_samples_split=25, n_estimators=20; total time=   0.0s\n",
      "[CV] END bootstrap=True, max_depth=8, min_samples_leaf=25, min_samples_split=25, n_estimators=20; total time=   0.0s\n",
      "[CV] END bootstrap=True, max_depth=8, min_samples_leaf=25, min_samples_split=25, n_estimators=20; total time=   0.0s\n",
      "[CV] END bootstrap=True, max_depth=8, min_samples_leaf=25, min_samples_split=25, n_estimators=20; total time=   0.0s\n",
      "Best parameters: {'bootstrap': True, 'max_depth': 8, 'min_samples_leaf': 16, 'min_samples_split': 16, 'n_estimators': 20}\n",
      "Best score: 0.4419391771255515\n",
      "[RF][Training Set] MSE: 46.92; MAPE: 0.06; MAE: 4.83; R2 score: 0.60\n",
      "[RF][Testing Set]  MSE: 74.76; MAPE: 0.08; MAE: 6.42; R2 score: 0.44\n"
     ]
    }
   ],
   "execution_count": 56
  },
  {
   "metadata": {
    "ExecuteTime": {
     "end_time": "2025-03-11T22:35:13.590172Z",
     "start_time": "2025-03-11T22:35:13.583764Z"
    }
   },
   "cell_type": "code",
   "source": [
    "feature_importances = grid_search.best_estimator_.feature_importances_\n",
    "print(feature_importances.shape)\n",
    "print(X_train_selected.shape)\n",
    "features_df = pd.DataFrame({\n",
    "    'Feature': X_train_selected.columns,\n",
    "    'Importance': feature_importances\n",
    "}).sort_values(by='Importance', ascending=False)\n",
    "\n",
    "features_df"
   ],
   "id": "36119e5fa97c9a30",
   "outputs": [
    {
     "name": "stdout",
     "output_type": "stream",
     "text": [
      "(6,)\n",
      "(1018, 6)\n"
     ]
    },
    {
     "data": {
      "text/plain": [
       "                        Feature  Importance\n",
       "0  HGVs_3_or_4_articulated_axle    0.293371\n",
       "1       HGVs_6_articulated_axle    0.262176\n",
       "2             HGVs_2_rigid_axle    0.210846\n",
       "3     HGVs_4_or_more_rigid_axle    0.106001\n",
       "5                          LGVs    0.070631\n",
       "4             buses_and_coaches    0.056976"
      ],
      "text/html": [
       "<div>\n",
       "<style scoped>\n",
       "    .dataframe tbody tr th:only-of-type {\n",
       "        vertical-align: middle;\n",
       "    }\n",
       "\n",
       "    .dataframe tbody tr th {\n",
       "        vertical-align: top;\n",
       "    }\n",
       "\n",
       "    .dataframe thead th {\n",
       "        text-align: right;\n",
       "    }\n",
       "</style>\n",
       "<table border=\"1\" class=\"dataframe\">\n",
       "  <thead>\n",
       "    <tr style=\"text-align: right;\">\n",
       "      <th></th>\n",
       "      <th>Feature</th>\n",
       "      <th>Importance</th>\n",
       "    </tr>\n",
       "  </thead>\n",
       "  <tbody>\n",
       "    <tr>\n",
       "      <th>0</th>\n",
       "      <td>HGVs_3_or_4_articulated_axle</td>\n",
       "      <td>0.293371</td>\n",
       "    </tr>\n",
       "    <tr>\n",
       "      <th>1</th>\n",
       "      <td>HGVs_6_articulated_axle</td>\n",
       "      <td>0.262176</td>\n",
       "    </tr>\n",
       "    <tr>\n",
       "      <th>2</th>\n",
       "      <td>HGVs_2_rigid_axle</td>\n",
       "      <td>0.210846</td>\n",
       "    </tr>\n",
       "    <tr>\n",
       "      <th>3</th>\n",
       "      <td>HGVs_4_or_more_rigid_axle</td>\n",
       "      <td>0.106001</td>\n",
       "    </tr>\n",
       "    <tr>\n",
       "      <th>5</th>\n",
       "      <td>LGVs</td>\n",
       "      <td>0.070631</td>\n",
       "    </tr>\n",
       "    <tr>\n",
       "      <th>4</th>\n",
       "      <td>buses_and_coaches</td>\n",
       "      <td>0.056976</td>\n",
       "    </tr>\n",
       "  </tbody>\n",
       "</table>\n",
       "</div>"
      ]
     },
     "execution_count": 41,
     "metadata": {},
     "output_type": "execute_result"
    }
   ],
   "execution_count": 41
  },
  {
   "metadata": {
    "ExecuteTime": {
     "end_time": "2025-03-11T22:35:13.816878Z",
     "start_time": "2025-03-11T22:35:13.640981Z"
    }
   },
   "cell_type": "code",
   "source": [
    "# plot importance of features\n",
    "plt.figure(figsize=(8, 6))\n",
    "plt.bar(x=0, bottom=features_df['Feature'],\n",
    "        height=0.5, width=features_df['Importance'], orientation='horizontal')\n",
    "plt.xlabel('Importance')\n",
    "plt.ylabel('Feature')\n",
    "plt.title('Selected Feature Importances')\n",
    "plt.show()"
   ],
   "id": "e5ca79dce9219cdf",
   "outputs": [
    {
     "data": {
      "text/plain": [
       "<Figure size 800x600 with 1 Axes>"
      ],
      "image/png": "[encoded data removed]"
     },
     "metadata": {},
     "output_type": "display_data"
    }
   ],
   "execution_count": 42
  },
  {
   "metadata": {},
   "cell_type": "markdown",
   "source": [
    "As we have found the important features:\n",
    "- HGVs_3_or_4_articulated_axle\n",
    "- HGVs_6_articulated_axle\n",
    "- LGVs\n",
    "- HGVs_2_rigid_axle\n",
    "- HGVs_4_or_more_rigid_axle\n"
   ],
   "id": "431efb6ce05552d5"
  }
 ],
 "metadata": {
  "kernelspec": {
   "display_name": "Python 3",
   "language": "python",
   "name": "python3"
  },
  "language_info": {
   "codemirror_mode": {
    "name": "ipython",
    "version": 2
   },
   "file_extension": ".py",
   "mimetype": "text/x-python",
   "name": "python",
   "nbconvert_exporter": "python",
   "pygments_lexer": "ipython2",
   "version": "2.7.6"
  }
 },
 "nbformat": 4,
 "nbformat_minor": 5
}
