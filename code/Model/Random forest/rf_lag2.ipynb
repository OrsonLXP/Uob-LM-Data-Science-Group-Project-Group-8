{
 "cells": [
  {
   "metadata": {
    "collapsed": true,
    "ExecuteTime": {
     "end_time": "2025-03-11T22:34:37.429223Z",
     "start_time": "2025-03-11T22:34:37.417756Z"
    }
   },
   "cell_type": "code",
   "source": [
    "import os.path\n",
    "import os\n",
    "os.chdir(\"../\")\n",
    "%run config.ipynb\n",
    "\n",
    "import numpy as np\n",
    "from sklearn.ensemble import RandomForestRegressor\n",
    "from sklearn.preprocessing import StandardScaler\n",
    "from sklearn.model_selection import RandomizedSearchCV\n",
    "\n",
    "import pandas as pd\n",
    "from sklearn.model_selection import train_test_split\n",
    "from sklearn.model_selection import GridSearchCV\n",
    "import matplotlib.pyplot as plt\n",
    "from sklearn.metrics import mean_squared_error, r2_score, mean_absolute_percentage_error, mean_absolute_error"
   ],
   "id": "initial_id",
   "outputs": [],
   "execution_count": 19
  },
  {
   "metadata": {
    "ExecuteTime": {
     "end_time": "2025-03-11T22:34:37.448330Z",
     "start_time": "2025-03-11T22:34:37.437743Z"
    }
   },
   "cell_type": "code",
   "source": [
    "eTraffic = pd.read_csv(os.path.join(root, 'eTraffic_lag2.csv'))\n",
    "print(eTraffic.shape)\n",
    "print(len(eTraffic['local_authority_name'].unique()))"
   ],
   "id": "89d96ed5fed0a44b",
   "outputs": [
    {
     "name": "stdout",
     "output_type": "stream",
     "text": [
      "(1273, 17)\n",
      "67\n"
     ]
    }
   ],
   "execution_count": 20
  },
  {
   "metadata": {
    "ExecuteTime": {
     "end_time": "2025-03-11T22:34:37.496554Z",
     "start_time": "2025-03-11T22:34:37.489283Z"
    }
   },
   "cell_type": "code",
   "source": "eTraffic.info()",
   "id": "19bb1c99d18e70d6",
   "outputs": [
    {
     "name": "stdout",
     "output_type": "stream",
     "text": [
      "<class 'pandas.core.frame.DataFrame'>\n",
      "RangeIndex: 1273 entries, 0 to 1272\n",
      "Data columns (total 17 columns):\n",
      " #   Column                        Non-Null Count  Dtype  \n",
      "---  ------                        --------------  -----  \n",
      " 0   local_authority_name          1273 non-null   object \n",
      " 1   year                          1273 non-null   int64  \n",
      " 2   pedal_cycles                  1273 non-null   float64\n",
      " 3   two_wheeled_motor_vehicles    1273 non-null   float64\n",
      " 4   cars_and_taxis                1273 non-null   float64\n",
      " 5   buses_and_coaches             1273 non-null   float64\n",
      " 6   LGVs                          1273 non-null   float64\n",
      " 7   HGVs_2_rigid_axle             1273 non-null   float64\n",
      " 8   HGVs_3_rigid_axle             1273 non-null   float64\n",
      " 9   HGVs_4_or_more_rigid_axle     1273 non-null   float64\n",
      " 10  HGVs_3_or_4_articulated_axle  1273 non-null   float64\n",
      " 11  HGVs_5_articulated_axle       1273 non-null   float64\n",
      " 12  HGVs_6_articulated_axle       1273 non-null   float64\n",
      " 13  all_HGVs                      1273 non-null   float64\n",
      " 14  all_motor_vehicles            1273 non-null   float64\n",
      " 15  GDP                           1273 non-null   float64\n",
      " 16  local_authority_name_encoded  1273 non-null   int64  \n",
      "dtypes: float64(14), int64(2), object(1)\n",
      "memory usage: 169.2+ KB\n"
     ]
    }
   ],
   "execution_count": 21
  },
  {
   "metadata": {
    "ExecuteTime": {
     "end_time": "2025-03-11T22:34:37.532954Z",
     "start_time": "2025-03-11T22:34:37.522351Z"
    }
   },
   "cell_type": "code",
   "source": "eTraffic.head()",
   "id": "aad606008d5e0c83",
   "outputs": [
    {
     "data": {
      "text/plain": [
       "  local_authority_name  year  pedal_cycles  two_wheeled_motor_vehicles  \\\n",
       "0               Barnet  2001        1686.0                     18061.0   \n",
       "1               Barnet  2002        1787.0                     17416.0   \n",
       "2               Barnet  2003        1397.0                     12850.0   \n",
       "3               Barnet  2004        1534.0                     11599.0   \n",
       "4               Barnet  2005        2082.0                     16331.0   \n",
       "\n",
       "   cars_and_taxis  buses_and_coaches      LGVs  HGVs_2_rigid_axle  \\\n",
       "0        854794.0            12450.0  149575.0            25197.0   \n",
       "1        790255.0            10866.0  133033.0            27157.0   \n",
       "2        678480.0            10014.0  112072.0            16909.0   \n",
       "3        545282.0             9557.0   90392.0            13055.0   \n",
       "4        785261.0            14104.0  133462.0            21117.0   \n",
       "\n",
       "   HGVs_3_rigid_axle  HGVs_4_or_more_rigid_axle  HGVs_3_or_4_articulated_axle  \\\n",
       "0             3038.0                     4157.0                        2901.0   \n",
       "1             3557.0                     4063.0                        2581.0   \n",
       "2             2330.0                     3675.0                        1977.0   \n",
       "3             2356.0                     2514.0                        1608.0   \n",
       "4             3202.0                     3248.0                        2265.0   \n",
       "\n",
       "   HGVs_5_articulated_axle  HGVs_6_articulated_axle  all_HGVs  \\\n",
       "0                   4483.0                   3991.0   43767.0   \n",
       "1                   4871.0                   3990.0   46219.0   \n",
       "2                   3341.0                   2695.0   30927.0   \n",
       "3                   2859.0                   2421.0   24813.0   \n",
       "4                   3789.0                   4452.0   38074.0   \n",
       "\n",
       "   all_motor_vehicles   GDP  local_authority_name_encoded  \n",
       "0           1078647.0  66.5                             0  \n",
       "1            997789.0  68.5                             0  \n",
       "2            844343.0  70.1                             0  \n",
       "3            681643.0  71.4                             0  \n",
       "4            987232.0  73.9                             0  "
      ],
      "text/html": [
       "<div>\n",
       "<style scoped>\n",
       "    .dataframe tbody tr th:only-of-type {\n",
       "        vertical-align: middle;\n",
       "    }\n",
       "\n",
       "    .dataframe tbody tr th {\n",
       "        vertical-align: top;\n",
       "    }\n",
       "\n",
       "    .dataframe thead th {\n",
       "        text-align: right;\n",
       "    }\n",
       "</style>\n",
       "<table border=\"1\" class=\"dataframe\">\n",
       "  <thead>\n",
       "    <tr style=\"text-align: right;\">\n",
       "      <th></th>\n",
       "      <th>local_authority_name</th>\n",
       "      <th>year</th>\n",
       "      <th>pedal_cycles</th>\n",
       "      <th>two_wheeled_motor_vehicles</th>\n",
       "      <th>cars_and_taxis</th>\n",
       "      <th>buses_and_coaches</th>\n",
       "      <th>LGVs</th>\n",
       "      <th>HGVs_2_rigid_axle</th>\n",
       "      <th>HGVs_3_rigid_axle</th>\n",
       "      <th>HGVs_4_or_more_rigid_axle</th>\n",
       "      <th>HGVs_3_or_4_articulated_axle</th>\n",
       "      <th>HGVs_5_articulated_axle</th>\n",
       "      <th>HGVs_6_articulated_axle</th>\n",
       "      <th>all_HGVs</th>\n",
       "      <th>all_motor_vehicles</th>\n",
       "      <th>GDP</th>\n",
       "      <th>local_authority_name_encoded</th>\n",
       "    </tr>\n",
       "  </thead>\n",
       "  <tbody>\n",
       "    <tr>\n",
       "      <th>0</th>\n",
       "      <td>Barnet</td>\n",
       "      <td>2001</td>\n",
       "      <td>1686.0</td>\n",
       "      <td>18061.0</td>\n",
       "      <td>854794.0</td>\n",
       "      <td>12450.0</td>\n",
       "      <td>149575.0</td>\n",
       "      <td>25197.0</td>\n",
       "      <td>3038.0</td>\n",
       "      <td>4157.0</td>\n",
       "      <td>2901.0</td>\n",
       "      <td>4483.0</td>\n",
       "      <td>3991.0</td>\n",
       "      <td>43767.0</td>\n",
       "      <td>1078647.0</td>\n",
       "      <td>66.5</td>\n",
       "      <td>0</td>\n",
       "    </tr>\n",
       "    <tr>\n",
       "      <th>1</th>\n",
       "      <td>Barnet</td>\n",
       "      <td>2002</td>\n",
       "      <td>1787.0</td>\n",
       "      <td>17416.0</td>\n",
       "      <td>790255.0</td>\n",
       "      <td>10866.0</td>\n",
       "      <td>133033.0</td>\n",
       "      <td>27157.0</td>\n",
       "      <td>3557.0</td>\n",
       "      <td>4063.0</td>\n",
       "      <td>2581.0</td>\n",
       "      <td>4871.0</td>\n",
       "      <td>3990.0</td>\n",
       "      <td>46219.0</td>\n",
       "      <td>997789.0</td>\n",
       "      <td>68.5</td>\n",
       "      <td>0</td>\n",
       "    </tr>\n",
       "    <tr>\n",
       "      <th>2</th>\n",
       "      <td>Barnet</td>\n",
       "      <td>2003</td>\n",
       "      <td>1397.0</td>\n",
       "      <td>12850.0</td>\n",
       "      <td>678480.0</td>\n",
       "      <td>10014.0</td>\n",
       "      <td>112072.0</td>\n",
       "      <td>16909.0</td>\n",
       "      <td>2330.0</td>\n",
       "      <td>3675.0</td>\n",
       "      <td>1977.0</td>\n",
       "      <td>3341.0</td>\n",
       "      <td>2695.0</td>\n",
       "      <td>30927.0</td>\n",
       "      <td>844343.0</td>\n",
       "      <td>70.1</td>\n",
       "      <td>0</td>\n",
       "    </tr>\n",
       "    <tr>\n",
       "      <th>3</th>\n",
       "      <td>Barnet</td>\n",
       "      <td>2004</td>\n",
       "      <td>1534.0</td>\n",
       "      <td>11599.0</td>\n",
       "      <td>545282.0</td>\n",
       "      <td>9557.0</td>\n",
       "      <td>90392.0</td>\n",
       "      <td>13055.0</td>\n",
       "      <td>2356.0</td>\n",
       "      <td>2514.0</td>\n",
       "      <td>1608.0</td>\n",
       "      <td>2859.0</td>\n",
       "      <td>2421.0</td>\n",
       "      <td>24813.0</td>\n",
       "      <td>681643.0</td>\n",
       "      <td>71.4</td>\n",
       "      <td>0</td>\n",
       "    </tr>\n",
       "    <tr>\n",
       "      <th>4</th>\n",
       "      <td>Barnet</td>\n",
       "      <td>2005</td>\n",
       "      <td>2082.0</td>\n",
       "      <td>16331.0</td>\n",
       "      <td>785261.0</td>\n",
       "      <td>14104.0</td>\n",
       "      <td>133462.0</td>\n",
       "      <td>21117.0</td>\n",
       "      <td>3202.0</td>\n",
       "      <td>3248.0</td>\n",
       "      <td>2265.0</td>\n",
       "      <td>3789.0</td>\n",
       "      <td>4452.0</td>\n",
       "      <td>38074.0</td>\n",
       "      <td>987232.0</td>\n",
       "      <td>73.9</td>\n",
       "      <td>0</td>\n",
       "    </tr>\n",
       "  </tbody>\n",
       "</table>\n",
       "</div>"
      ]
     },
     "execution_count": 22,
     "metadata": {},
     "output_type": "execute_result"
    }
   ],
   "execution_count": 22
  },
  {
   "metadata": {},
   "cell_type": "markdown",
   "source": "## Select Feature and Model",
   "id": "8019445ef7c51f57"
  },
  {
   "metadata": {
    "ExecuteTime": {
     "end_time": "2025-03-11T22:34:37.589497Z",
     "start_time": "2025-03-11T22:34:37.586505Z"
    }
   },
   "cell_type": "code",
   "source": [
    "eTraffic = eTraffic[eTraffic['year'] < 2020]\n",
    "print(eTraffic['year'].min(), eTraffic['year'].max())\n",
    "print(eTraffic.shape)"
   ],
   "id": "f9c91e8c91dbb1fd",
   "outputs": [
    {
     "name": "stdout",
     "output_type": "stream",
     "text": [
      "2001 2019\n",
      "(1273, 17)\n"
     ]
    }
   ],
   "execution_count": 23
  },
  {
   "metadata": {
    "ExecuteTime": {
     "end_time": "2025-03-11T22:34:37.647323Z",
     "start_time": "2025-03-11T22:34:37.644077Z"
    }
   },
   "cell_type": "code",
   "source": [
    "X = eTraffic.drop(columns=['GDP', 'year', 'local_authority_name', 'local_authority_name_encoded'])\n",
    "y = eTraffic['GDP']\n",
    "print(X.shape, y.shape)"
   ],
   "id": "68a23baa6ec2e7ff",
   "outputs": [
    {
     "name": "stdout",
     "output_type": "stream",
     "text": [
      "(1273, 13) (1273,)\n"
     ]
    }
   ],
   "execution_count": 24
  },
  {
   "metadata": {
    "ExecuteTime": {
     "end_time": "2025-03-11T22:34:37.673142Z",
     "start_time": "2025-03-11T22:34:37.668815Z"
    }
   },
   "cell_type": "code",
   "source": "X_train, X_test, y_train, y_test = train_test_split(X, y, test_size=0.2, random_state=18)",
   "id": "56690867afcb3018",
   "outputs": [],
   "execution_count": 25
  },
  {
   "metadata": {
    "ExecuteTime": {
     "end_time": "2025-03-11T22:48:23.309851Z",
     "start_time": "2025-03-11T22:47:37.463934Z"
    }
   },
   "cell_type": "code",
   "source": [
    "param_dist = {\n",
    "    'n_estimators': np.arange(20, 100, step=5),\n",
    "    'max_depth': np.arange(3, 12, step=1),\n",
    "    'min_samples_split': np.arange(3, 12, step=1),\n",
    "    'min_samples_leaf': np.arange(2, 12, step=1),\n",
    "    'bootstrap': [True, False]\n",
    "}\n",
    "\n",
    "rf = RandomForestRegressor(random_state=18)\n",
    "random_search = RandomizedSearchCV(estimator=rf, param_distributions=param_dist, n_iter=40, cv=5, scoring='r2', random_state=18)\n",
    "random_search.fit(X_train, y_train)\n",
    "\n",
    "print(\"Best parameters:\", random_search.best_params_)\n",
    "print(\"Best score:\", random_search.best_score_)"
   ],
   "id": "b367174e119b0689",
   "outputs": [
    {
     "name": "stdout",
     "output_type": "stream",
     "text": [
      "Best parameters: {'n_estimators': 75, 'min_samples_split': 4, 'min_samples_leaf': 4, 'max_depth': 11, 'bootstrap': True}\n",
      "Best score: 0.5255180249320252\n"
     ]
    }
   ],
   "execution_count": 36
  },
  {
   "metadata": {
    "ExecuteTime": {
     "end_time": "2025-03-11T22:34:49.514477Z",
     "start_time": "2025-03-11T22:34:49.483521Z"
    }
   },
   "cell_type": "code",
   "source": [
    "# train set\n",
    "Y_train_hat = random_search.best_estimator_.predict(X_train)\n",
    "mse_train = mean_squared_error(y_train, Y_train_hat)\n",
    "mae_train = mean_absolute_error(y_train, Y_train_hat)\n",
    "mape_train = mean_absolute_percentage_error(y_train, Y_train_hat)\n",
    "r2_train = r2_score(y_train, Y_train_hat)\n",
    "\n",
    "# test set\n",
    "Y_test_hat = random_search.best_estimator_.predict(X_test)\n",
    "mse_test = mean_squared_error(y_test, Y_test_hat)\n",
    "mae_test = mean_absolute_error(y_test, Y_test_hat)\n",
    "mape_test = mean_absolute_percentage_error(y_test, Y_test_hat)\n",
    "r2_test = r2_score(y_test, Y_test_hat)\n",
    "\n",
    "print(f\"[RF][Training Set] MSE: {mse_train:.2f}; MAPE: {mape_train:.2f}; MAE: {mae_train:.2f}; R2 score: {r2_train:.2f}\")\n",
    "print(f\"[RF][Testing Set]  MSE: {mse_test:.2f}; MAPE: {mape_test:.2f}; MAE: {mae_test:.2f}; R2 score: {r2_test:.2f}\")\n",
    "\n",
    "feature_importances = random_search.best_estimator_.feature_importances_\n",
    "\n",
    "features_df = pd.DataFrame({\n",
    "    'Feature': X_train.columns,\n",
    "    'Importance': feature_importances\n",
    "}).sort_values(by='Importance', ascending=False)\n",
    "\n",
    "features_df"
   ],
   "id": "d44a9305352743a3",
   "outputs": [
    {
     "name": "stdout",
     "output_type": "stream",
     "text": [
      "[RF][Training Set] MSE: 22.57; MAPE: 0.04; MAE: 3.18; R2 score: 0.81\n",
      "[RF][Testing Set]  MSE: 69.36; MAPE: 0.07; MAE: 5.94; R2 score: 0.48\n"
     ]
    },
    {
     "data": {
      "text/plain": [
       "                         Feature  Importance\n",
       "8   HGVs_3_or_4_articulated_axle    0.213251\n",
       "5              HGVs_2_rigid_axle    0.212169\n",
       "10       HGVs_6_articulated_axle    0.182862\n",
       "7      HGVs_4_or_more_rigid_axle    0.092976\n",
       "4                           LGVs    0.064592\n",
       "3              buses_and_coaches    0.049750\n",
       "1     two_wheeled_motor_vehicles    0.046572\n",
       "0                   pedal_cycles    0.044034\n",
       "6              HGVs_3_rigid_axle    0.027269\n",
       "9        HGVs_5_articulated_axle    0.025034\n",
       "12            all_motor_vehicles    0.014783\n",
       "11                      all_HGVs    0.014010\n",
       "2                 cars_and_taxis    0.012697"
      ],
      "text/html": [
       "<div>\n",
       "<style scoped>\n",
       "    .dataframe tbody tr th:only-of-type {\n",
       "        vertical-align: middle;\n",
       "    }\n",
       "\n",
       "    .dataframe tbody tr th {\n",
       "        vertical-align: top;\n",
       "    }\n",
       "\n",
       "    .dataframe thead th {\n",
       "        text-align: right;\n",
       "    }\n",
       "</style>\n",
       "<table border=\"1\" class=\"dataframe\">\n",
       "  <thead>\n",
       "    <tr style=\"text-align: right;\">\n",
       "      <th></th>\n",
       "      <th>Feature</th>\n",
       "      <th>Importance</th>\n",
       "    </tr>\n",
       "  </thead>\n",
       "  <tbody>\n",
       "    <tr>\n",
       "      <th>8</th>\n",
       "      <td>HGVs_3_or_4_articulated_axle</td>\n",
       "      <td>0.213251</td>\n",
       "    </tr>\n",
       "    <tr>\n",
       "      <th>5</th>\n",
       "      <td>HGVs_2_rigid_axle</td>\n",
       "      <td>0.212169</td>\n",
       "    </tr>\n",
       "    <tr>\n",
       "      <th>10</th>\n",
       "      <td>HGVs_6_articulated_axle</td>\n",
       "      <td>0.182862</td>\n",
       "    </tr>\n",
       "    <tr>\n",
       "      <th>7</th>\n",
       "      <td>HGVs_4_or_more_rigid_axle</td>\n",
       "      <td>0.092976</td>\n",
       "    </tr>\n",
       "    <tr>\n",
       "      <th>4</th>\n",
       "      <td>LGVs</td>\n",
       "      <td>0.064592</td>\n",
       "    </tr>\n",
       "    <tr>\n",
       "      <th>3</th>\n",
       "      <td>buses_and_coaches</td>\n",
       "      <td>0.049750</td>\n",
       "    </tr>\n",
       "    <tr>\n",
       "      <th>1</th>\n",
       "      <td>two_wheeled_motor_vehicles</td>\n",
       "      <td>0.046572</td>\n",
       "    </tr>\n",
       "    <tr>\n",
       "      <th>0</th>\n",
       "      <td>pedal_cycles</td>\n",
       "      <td>0.044034</td>\n",
       "    </tr>\n",
       "    <tr>\n",
       "      <th>6</th>\n",
       "      <td>HGVs_3_rigid_axle</td>\n",
       "      <td>0.027269</td>\n",
       "    </tr>\n",
       "    <tr>\n",
       "      <th>9</th>\n",
       "      <td>HGVs_5_articulated_axle</td>\n",
       "      <td>0.025034</td>\n",
       "    </tr>\n",
       "    <tr>\n",
       "      <th>12</th>\n",
       "      <td>all_motor_vehicles</td>\n",
       "      <td>0.014783</td>\n",
       "    </tr>\n",
       "    <tr>\n",
       "      <th>11</th>\n",
       "      <td>all_HGVs</td>\n",
       "      <td>0.014010</td>\n",
       "    </tr>\n",
       "    <tr>\n",
       "      <th>2</th>\n",
       "      <td>cars_and_taxis</td>\n",
       "      <td>0.012697</td>\n",
       "    </tr>\n",
       "  </tbody>\n",
       "</table>\n",
       "</div>"
      ]
     },
     "execution_count": 27,
     "metadata": {},
     "output_type": "execute_result"
    }
   ],
   "execution_count": 27
  },
  {
   "metadata": {},
   "cell_type": "markdown",
   "source": "### Select features with cumulative importance in the top 85%",
   "id": "37f890f82a6aa573"
  },
  {
   "metadata": {
    "ExecuteTime": {
     "end_time": "2025-03-11T22:34:49.571447Z",
     "start_time": "2025-03-11T22:34:49.567584Z"
    }
   },
   "cell_type": "code",
   "source": [
    "features_df['Cumulative Importance'] = features_df['Importance'].cumsum()\n",
    "\n",
    "selected_features = features_df[features_df['Cumulative Importance'] <= 0.85]['Feature']\n",
    "print(f\"Selected Features number: {len(selected_features)}\")\n",
    "print(f\"Selected Features: \\n{selected_features}\")"
   ],
   "id": "81a2203f82edb98e",
   "outputs": [
    {
     "name": "stdout",
     "output_type": "stream",
     "text": [
      "Selected Features number: 6\n",
      "Selected Features: \n",
      "8     HGVs_3_or_4_articulated_axle\n",
      "5                HGVs_2_rigid_axle\n",
      "10         HGVs_6_articulated_axle\n",
      "7        HGVs_4_or_more_rigid_axle\n",
      "4                             LGVs\n",
      "3                buses_and_coaches\n",
      "Name: Feature, dtype: object\n"
     ]
    }
   ],
   "execution_count": 28
  },
  {
   "metadata": {},
   "cell_type": "markdown",
   "source": "## Retrain the model using selected features",
   "id": "e94e689a004645c6"
  },
  {
   "metadata": {
    "ExecuteTime": {
     "end_time": "2025-03-11T22:34:49.629747Z",
     "start_time": "2025-03-11T22:34:49.626200Z"
    }
   },
   "cell_type": "code",
   "source": [
    "X_train_selected = X_train[selected_features]\n",
    "X_test_selected = X_test[selected_features]\n",
    "\n",
    "print(X_train_selected.shape, X_test_selected.shape)\n",
    "print(X_train_selected.columns)"
   ],
   "id": "389098c637f7429a",
   "outputs": [
    {
     "name": "stdout",
     "output_type": "stream",
     "text": [
      "(1018, 6) (255, 6)\n",
      "Index(['HGVs_3_or_4_articulated_axle', 'HGVs_2_rigid_axle',\n",
      "       'HGVs_6_articulated_axle', 'HGVs_4_or_more_rigid_axle', 'LGVs',\n",
      "       'buses_and_coaches'],\n",
      "      dtype='object')\n"
     ]
    }
   ],
   "execution_count": 29
  },
  {
   "metadata": {
    "ExecuteTime": {
     "end_time": "2025-03-11T22:53:49.533341Z",
     "start_time": "2025-03-11T22:53:29.207750Z"
    }
   },
   "cell_type": "code",
   "source": [
    "# modeling\n",
    "param_dist = {\n",
    "    'n_estimators': np.arange(20, 80, step=5),\n",
    "    'max_depth': np.arange(3, 12, step=1),\n",
    "    'min_samples_split': np.arange(3, 12, step=1),\n",
    "    'min_samples_leaf': np.arange(2, 12, step=1),\n",
    "    'bootstrap': [True, False]\n",
    "}\n",
    "\n",
    "rf = RandomForestRegressor(random_state=18)\n",
    "random_search = RandomizedSearchCV(estimator=rf, param_distributions=param_dist, n_iter=40, cv=5, scoring='r2', random_state=18)\n",
    "random_search.fit(X_train_selected, y_train)\n",
    "\n",
    "print(\"Best parameters:\", random_search.best_params_)\n",
    "print(\"Best score:\", random_search.best_score_)\n",
    "\n",
    "rf_best = random_search.best_estimator_\n",
    "\n",
    "# test set\n",
    "Y_test_hat = rf_best.predict(X_test_selected)\n",
    "mse_test = mean_squared_error(y_test, Y_test_hat)\n",
    "mae_test = mean_absolute_error(y_test, Y_test_hat)\n",
    "mape_test = mean_absolute_percentage_error(y_test, Y_test_hat)\n",
    "r2_test = r2_score(y_test, Y_test_hat)\n",
    "\n",
    "# train set\n",
    "Y_train_hat = rf_best.predict(X_train_selected)\n",
    "mse_train = mean_squared_error(y_train, Y_train_hat)\n",
    "mae_train = mean_absolute_error(y_train, Y_train_hat)\n",
    "mape_train = mean_absolute_percentage_error(y_train, Y_train_hat)\n",
    "r2_train = r2_score(y_train, Y_train_hat)\n",
    "\n",
    "print(f\"[RF][Training Set] MSE: {mse_train:.2f}; MAPE: {mape_train:.2f}; MAE: {mae_train:.2f}; R2 score: {r2_train:.2f}\")\n",
    "print(f\"[RF][Testing Set]  MSE: {mse_test:.2f}; MAPE: {mape_test:.2f}; MAE: {mae_test:.2f}; R2 score: {r2_test:.2f}\")"
   ],
   "id": "6269f17ead82af1",
   "outputs": [
    {
     "name": "stdout",
     "output_type": "stream",
     "text": [
      "Best parameters: {'n_estimators': 50, 'min_samples_split': 9, 'min_samples_leaf': 5, 'max_depth': 9, 'bootstrap': True}\n",
      "Best score: 0.4983552689142049\n",
      "[RF][Training Set] MSE: 26.31; MAPE: 0.04; MAE: 3.53; R2 score: 0.77\n",
      "[RF][Testing Set]  MSE: 71.01; MAPE: 0.07; MAE: 5.95; R2 score: 0.47\n"
     ]
    }
   ],
   "execution_count": 37
  },
  {
   "metadata": {},
   "cell_type": "markdown",
   "source": "### Grid search in a small range base on privous parameters\n",
   "id": "dfeabe2efcd8713a"
  },
  {
   "metadata": {
    "ExecuteTime": {
     "end_time": "2025-03-11T22:59:11.123690Z",
     "start_time": "2025-03-11T22:59:06.509695Z"
    }
   },
   "cell_type": "code",
   "source": [
    "best_model = random_search.best_params_\n",
    "# param_grid = {\n",
    "#     'n_estimators': np.arange(-10, 10, step=3) + best_model['n_estimators'],  # 树的数量\n",
    "#     'max_depth': np.arange(-2, 2, step=3) + best_model['max_depth'],  # 树的最大深度\n",
    "#     'min_samples_split': np.arange(2, 4, step=2) + best_model['min_samples_leaf'],  # 节点分裂所需的最小样本数\n",
    "#     'min_samples_leaf': np.arange(2, 4, step=2) + best_model['min_samples_leaf'],\n",
    "#     'bootstrap': [best_model['bootstrap']]\n",
    "# }\n",
    "\n",
    "param_grid = {\n",
    "    'n_estimators': [18, 20],\n",
    "    'max_depth': [6, 7, 8],\n",
    "    'min_samples_split': [15, 19],\n",
    "    'min_samples_leaf': [13, 16],\n",
    "    'bootstrap': [True]\n",
    "}\n",
    "\n",
    "rf = RandomForestRegressor(random_state=18)\n",
    "grid_search = GridSearchCV(estimator=rf, param_grid=param_grid, cv=5, verbose=2, scoring='r2')\n",
    "grid_search.fit(X_train_selected, y_train)\n",
    "\n",
    "print(\"Best parameters:\", grid_search.best_params_)\n",
    "print(\"Best score:\", grid_search.best_score_)\n",
    "\n",
    "# train set\n",
    "Y_train_hat = grid_search.best_estimator_.predict(X_train_selected)\n",
    "mse_train = mean_squared_error(y_train, Y_train_hat)\n",
    "mae_train = mean_absolute_error(y_train, Y_train_hat)\n",
    "mape_train = mean_absolute_percentage_error(y_train, Y_train_hat)\n",
    "r2_train = r2_score(y_train, Y_train_hat)\n",
    "\n",
    "# test set\n",
    "Y_test_hat = grid_search.best_estimator_.predict(X_test_selected)\n",
    "mse_test = mean_squared_error(y_test, Y_test_hat)\n",
    "mae_test = mean_absolute_error(y_test, Y_test_hat)\n",
    "mape_test = mean_absolute_percentage_error(y_test, Y_test_hat)\n",
    "r2_test = r2_score(y_test, Y_test_hat)\n",
    "\n",
    "print(f\"[RF][Training Set] MSE: {mse_train:.2f}; MAPE: {mape_train:.2f}; MAE: {mae_train:.2f}; R2 score: {r2_train:.2f}\")\n",
    "print(f\"[RF][Testing Set]  MSE: {mse_test:.2f}; MAPE: {mape_test:.2f}; MAE: {mae_test:.2f}; R2 score: {r2_test:.2f}\")"
   ],
   "id": "aa0b0fa7c79852af",
   "outputs": [
    {
     "name": "stdout",
     "output_type": "stream",
     "text": [
      "Fitting 5 folds for each of 24 candidates, totalling 120 fits\n",
      "[CV] END bootstrap=True, max_depth=6, min_samples_leaf=13, min_samples_split=15, n_estimators=18; total time=   0.0s\n",
      "[CV] END bootstrap=True, max_depth=6, min_samples_leaf=13, min_samples_split=15, n_estimators=18; total time=   0.0s\n",
      "[CV] END bootstrap=True, max_depth=6, min_samples_leaf=13, min_samples_split=15, n_estimators=18; total time=   0.0s\n",
      "[CV] END bootstrap=True, max_depth=6, min_samples_leaf=13, min_samples_split=15, n_estimators=18; total time=   0.0s\n",
      "[CV] END bootstrap=True, max_depth=6, min_samples_leaf=13, min_samples_split=15, n_estimators=18; total time=   0.0s\n",
      "[CV] END bootstrap=True, max_depth=6, min_samples_leaf=13, min_samples_split=15, n_estimators=20; total time=   0.0s\n",
      "[CV] END bootstrap=True, max_depth=6, min_samples_leaf=13, min_samples_split=15, n_estimators=20; total time=   0.0s\n",
      "[CV] END bootstrap=True, max_depth=6, min_samples_leaf=13, min_samples_split=15, n_estimators=20; total time=   0.0s\n",
      "[CV] END bootstrap=True, max_depth=6, min_samples_leaf=13, min_samples_split=15, n_estimators=20; total time=   0.0s\n",
      "[CV] END bootstrap=True, max_depth=6, min_samples_leaf=13, min_samples_split=15, n_estimators=20; total time=   0.0s\n",
      "[CV] END bootstrap=True, max_depth=6, min_samples_leaf=13, min_samples_split=19, n_estimators=18; total time=   0.0s\n",
      "[CV] END bootstrap=True, max_depth=6, min_samples_leaf=13, min_samples_split=19, n_estimators=18; total time=   0.0s\n",
      "[CV] END bootstrap=True, max_depth=6, min_samples_leaf=13, min_samples_split=19, n_estimators=18; total time=   0.0s\n",
      "[CV] END bootstrap=True, max_depth=6, min_samples_leaf=13, min_samples_split=19, n_estimators=18; total time=   0.0s\n",
      "[CV] END bootstrap=True, max_depth=6, min_samples_leaf=13, min_samples_split=19, n_estimators=18; total time=   0.0s\n",
      "[CV] END bootstrap=True, max_depth=6, min_samples_leaf=13, min_samples_split=19, n_estimators=20; total time=   0.0s\n",
      "[CV] END bootstrap=True, max_depth=6, min_samples_leaf=13, min_samples_split=19, n_estimators=20; total time=   0.0s\n",
      "[CV] END bootstrap=True, max_depth=6, min_samples_leaf=13, min_samples_split=19, n_estimators=20; total time=   0.0s\n",
      "[CV] END bootstrap=True, max_depth=6, min_samples_leaf=13, min_samples_split=19, n_estimators=20; total time=   0.0s\n",
      "[CV] END bootstrap=True, max_depth=6, min_samples_leaf=13, min_samples_split=19, n_estimators=20; total time=   0.0s\n",
      "[CV] END bootstrap=True, max_depth=6, min_samples_leaf=16, min_samples_split=15, n_estimators=18; total time=   0.0s\n",
      "[CV] END bootstrap=True, max_depth=6, min_samples_leaf=16, min_samples_split=15, n_estimators=18; total time=   0.0s\n",
      "[CV] END bootstrap=True, max_depth=6, min_samples_leaf=16, min_samples_split=15, n_estimators=18; total time=   0.0s\n",
      "[CV] END bootstrap=True, max_depth=6, min_samples_leaf=16, min_samples_split=15, n_estimators=18; total time=   0.0s\n",
      "[CV] END bootstrap=True, max_depth=6, min_samples_leaf=16, min_samples_split=15, n_estimators=18; total time=   0.0s\n",
      "[CV] END bootstrap=True, max_depth=6, min_samples_leaf=16, min_samples_split=15, n_estimators=20; total time=   0.0s\n",
      "[CV] END bootstrap=True, max_depth=6, min_samples_leaf=16, min_samples_split=15, n_estimators=20; total time=   0.0s\n",
      "[CV] END bootstrap=True, max_depth=6, min_samples_leaf=16, min_samples_split=15, n_estimators=20; total time=   0.0s\n",
      "[CV] END bootstrap=True, max_depth=6, min_samples_leaf=16, min_samples_split=15, n_estimators=20; total time=   0.0s\n",
      "[CV] END bootstrap=True, max_depth=6, min_samples_leaf=16, min_samples_split=15, n_estimators=20; total time=   0.0s\n",
      "[CV] END bootstrap=True, max_depth=6, min_samples_leaf=16, min_samples_split=19, n_estimators=18; total time=   0.0s\n",
      "[CV] END bootstrap=True, max_depth=6, min_samples_leaf=16, min_samples_split=19, n_estimators=18; total time=   0.0s\n",
      "[CV] END bootstrap=True, max_depth=6, min_samples_leaf=16, min_samples_split=19, n_estimators=18; total time=   0.0s\n",
      "[CV] END bootstrap=True, max_depth=6, min_samples_leaf=16, min_samples_split=19, n_estimators=18; total time=   0.0s\n",
      "[CV] END bootstrap=True, max_depth=6, min_samples_leaf=16, min_samples_split=19, n_estimators=18; total time=   0.0s\n",
      "[CV] END bootstrap=True, max_depth=6, min_samples_leaf=16, min_samples_split=19, n_estimators=20; total time=   0.0s\n",
      "[CV] END bootstrap=True, max_depth=6, min_samples_leaf=16, min_samples_split=19, n_estimators=20; total time=   0.0s\n",
      "[CV] END bootstrap=True, max_depth=6, min_samples_leaf=16, min_samples_split=19, n_estimators=20; total time=   0.0s\n",
      "[CV] END bootstrap=True, max_depth=6, min_samples_leaf=16, min_samples_split=19, n_estimators=20; total time=   0.0s\n",
      "[CV] END bootstrap=True, max_depth=6, min_samples_leaf=16, min_samples_split=19, n_estimators=20; total time=   0.0s\n",
      "[CV] END bootstrap=True, max_depth=7, min_samples_leaf=13, min_samples_split=15, n_estimators=18; total time=   0.0s\n",
      "[CV] END bootstrap=True, max_depth=7, min_samples_leaf=13, min_samples_split=15, n_estimators=18; total time=   0.0s\n",
      "[CV] END bootstrap=True, max_depth=7, min_samples_leaf=13, min_samples_split=15, n_estimators=18; total time=   0.0s\n",
      "[CV] END bootstrap=True, max_depth=7, min_samples_leaf=13, min_samples_split=15, n_estimators=18; total time=   0.0s\n",
      "[CV] END bootstrap=True, max_depth=7, min_samples_leaf=13, min_samples_split=15, n_estimators=18; total time=   0.0s\n",
      "[CV] END bootstrap=True, max_depth=7, min_samples_leaf=13, min_samples_split=15, n_estimators=20; total time=   0.0s\n",
      "[CV] END bootstrap=True, max_depth=7, min_samples_leaf=13, min_samples_split=15, n_estimators=20; total time=   0.0s\n",
      "[CV] END bootstrap=True, max_depth=7, min_samples_leaf=13, min_samples_split=15, n_estimators=20; total time=   0.0s\n",
      "[CV] END bootstrap=True, max_depth=7, min_samples_leaf=13, min_samples_split=15, n_estimators=20; total time=   0.0s\n",
      "[CV] END bootstrap=True, max_depth=7, min_samples_leaf=13, min_samples_split=15, n_estimators=20; total time=   0.0s\n",
      "[CV] END bootstrap=True, max_depth=7, min_samples_leaf=13, min_samples_split=19, n_estimators=18; total time=   0.0s\n",
      "[CV] END bootstrap=True, max_depth=7, min_samples_leaf=13, min_samples_split=19, n_estimators=18; total time=   0.0s\n",
      "[CV] END bootstrap=True, max_depth=7, min_samples_leaf=13, min_samples_split=19, n_estimators=18; total time=   0.0s\n",
      "[CV] END bootstrap=True, max_depth=7, min_samples_leaf=13, min_samples_split=19, n_estimators=18; total time=   0.0s\n",
      "[CV] END bootstrap=True, max_depth=7, min_samples_leaf=13, min_samples_split=19, n_estimators=18; total time=   0.0s\n",
      "[CV] END bootstrap=True, max_depth=7, min_samples_leaf=13, min_samples_split=19, n_estimators=20; total time=   0.0s\n",
      "[CV] END bootstrap=True, max_depth=7, min_samples_leaf=13, min_samples_split=19, n_estimators=20; total time=   0.0s\n",
      "[CV] END bootstrap=True, max_depth=7, min_samples_leaf=13, min_samples_split=19, n_estimators=20; total time=   0.0s\n",
      "[CV] END bootstrap=True, max_depth=7, min_samples_leaf=13, min_samples_split=19, n_estimators=20; total time=   0.0s\n",
      "[CV] END bootstrap=True, max_depth=7, min_samples_leaf=13, min_samples_split=19, n_estimators=20; total time=   0.0s\n",
      "[CV] END bootstrap=True, max_depth=7, min_samples_leaf=16, min_samples_split=15, n_estimators=18; total time=   0.0s\n",
      "[CV] END bootstrap=True, max_depth=7, min_samples_leaf=16, min_samples_split=15, n_estimators=18; total time=   0.0s\n",
      "[CV] END bootstrap=True, max_depth=7, min_samples_leaf=16, min_samples_split=15, n_estimators=18; total time=   0.0s\n",
      "[CV] END bootstrap=True, max_depth=7, min_samples_leaf=16, min_samples_split=15, n_estimators=18; total time=   0.0s\n",
      "[CV] END bootstrap=True, max_depth=7, min_samples_leaf=16, min_samples_split=15, n_estimators=18; total time=   0.0s\n",
      "[CV] END bootstrap=True, max_depth=7, min_samples_leaf=16, min_samples_split=15, n_estimators=20; total time=   0.0s\n",
      "[CV] END bootstrap=True, max_depth=7, min_samples_leaf=16, min_samples_split=15, n_estimators=20; total time=   0.0s\n",
      "[CV] END bootstrap=True, max_depth=7, min_samples_leaf=16, min_samples_split=15, n_estimators=20; total time=   0.0s\n",
      "[CV] END bootstrap=True, max_depth=7, min_samples_leaf=16, min_samples_split=15, n_estimators=20; total time=   0.0s\n",
      "[CV] END bootstrap=True, max_depth=7, min_samples_leaf=16, min_samples_split=15, n_estimators=20; total time=   0.0s\n",
      "[CV] END bootstrap=True, max_depth=7, min_samples_leaf=16, min_samples_split=19, n_estimators=18; total time=   0.0s\n",
      "[CV] END bootstrap=True, max_depth=7, min_samples_leaf=16, min_samples_split=19, n_estimators=18; total time=   0.0s\n",
      "[CV] END bootstrap=True, max_depth=7, min_samples_leaf=16, min_samples_split=19, n_estimators=18; total time=   0.0s\n",
      "[CV] END bootstrap=True, max_depth=7, min_samples_leaf=16, min_samples_split=19, n_estimators=18; total time=   0.0s\n",
      "[CV] END bootstrap=True, max_depth=7, min_samples_leaf=16, min_samples_split=19, n_estimators=18; total time=   0.0s\n",
      "[CV] END bootstrap=True, max_depth=7, min_samples_leaf=16, min_samples_split=19, n_estimators=20; total time=   0.0s\n",
      "[CV] END bootstrap=True, max_depth=7, min_samples_leaf=16, min_samples_split=19, n_estimators=20; total time=   0.0s\n",
      "[CV] END bootstrap=True, max_depth=7, min_samples_leaf=16, min_samples_split=19, n_estimators=20; total time=   0.0s\n",
      "[CV] END bootstrap=True, max_depth=7, min_samples_leaf=16, min_samples_split=19, n_estimators=20; total time=   0.0s\n",
      "[CV] END bootstrap=True, max_depth=7, min_samples_leaf=16, min_samples_split=19, n_estimators=20; total time=   0.0s\n",
      "[CV] END bootstrap=True, max_depth=8, min_samples_leaf=13, min_samples_split=15, n_estimators=18; total time=   0.0s\n",
      "[CV] END bootstrap=True, max_depth=8, min_samples_leaf=13, min_samples_split=15, n_estimators=18; total time=   0.0s\n",
      "[CV] END bootstrap=True, max_depth=8, min_samples_leaf=13, min_samples_split=15, n_estimators=18; total time=   0.0s\n",
      "[CV] END bootstrap=True, max_depth=8, min_samples_leaf=13, min_samples_split=15, n_estimators=18; total time=   0.0s\n",
      "[CV] END bootstrap=True, max_depth=8, min_samples_leaf=13, min_samples_split=15, n_estimators=18; total time=   0.0s\n",
      "[CV] END bootstrap=True, max_depth=8, min_samples_leaf=13, min_samples_split=15, n_estimators=20; total time=   0.0s\n",
      "[CV] END bootstrap=True, max_depth=8, min_samples_leaf=13, min_samples_split=15, n_estimators=20; total time=   0.0s\n",
      "[CV] END bootstrap=True, max_depth=8, min_samples_leaf=13, min_samples_split=15, n_estimators=20; total time=   0.0s\n",
      "[CV] END bootstrap=True, max_depth=8, min_samples_leaf=13, min_samples_split=15, n_estimators=20; total time=   0.0s\n",
      "[CV] END bootstrap=True, max_depth=8, min_samples_leaf=13, min_samples_split=15, n_estimators=20; total time=   0.0s\n",
      "[CV] END bootstrap=True, max_depth=8, min_samples_leaf=13, min_samples_split=19, n_estimators=18; total time=   0.0s\n",
      "[CV] END bootstrap=True, max_depth=8, min_samples_leaf=13, min_samples_split=19, n_estimators=18; total time=   0.0s\n",
      "[CV] END bootstrap=True, max_depth=8, min_samples_leaf=13, min_samples_split=19, n_estimators=18; total time=   0.0s\n",
      "[CV] END bootstrap=True, max_depth=8, min_samples_leaf=13, min_samples_split=19, n_estimators=18; total time=   0.0s\n",
      "[CV] END bootstrap=True, max_depth=8, min_samples_leaf=13, min_samples_split=19, n_estimators=18; total time=   0.0s\n",
      "[CV] END bootstrap=True, max_depth=8, min_samples_leaf=13, min_samples_split=19, n_estimators=20; total time=   0.0s\n",
      "[CV] END bootstrap=True, max_depth=8, min_samples_leaf=13, min_samples_split=19, n_estimators=20; total time=   0.0s\n",
      "[CV] END bootstrap=True, max_depth=8, min_samples_leaf=13, min_samples_split=19, n_estimators=20; total time=   0.0s\n",
      "[CV] END bootstrap=True, max_depth=8, min_samples_leaf=13, min_samples_split=19, n_estimators=20; total time=   0.0s\n",
      "[CV] END bootstrap=True, max_depth=8, min_samples_leaf=13, min_samples_split=19, n_estimators=20; total time=   0.0s\n",
      "[CV] END bootstrap=True, max_depth=8, min_samples_leaf=16, min_samples_split=15, n_estimators=18; total time=   0.0s\n",
      "[CV] END bootstrap=True, max_depth=8, min_samples_leaf=16, min_samples_split=15, n_estimators=18; total time=   0.0s\n",
      "[CV] END bootstrap=True, max_depth=8, min_samples_leaf=16, min_samples_split=15, n_estimators=18; total time=   0.0s\n",
      "[CV] END bootstrap=True, max_depth=8, min_samples_leaf=16, min_samples_split=15, n_estimators=18; total time=   0.0s\n",
      "[CV] END bootstrap=True, max_depth=8, min_samples_leaf=16, min_samples_split=15, n_estimators=18; total time=   0.0s\n",
      "[CV] END bootstrap=True, max_depth=8, min_samples_leaf=16, min_samples_split=15, n_estimators=20; total time=   0.0s\n",
      "[CV] END bootstrap=True, max_depth=8, min_samples_leaf=16, min_samples_split=15, n_estimators=20; total time=   0.0s\n",
      "[CV] END bootstrap=True, max_depth=8, min_samples_leaf=16, min_samples_split=15, n_estimators=20; total time=   0.0s\n",
      "[CV] END bootstrap=True, max_depth=8, min_samples_leaf=16, min_samples_split=15, n_estimators=20; total time=   0.0s\n",
      "[CV] END bootstrap=True, max_depth=8, min_samples_leaf=16, min_samples_split=15, n_estimators=20; total time=   0.0s\n",
      "[CV] END bootstrap=True, max_depth=8, min_samples_leaf=16, min_samples_split=19, n_estimators=18; total time=   0.0s\n",
      "[CV] END bootstrap=True, max_depth=8, min_samples_leaf=16, min_samples_split=19, n_estimators=18; total time=   0.0s\n",
      "[CV] END bootstrap=True, max_depth=8, min_samples_leaf=16, min_samples_split=19, n_estimators=18; total time=   0.0s\n",
      "[CV] END bootstrap=True, max_depth=8, min_samples_leaf=16, min_samples_split=19, n_estimators=18; total time=   0.0s\n",
      "[CV] END bootstrap=True, max_depth=8, min_samples_leaf=16, min_samples_split=19, n_estimators=18; total time=   0.0s\n",
      "[CV] END bootstrap=True, max_depth=8, min_samples_leaf=16, min_samples_split=19, n_estimators=20; total time=   0.0s\n",
      "[CV] END bootstrap=True, max_depth=8, min_samples_leaf=16, min_samples_split=19, n_estimators=20; total time=   0.0s\n",
      "[CV] END bootstrap=True, max_depth=8, min_samples_leaf=16, min_samples_split=19, n_estimators=20; total time=   0.0s\n",
      "[CV] END bootstrap=True, max_depth=8, min_samples_leaf=16, min_samples_split=19, n_estimators=20; total time=   0.0s\n",
      "[CV] END bootstrap=True, max_depth=8, min_samples_leaf=16, min_samples_split=19, n_estimators=20; total time=   0.0s\n",
      "Best parameters: {'bootstrap': True, 'max_depth': 8, 'min_samples_leaf': 13, 'min_samples_split': 15, 'n_estimators': 20}\n",
      "Best score: 0.44720934172428084\n",
      "[RF][Training Set] MSE: 41.52; MAPE: 0.06; MAE: 4.62; R2 score: 0.64\n",
      "[RF][Testing Set]  MSE: 78.07; MAPE: 0.08; MAE: 6.37; R2 score: 0.42\n"
     ]
    }
   ],
   "execution_count": 61
  },
  {
   "metadata": {
    "ExecuteTime": {
     "end_time": "2025-03-11T22:35:06.857991Z",
     "start_time": "2025-03-11T22:35:06.851618Z"
    }
   },
   "cell_type": "code",
   "source": [
    "feature_importances = grid_search.best_estimator_.feature_importances_\n",
    "print(feature_importances.shape)\n",
    "print(X_train_selected.shape)\n",
    "features_df = pd.DataFrame({\n",
    "    'Feature': X_train_selected.columns,\n",
    "    'Importance': feature_importances\n",
    "}).sort_values(by='Importance', ascending=False)\n",
    "\n",
    "features_df"
   ],
   "id": "36119e5fa97c9a30",
   "outputs": [
    {
     "name": "stdout",
     "output_type": "stream",
     "text": [
      "(6,)\n",
      "(1018, 6)\n"
     ]
    },
    {
     "data": {
      "text/plain": [
       "                        Feature  Importance\n",
       "1             HGVs_2_rigid_axle    0.270663\n",
       "0  HGVs_3_or_4_articulated_axle    0.249589\n",
       "2       HGVs_6_articulated_axle    0.218601\n",
       "3     HGVs_4_or_more_rigid_axle    0.112295\n",
       "4                          LGVs    0.088616\n",
       "5             buses_and_coaches    0.060237"
      ],
      "text/html": [
       "<div>\n",
       "<style scoped>\n",
       "    .dataframe tbody tr th:only-of-type {\n",
       "        vertical-align: middle;\n",
       "    }\n",
       "\n",
       "    .dataframe tbody tr th {\n",
       "        vertical-align: top;\n",
       "    }\n",
       "\n",
       "    .dataframe thead th {\n",
       "        text-align: right;\n",
       "    }\n",
       "</style>\n",
       "<table border=\"1\" class=\"dataframe\">\n",
       "  <thead>\n",
       "    <tr style=\"text-align: right;\">\n",
       "      <th></th>\n",
       "      <th>Feature</th>\n",
       "      <th>Importance</th>\n",
       "    </tr>\n",
       "  </thead>\n",
       "  <tbody>\n",
       "    <tr>\n",
       "      <th>1</th>\n",
       "      <td>HGVs_2_rigid_axle</td>\n",
       "      <td>0.270663</td>\n",
       "    </tr>\n",
       "    <tr>\n",
       "      <th>0</th>\n",
       "      <td>HGVs_3_or_4_articulated_axle</td>\n",
       "      <td>0.249589</td>\n",
       "    </tr>\n",
       "    <tr>\n",
       "      <th>2</th>\n",
       "      <td>HGVs_6_articulated_axle</td>\n",
       "      <td>0.218601</td>\n",
       "    </tr>\n",
       "    <tr>\n",
       "      <th>3</th>\n",
       "      <td>HGVs_4_or_more_rigid_axle</td>\n",
       "      <td>0.112295</td>\n",
       "    </tr>\n",
       "    <tr>\n",
       "      <th>4</th>\n",
       "      <td>LGVs</td>\n",
       "      <td>0.088616</td>\n",
       "    </tr>\n",
       "    <tr>\n",
       "      <th>5</th>\n",
       "      <td>buses_and_coaches</td>\n",
       "      <td>0.060237</td>\n",
       "    </tr>\n",
       "  </tbody>\n",
       "</table>\n",
       "</div>"
      ]
     },
     "execution_count": 32,
     "metadata": {},
     "output_type": "execute_result"
    }
   ],
   "execution_count": 32
  },
  {
   "metadata": {
    "ExecuteTime": {
     "end_time": "2025-03-11T22:35:06.999963Z",
     "start_time": "2025-03-11T22:35:06.884123Z"
    }
   },
   "cell_type": "code",
   "source": [
    "# plot importance of features\n",
    "plt.figure(figsize=(8, 6))\n",
    "plt.bar(x=0, bottom=features_df['Feature'],\n",
    "        height=0.5, width=features_df['Importance'], orientation='horizontal')\n",
    "plt.xlabel('Importance')\n",
    "plt.ylabel('Feature')\n",
    "plt.title('Selected Feature Importances')\n",
    "plt.show()"
   ],
   "id": "e5ca79dce9219cdf",
   "outputs": [
    {
     "data": {
      "text/plain": [
       "<Figure size 800x600 with 1 Axes>"
      ],
      "image/png": "[encoded data removed]"
     },
     "metadata": {},
     "output_type": "display_data"
    }
   ],
   "execution_count": 33
  },
  {
   "metadata": {},
   "cell_type": "markdown",
   "source": [
    "As we have found the important features:\n",
    "- HGVs_3_or_4_articulated_axle\n",
    "- HGVs_6_articulated_axle\n",
    "- LGVs\n",
    "- HGVs_2_rigid_axle\n",
    "- HGVs_4_or_more_rigid_axle\n"
   ],
   "id": "431efb6ce05552d5"
  },
  {
   "metadata": {
    "ExecuteTime": {
     "end_time": "2025-03-11T22:35:07.030140Z",
     "start_time": "2025-03-11T22:35:07.028443Z"
    }
   },
   "cell_type": "code",
   "source": "",
   "id": "2c05faca37285416",
   "outputs": [],
   "execution_count": null
  }
 ],
 "metadata": {
  "kernelspec": {
   "display_name": "Python 3",
   "language": "python",
   "name": "python3"
  },
  "language_info": {
   "codemirror_mode": {
    "name": "ipython",
    "version": 2
   },
   "file_extension": ".py",
   "mimetype": "text/x-python",
   "name": "python",
   "nbconvert_exporter": "python",
   "pygments_lexer": "ipython2",
   "version": "2.7.6"
  }
 },
 "nbformat": 4,
 "nbformat_minor": 5
}
