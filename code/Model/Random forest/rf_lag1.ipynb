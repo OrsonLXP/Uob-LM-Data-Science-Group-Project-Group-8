{
 "cells": [
  {
   "metadata": {
    "collapsed": true,
    "ExecuteTime": {
     "end_time": "2025-03-11T22:33:56.339456Z",
     "start_time": "2025-03-11T22:33:56.297270Z"
    }
   },
   "cell_type": "code",
   "source": [
    "import os.path\n",
    "import os\n",
    "os.chdir(\"../\")\n",
    "%run config.ipynb\n",
    "import numpy as np\n",
    "from sklearn.ensemble import RandomForestRegressor\n",
    "from sklearn.preprocessing import StandardScaler\n",
    "from sklearn.model_selection import RandomizedSearchCV\n",
    "\n",
    "import pandas as pd\n",
    "from sklearn.model_selection import train_test_split\n",
    "from sklearn.model_selection import GridSearchCV\n",
    "import matplotlib.pyplot as plt\n",
    "from sklearn.metrics import mean_squared_error, r2_score, mean_absolute_percentage_error, mean_absolute_error"
   ],
   "id": "initial_id",
   "outputs": [],
   "execution_count": 46
  },
  {
   "metadata": {
    "ExecuteTime": {
     "end_time": "2025-03-11T22:33:56.354434Z",
     "start_time": "2025-03-11T22:33:56.344172Z"
    }
   },
   "cell_type": "code",
   "source": [
    "eTraffic = pd.read_csv(os.path.join(root, 'eTraffic_lag1.csv'))\n",
    "print(eTraffic.shape)\n",
    "print(len(eTraffic['local_authority_name'].unique()))"
   ],
   "id": "89d96ed5fed0a44b",
   "outputs": [
    {
     "name": "stdout",
     "output_type": "stream",
     "text": [
      "(1273, 17)\n",
      "67\n"
     ]
    }
   ],
   "execution_count": 47
  },
  {
   "metadata": {
    "ExecuteTime": {
     "end_time": "2025-03-11T22:33:56.391495Z",
     "start_time": "2025-03-11T22:33:56.384149Z"
    }
   },
   "cell_type": "code",
   "source": "eTraffic.info()",
   "id": "19bb1c99d18e70d6",
   "outputs": [
    {
     "name": "stdout",
     "output_type": "stream",
     "text": [
      "<class 'pandas.core.frame.DataFrame'>\n",
      "RangeIndex: 1273 entries, 0 to 1272\n",
      "Data columns (total 17 columns):\n",
      " #   Column                        Non-Null Count  Dtype  \n",
      "---  ------                        --------------  -----  \n",
      " 0   local_authority_name          1273 non-null   object \n",
      " 1   year                          1273 non-null   int64  \n",
      " 2   pedal_cycles                  1273 non-null   float64\n",
      " 3   two_wheeled_motor_vehicles    1273 non-null   float64\n",
      " 4   cars_and_taxis                1273 non-null   float64\n",
      " 5   buses_and_coaches             1273 non-null   float64\n",
      " 6   LGVs                          1273 non-null   float64\n",
      " 7   HGVs_2_rigid_axle             1273 non-null   float64\n",
      " 8   HGVs_3_rigid_axle             1273 non-null   float64\n",
      " 9   HGVs_4_or_more_rigid_axle     1273 non-null   float64\n",
      " 10  HGVs_3_or_4_articulated_axle  1273 non-null   float64\n",
      " 11  HGVs_5_articulated_axle       1273 non-null   float64\n",
      " 12  HGVs_6_articulated_axle       1273 non-null   float64\n",
      " 13  all_HGVs                      1273 non-null   float64\n",
      " 14  all_motor_vehicles            1273 non-null   float64\n",
      " 15  GDP                           1273 non-null   float64\n",
      " 16  local_authority_name_encoded  1273 non-null   int64  \n",
      "dtypes: float64(14), int64(2), object(1)\n",
      "memory usage: 169.2+ KB\n"
     ]
    }
   ],
   "execution_count": 48
  },
  {
   "metadata": {
    "ExecuteTime": {
     "end_time": "2025-03-11T22:33:56.428909Z",
     "start_time": "2025-03-11T22:33:56.418227Z"
    }
   },
   "cell_type": "code",
   "source": "eTraffic.head()",
   "id": "aad606008d5e0c83",
   "outputs": [
    {
     "data": {
      "text/plain": [
       "  local_authority_name  year  pedal_cycles  two_wheeled_motor_vehicles  \\\n",
       "0               Barnet  2001        1814.0                     18657.0   \n",
       "1               Barnet  2002        1592.0                     14345.0   \n",
       "2               Barnet  2003        1624.0                     13908.0   \n",
       "3               Barnet  2004        1386.0                     10670.0   \n",
       "4               Barnet  2005        2001.0                     15308.0   \n",
       "\n",
       "   cars_and_taxis  buses_and_coaches      LGVs  HGVs_2_rigid_axle  \\\n",
       "0        861384.0            13278.0  151823.0            25652.0   \n",
       "1        704585.0             9293.0  112671.0            22835.0   \n",
       "2        703956.0            10903.0  116894.0            17199.0   \n",
       "3        515642.0             8645.0   86518.0            13235.0   \n",
       "4        746801.0            13950.0  127382.0            19623.0   \n",
       "\n",
       "   HGVs_3_rigid_axle  HGVs_4_or_more_rigid_axle  HGVs_3_or_4_articulated_axle  \\\n",
       "0             3063.0                     4188.0                        2984.0   \n",
       "1             3018.0                     3493.0                        1980.0   \n",
       "2             2544.0                     3932.0                        2145.0   \n",
       "3             2252.0                     2373.0                        1588.0   \n",
       "4             2982.0                     2963.0                        2007.0   \n",
       "\n",
       "   HGVs_5_articulated_axle  HGVs_6_articulated_axle  all_HGVs  \\\n",
       "0                   4790.0                   4122.0   44799.0   \n",
       "1                   3804.0                   3082.0   38212.0   \n",
       "2                   3511.0                   2921.0   32252.0   \n",
       "3                   3003.0                   2608.0   25059.0   \n",
       "4                   3338.0                   3917.0   34831.0   \n",
       "\n",
       "   all_motor_vehicles   GDP  local_authority_name_encoded  \n",
       "0           1089941.0  66.5                             0  \n",
       "1            879106.0  68.5                             0  \n",
       "2            877913.0  70.1                             0  \n",
       "3            646534.0  71.4                             0  \n",
       "4            938272.0  73.9                             0  "
      ],
      "text/html": [
       "<div>\n",
       "<style scoped>\n",
       "    .dataframe tbody tr th:only-of-type {\n",
       "        vertical-align: middle;\n",
       "    }\n",
       "\n",
       "    .dataframe tbody tr th {\n",
       "        vertical-align: top;\n",
       "    }\n",
       "\n",
       "    .dataframe thead th {\n",
       "        text-align: right;\n",
       "    }\n",
       "</style>\n",
       "<table border=\"1\" class=\"dataframe\">\n",
       "  <thead>\n",
       "    <tr style=\"text-align: right;\">\n",
       "      <th></th>\n",
       "      <th>local_authority_name</th>\n",
       "      <th>year</th>\n",
       "      <th>pedal_cycles</th>\n",
       "      <th>two_wheeled_motor_vehicles</th>\n",
       "      <th>cars_and_taxis</th>\n",
       "      <th>buses_and_coaches</th>\n",
       "      <th>LGVs</th>\n",
       "      <th>HGVs_2_rigid_axle</th>\n",
       "      <th>HGVs_3_rigid_axle</th>\n",
       "      <th>HGVs_4_or_more_rigid_axle</th>\n",
       "      <th>HGVs_3_or_4_articulated_axle</th>\n",
       "      <th>HGVs_5_articulated_axle</th>\n",
       "      <th>HGVs_6_articulated_axle</th>\n",
       "      <th>all_HGVs</th>\n",
       "      <th>all_motor_vehicles</th>\n",
       "      <th>GDP</th>\n",
       "      <th>local_authority_name_encoded</th>\n",
       "    </tr>\n",
       "  </thead>\n",
       "  <tbody>\n",
       "    <tr>\n",
       "      <th>0</th>\n",
       "      <td>Barnet</td>\n",
       "      <td>2001</td>\n",
       "      <td>1814.0</td>\n",
       "      <td>18657.0</td>\n",
       "      <td>861384.0</td>\n",
       "      <td>13278.0</td>\n",
       "      <td>151823.0</td>\n",
       "      <td>25652.0</td>\n",
       "      <td>3063.0</td>\n",
       "      <td>4188.0</td>\n",
       "      <td>2984.0</td>\n",
       "      <td>4790.0</td>\n",
       "      <td>4122.0</td>\n",
       "      <td>44799.0</td>\n",
       "      <td>1089941.0</td>\n",
       "      <td>66.5</td>\n",
       "      <td>0</td>\n",
       "    </tr>\n",
       "    <tr>\n",
       "      <th>1</th>\n",
       "      <td>Barnet</td>\n",
       "      <td>2002</td>\n",
       "      <td>1592.0</td>\n",
       "      <td>14345.0</td>\n",
       "      <td>704585.0</td>\n",
       "      <td>9293.0</td>\n",
       "      <td>112671.0</td>\n",
       "      <td>22835.0</td>\n",
       "      <td>3018.0</td>\n",
       "      <td>3493.0</td>\n",
       "      <td>1980.0</td>\n",
       "      <td>3804.0</td>\n",
       "      <td>3082.0</td>\n",
       "      <td>38212.0</td>\n",
       "      <td>879106.0</td>\n",
       "      <td>68.5</td>\n",
       "      <td>0</td>\n",
       "    </tr>\n",
       "    <tr>\n",
       "      <th>2</th>\n",
       "      <td>Barnet</td>\n",
       "      <td>2003</td>\n",
       "      <td>1624.0</td>\n",
       "      <td>13908.0</td>\n",
       "      <td>703956.0</td>\n",
       "      <td>10903.0</td>\n",
       "      <td>116894.0</td>\n",
       "      <td>17199.0</td>\n",
       "      <td>2544.0</td>\n",
       "      <td>3932.0</td>\n",
       "      <td>2145.0</td>\n",
       "      <td>3511.0</td>\n",
       "      <td>2921.0</td>\n",
       "      <td>32252.0</td>\n",
       "      <td>877913.0</td>\n",
       "      <td>70.1</td>\n",
       "      <td>0</td>\n",
       "    </tr>\n",
       "    <tr>\n",
       "      <th>3</th>\n",
       "      <td>Barnet</td>\n",
       "      <td>2004</td>\n",
       "      <td>1386.0</td>\n",
       "      <td>10670.0</td>\n",
       "      <td>515642.0</td>\n",
       "      <td>8645.0</td>\n",
       "      <td>86518.0</td>\n",
       "      <td>13235.0</td>\n",
       "      <td>2252.0</td>\n",
       "      <td>2373.0</td>\n",
       "      <td>1588.0</td>\n",
       "      <td>3003.0</td>\n",
       "      <td>2608.0</td>\n",
       "      <td>25059.0</td>\n",
       "      <td>646534.0</td>\n",
       "      <td>71.4</td>\n",
       "      <td>0</td>\n",
       "    </tr>\n",
       "    <tr>\n",
       "      <th>4</th>\n",
       "      <td>Barnet</td>\n",
       "      <td>2005</td>\n",
       "      <td>2001.0</td>\n",
       "      <td>15308.0</td>\n",
       "      <td>746801.0</td>\n",
       "      <td>13950.0</td>\n",
       "      <td>127382.0</td>\n",
       "      <td>19623.0</td>\n",
       "      <td>2982.0</td>\n",
       "      <td>2963.0</td>\n",
       "      <td>2007.0</td>\n",
       "      <td>3338.0</td>\n",
       "      <td>3917.0</td>\n",
       "      <td>34831.0</td>\n",
       "      <td>938272.0</td>\n",
       "      <td>73.9</td>\n",
       "      <td>0</td>\n",
       "    </tr>\n",
       "  </tbody>\n",
       "</table>\n",
       "</div>"
      ]
     },
     "execution_count": 49,
     "metadata": {},
     "output_type": "execute_result"
    }
   ],
   "execution_count": 49
  },
  {
   "metadata": {},
   "cell_type": "markdown",
   "source": "## Select Feature and Model",
   "id": "8019445ef7c51f57"
  },
  {
   "metadata": {
    "ExecuteTime": {
     "end_time": "2025-03-11T22:33:56.487053Z",
     "start_time": "2025-03-11T22:33:56.483622Z"
    }
   },
   "cell_type": "code",
   "source": [
    "eTraffic = eTraffic[eTraffic['year'] < 2020]\n",
    "print(eTraffic['year'].min(), eTraffic['year'].max())\n",
    "print(eTraffic.shape)"
   ],
   "id": "f9c91e8c91dbb1fd",
   "outputs": [
    {
     "name": "stdout",
     "output_type": "stream",
     "text": [
      "2001 2019\n",
      "(1273, 17)\n"
     ]
    }
   ],
   "execution_count": 50
  },
  {
   "metadata": {
    "ExecuteTime": {
     "end_time": "2025-03-11T22:33:56.532298Z",
     "start_time": "2025-03-11T22:33:56.527940Z"
    }
   },
   "cell_type": "code",
   "source": [
    "X = eTraffic.drop(columns=['GDP', 'year', 'local_authority_name', 'local_authority_name_encoded'])\n",
    "y = eTraffic['GDP']\n",
    "print(X.shape, y.shape)"
   ],
   "id": "68a23baa6ec2e7ff",
   "outputs": [
    {
     "name": "stdout",
     "output_type": "stream",
     "text": [
      "(1273, 13) (1273,)\n"
     ]
    }
   ],
   "execution_count": 51
  },
  {
   "metadata": {
    "ExecuteTime": {
     "end_time": "2025-03-11T22:33:56.549898Z",
     "start_time": "2025-03-11T22:33:56.542786Z"
    }
   },
   "cell_type": "code",
   "source": "X_train, X_test, y_train, y_test = train_test_split(X, y, test_size=0.2, random_state=18)",
   "id": "56690867afcb3018",
   "outputs": [],
   "execution_count": 52
  },
  {
   "metadata": {
    "ExecuteTime": {
     "end_time": "2025-03-11T22:45:08.851765Z",
     "start_time": "2025-03-11T22:44:23.601617Z"
    }
   },
   "cell_type": "code",
   "source": [
    "param_dist = {\n",
    "    'n_estimators': np.arange(20, 100, step=5),\n",
    "    'max_depth': np.arange(3, 12, step=1),\n",
    "    'min_samples_split': np.arange(3, 12, step=1),\n",
    "    'min_samples_leaf': np.arange(2, 12, step=1),\n",
    "    'bootstrap': [True, False]\n",
    "}\n",
    "\n",
    "rf = RandomForestRegressor(random_state=18)\n",
    "random_search = RandomizedSearchCV(estimator=rf, param_distributions=param_dist, n_iter=40, cv=5, scoring='r2', random_state=18)\n",
    "random_search.fit(X_train, y_train)\n",
    "\n",
    "print(\"Best parameters:\", random_search.best_params_)\n",
    "print(\"Best score:\", random_search.best_score_)"
   ],
   "id": "b367174e119b0689",
   "outputs": [
    {
     "name": "stdout",
     "output_type": "stream",
     "text": [
      "Best parameters: {'n_estimators': 75, 'min_samples_split': 4, 'min_samples_leaf': 4, 'max_depth': 11, 'bootstrap': True}\n",
      "Best score: 0.5203652316703277\n"
     ]
    }
   ],
   "execution_count": 62
  },
  {
   "metadata": {
    "ExecuteTime": {
     "end_time": "2025-03-11T22:45:12.592671Z",
     "start_time": "2025-03-11T22:45:12.553030Z"
    }
   },
   "cell_type": "code",
   "source": [
    "# train set\n",
    "Y_train_hat = random_search.best_estimator_.predict(X_train)\n",
    "mse_train = mean_squared_error(y_train, Y_train_hat)\n",
    "mae_train = mean_absolute_error(y_train, Y_train_hat)\n",
    "mape_train = mean_absolute_percentage_error(y_train, Y_train_hat)\n",
    "r2_train = r2_score(y_train, Y_train_hat)\n",
    "\n",
    "# test set\n",
    "Y_test_hat = random_search.best_estimator_.predict(X_test)\n",
    "mse_test = mean_squared_error(y_test, Y_test_hat)\n",
    "mae_test = mean_absolute_error(y_test, Y_test_hat)\n",
    "mape_test = mean_absolute_percentage_error(y_test, Y_test_hat)\n",
    "r2_test = r2_score(y_test, Y_test_hat)\n",
    "\n",
    "print(f\"[RF][Training Set] MSE: {mse_train:.2f}; MAPE: {mape_train:.2f}; MAE: {mae_train:.2f}; R2 score: {r2_train:.2f}\")\n",
    "print(f\"[RF][Testing Set]  MSE: {mse_test:.2f}; MAPE: {mape_test:.2f}; MAE: {mae_test:.2f}; R2 score: {r2_test:.2f}\")\n",
    "\n",
    "feature_importances = random_search.best_estimator_.feature_importances_\n",
    "\n",
    "features_df = pd.DataFrame({\n",
    "    'Feature': X_train.columns,\n",
    "    'Importance': feature_importances\n",
    "}).sort_values(by='Importance', ascending=False)\n",
    "\n",
    "features_df"
   ],
   "id": "d44a9305352743a3",
   "outputs": [
    {
     "name": "stdout",
     "output_type": "stream",
     "text": [
      "[RF][Training Set] MSE: 20.51; MAPE: 0.04; MAE: 3.00; R2 score: 0.82\n",
      "[RF][Testing Set]  MSE: 66.80; MAPE: 0.07; MAE: 5.79; R2 score: 0.50\n"
     ]
    },
    {
     "data": {
      "text/plain": [
       "                         Feature  Importance\n",
       "8   HGVs_3_or_4_articulated_axle    0.201533\n",
       "10       HGVs_6_articulated_axle    0.184692\n",
       "5              HGVs_2_rigid_axle    0.182909\n",
       "7      HGVs_4_or_more_rigid_axle    0.082439\n",
       "4                           LGVs    0.076723\n",
       "3              buses_and_coaches    0.060692\n",
       "0                   pedal_cycles    0.056417\n",
       "1     two_wheeled_motor_vehicles    0.054378\n",
       "6              HGVs_3_rigid_axle    0.029028\n",
       "9        HGVs_5_articulated_axle    0.028933\n",
       "2                 cars_and_taxis    0.016082\n",
       "12            all_motor_vehicles    0.013127\n",
       "11                      all_HGVs    0.013048"
      ],
      "text/html": [
       "<div>\n",
       "<style scoped>\n",
       "    .dataframe tbody tr th:only-of-type {\n",
       "        vertical-align: middle;\n",
       "    }\n",
       "\n",
       "    .dataframe tbody tr th {\n",
       "        vertical-align: top;\n",
       "    }\n",
       "\n",
       "    .dataframe thead th {\n",
       "        text-align: right;\n",
       "    }\n",
       "</style>\n",
       "<table border=\"1\" class=\"dataframe\">\n",
       "  <thead>\n",
       "    <tr style=\"text-align: right;\">\n",
       "      <th></th>\n",
       "      <th>Feature</th>\n",
       "      <th>Importance</th>\n",
       "    </tr>\n",
       "  </thead>\n",
       "  <tbody>\n",
       "    <tr>\n",
       "      <th>8</th>\n",
       "      <td>HGVs_3_or_4_articulated_axle</td>\n",
       "      <td>0.201533</td>\n",
       "    </tr>\n",
       "    <tr>\n",
       "      <th>10</th>\n",
       "      <td>HGVs_6_articulated_axle</td>\n",
       "      <td>0.184692</td>\n",
       "    </tr>\n",
       "    <tr>\n",
       "      <th>5</th>\n",
       "      <td>HGVs_2_rigid_axle</td>\n",
       "      <td>0.182909</td>\n",
       "    </tr>\n",
       "    <tr>\n",
       "      <th>7</th>\n",
       "      <td>HGVs_4_or_more_rigid_axle</td>\n",
       "      <td>0.082439</td>\n",
       "    </tr>\n",
       "    <tr>\n",
       "      <th>4</th>\n",
       "      <td>LGVs</td>\n",
       "      <td>0.076723</td>\n",
       "    </tr>\n",
       "    <tr>\n",
       "      <th>3</th>\n",
       "      <td>buses_and_coaches</td>\n",
       "      <td>0.060692</td>\n",
       "    </tr>\n",
       "    <tr>\n",
       "      <th>0</th>\n",
       "      <td>pedal_cycles</td>\n",
       "      <td>0.056417</td>\n",
       "    </tr>\n",
       "    <tr>\n",
       "      <th>1</th>\n",
       "      <td>two_wheeled_motor_vehicles</td>\n",
       "      <td>0.054378</td>\n",
       "    </tr>\n",
       "    <tr>\n",
       "      <th>6</th>\n",
       "      <td>HGVs_3_rigid_axle</td>\n",
       "      <td>0.029028</td>\n",
       "    </tr>\n",
       "    <tr>\n",
       "      <th>9</th>\n",
       "      <td>HGVs_5_articulated_axle</td>\n",
       "      <td>0.028933</td>\n",
       "    </tr>\n",
       "    <tr>\n",
       "      <th>2</th>\n",
       "      <td>cars_and_taxis</td>\n",
       "      <td>0.016082</td>\n",
       "    </tr>\n",
       "    <tr>\n",
       "      <th>12</th>\n",
       "      <td>all_motor_vehicles</td>\n",
       "      <td>0.013127</td>\n",
       "    </tr>\n",
       "    <tr>\n",
       "      <th>11</th>\n",
       "      <td>all_HGVs</td>\n",
       "      <td>0.013048</td>\n",
       "    </tr>\n",
       "  </tbody>\n",
       "</table>\n",
       "</div>"
      ]
     },
     "execution_count": 63,
     "metadata": {},
     "output_type": "execute_result"
    }
   ],
   "execution_count": 63
  },
  {
   "metadata": {},
   "cell_type": "markdown",
   "source": "### Select features with cumulative importance in the top 85%",
   "id": "37f890f82a6aa573"
  },
  {
   "metadata": {
    "ExecuteTime": {
     "end_time": "2025-03-11T22:45:16.747424Z",
     "start_time": "2025-03-11T22:45:16.742751Z"
    }
   },
   "cell_type": "code",
   "source": [
    "features_df['Cumulative Importance'] = features_df['Importance'].cumsum()\n",
    "\n",
    "selected_features = features_df[features_df['Cumulative Importance'] <= 0.85]['Feature']\n",
    "print(f\"Selected Features number: {len(selected_features)}\")\n",
    "print(f\"Selected Features: \\n{selected_features}\")"
   ],
   "id": "81a2203f82edb98e",
   "outputs": [
    {
     "name": "stdout",
     "output_type": "stream",
     "text": [
      "Selected Features number: 7\n",
      "Selected Features: \n",
      "8     HGVs_3_or_4_articulated_axle\n",
      "10         HGVs_6_articulated_axle\n",
      "5                HGVs_2_rigid_axle\n",
      "7        HGVs_4_or_more_rigid_axle\n",
      "4                             LGVs\n",
      "3                buses_and_coaches\n",
      "0                     pedal_cycles\n",
      "Name: Feature, dtype: object\n"
     ]
    }
   ],
   "execution_count": 64
  },
  {
   "metadata": {},
   "cell_type": "markdown",
   "source": "## Retrain the model using selected features",
   "id": "e94e689a004645c6"
  },
  {
   "metadata": {
    "ExecuteTime": {
     "end_time": "2025-03-11T22:45:24.820683Z",
     "start_time": "2025-03-11T22:45:24.816367Z"
    }
   },
   "cell_type": "code",
   "source": [
    "X_train_selected = X_train[selected_features]\n",
    "X_test_selected = X_test[selected_features]\n",
    "\n",
    "print(X_train_selected.shape, X_test_selected.shape)\n",
    "print(X_train_selected.columns)"
   ],
   "id": "389098c637f7429a",
   "outputs": [
    {
     "name": "stdout",
     "output_type": "stream",
     "text": [
      "(1018, 7) (255, 7)\n",
      "Index(['HGVs_3_or_4_articulated_axle', 'HGVs_6_articulated_axle',\n",
      "       'HGVs_2_rigid_axle', 'HGVs_4_or_more_rigid_axle', 'LGVs',\n",
      "       'buses_and_coaches', 'pedal_cycles'],\n",
      "      dtype='object')\n"
     ]
    }
   ],
   "execution_count": 65
  },
  {
   "metadata": {
    "ExecuteTime": {
     "end_time": "2025-03-11T22:46:17.225305Z",
     "start_time": "2025-03-11T22:46:05.969082Z"
    }
   },
   "cell_type": "code",
   "source": [
    "# modeling\n",
    "param_dist = {\n",
    "    'n_estimators': np.arange(20, 80, step=5),\n",
    "    'max_depth': np.arange(3, 12, step=1),\n",
    "    'min_samples_split': np.arange(3, 12, step=1),\n",
    "    'min_samples_leaf': np.arange(2, 12, step=1),\n",
    "    'bootstrap': [True, False]\n",
    "}\n",
    "\n",
    "rf = RandomForestRegressor(random_state=18)\n",
    "random_search = RandomizedSearchCV(estimator=rf, param_distributions=param_dist, n_iter=20, cv=5, scoring='r2', random_state=18)\n",
    "random_search.fit(X_train_selected, y_train)\n",
    "\n",
    "print(\"Best parameters:\", random_search.best_params_)\n",
    "print(\"Best score:\", random_search.best_score_)\n",
    "\n",
    "rf_best = random_search.best_estimator_\n",
    "\n",
    "# test set\n",
    "Y_test_hat = rf_best.predict(X_test_selected)\n",
    "mse_test = mean_squared_error(y_test, Y_test_hat)\n",
    "mae_test = mean_absolute_error(y_test, Y_test_hat)\n",
    "mape_test = mean_absolute_percentage_error(y_test, Y_test_hat)\n",
    "r2_test = r2_score(y_test, Y_test_hat)\n",
    "\n",
    "# train set\n",
    "Y_train_hat = rf_best.predict(X_train_selected)\n",
    "mse_train = mean_squared_error(y_train, Y_train_hat)\n",
    "mae_train = mean_absolute_error(y_train, Y_train_hat)\n",
    "mape_train = mean_absolute_percentage_error(y_train, Y_train_hat)\n",
    "r2_train = r2_score(y_train, Y_train_hat)\n",
    "\n",
    "print(f\"[RF][Training Set] MSE: {mse_train:.2f}; MAPE: {mape_train:.2f}; MAE: {mae_train:.2f}; R2 score: {r2_train:.2f}\")\n",
    "print(f\"[RF][Testing Set]  MSE: {mse_test:.2f}; MAPE: {mape_test:.2f}; MAE: {mae_test:.2f}; R2 score: {r2_test:.2f}\")"
   ],
   "id": "6269f17ead82af1",
   "outputs": [
    {
     "name": "stdout",
     "output_type": "stream",
     "text": [
      "Best parameters: {'n_estimators': 50, 'min_samples_split': 9, 'min_samples_leaf': 5, 'max_depth': 9, 'bootstrap': True}\n",
      "Best score: 0.505012596956807\n",
      "[RF][Training Set] MSE: 27.21; MAPE: 0.04; MAE: 3.53; R2 score: 0.77\n",
      "[RF][Testing Set]  MSE: 69.09; MAPE: 0.07; MAE: 5.96; R2 score: 0.48\n"
     ]
    }
   ],
   "execution_count": 68
  },
  {
   "metadata": {},
   "cell_type": "markdown",
   "source": "### Grid search in a small range base on privous parameters",
   "id": "dfeabe2efcd8713a"
  },
  {
   "metadata": {
    "ExecuteTime": {
     "end_time": "2025-03-11T23:00:45.479751Z",
     "start_time": "2025-03-11T23:00:36.045183Z"
    }
   },
   "cell_type": "code",
   "source": [
    "best_model = random_search.best_params_\n",
    "# param_grid = {\n",
    "#     'n_estimators': np.arange(-10, 10, step=3) + best_model['n_estimators'],  # 树的数量\n",
    "#     'max_depth': np.arange(-2, 2, step=3) + best_model['max_depth'],  # 树的最大深度\n",
    "#     'min_samples_split': np.arange(2, 4, step=2) + best_model['min_samples_leaf'],  # 节点分裂所需的最小样本数\n",
    "#     'min_samples_leaf': np.arange(2, 4, step=2) + best_model['min_samples_leaf'],\n",
    "#     'bootstrap': [best_model['bootstrap']]\n",
    "# }\n",
    "param_grid = {\n",
    "    'n_estimators': [20, 25, 30],\n",
    "    'max_depth': [5, 6, 7],\n",
    "    'min_samples_split': [16, 18],\n",
    "    'min_samples_leaf': [15, 18],\n",
    "    'bootstrap': [True]\n",
    "}\n",
    "\n",
    "rf = RandomForestRegressor(random_state=18)\n",
    "grid_search = GridSearchCV(estimator=rf, param_grid=param_grid, cv=5, verbose=2, scoring='r2')\n",
    "grid_search.fit(X_train_selected, y_train)\n",
    "\n",
    "print(\"Best parameters:\", grid_search.best_params_)\n",
    "print(\"Best score:\", grid_search.best_score_)\n",
    "\n",
    "# train set\n",
    "Y_train_hat = grid_search.best_estimator_.predict(X_train_selected)\n",
    "mse_train = mean_squared_error(y_train, Y_train_hat)\n",
    "mae_train = mean_absolute_error(y_train, Y_train_hat)\n",
    "mape_train = mean_absolute_percentage_error(y_train, Y_train_hat)\n",
    "r2_train = r2_score(y_train, Y_train_hat)\n",
    "\n",
    "# test set\n",
    "Y_test_hat = grid_search.best_estimator_.predict(X_test_selected)\n",
    "mse_test = mean_squared_error(y_test, Y_test_hat)\n",
    "mae_test = mean_absolute_error(y_test, Y_test_hat)\n",
    "mape_test = mean_absolute_percentage_error(y_test, Y_test_hat)\n",
    "r2_test = r2_score(y_test, Y_test_hat)\n",
    "\n",
    "print(f\"[RF][Training Set] MSE: {mse_train:.2f}; MAPE: {mape_train:.2f}; MAE: {mae_train:.2f}; R2 score: {r2_train:.2f}\")\n",
    "print(f\"[RF][Testing Set]  MSE: {mse_test:.2f}; MAPE: {mape_test:.2f}; MAE: {mae_test:.2f}; R2 score: {r2_test:.2f}\")"
   ],
   "id": "aa0b0fa7c79852af",
   "outputs": [
    {
     "name": "stdout",
     "output_type": "stream",
     "text": [
      "Fitting 5 folds for each of 36 candidates, totalling 180 fits\n",
      "[CV] END bootstrap=True, max_depth=5, min_samples_leaf=15, min_samples_split=16, n_estimators=20; total time=   0.0s\n",
      "[CV] END bootstrap=True, max_depth=5, min_samples_leaf=15, min_samples_split=16, n_estimators=20; total time=   0.0s\n",
      "[CV] END bootstrap=True, max_depth=5, min_samples_leaf=15, min_samples_split=16, n_estimators=20; total time=   0.0s\n",
      "[CV] END bootstrap=True, max_depth=5, min_samples_leaf=15, min_samples_split=16, n_estimators=20; total time=   0.0s\n",
      "[CV] END bootstrap=True, max_depth=5, min_samples_leaf=15, min_samples_split=16, n_estimators=20; total time=   0.0s\n",
      "[CV] END bootstrap=True, max_depth=5, min_samples_leaf=15, min_samples_split=16, n_estimators=25; total time=   0.1s\n",
      "[CV] END bootstrap=True, max_depth=5, min_samples_leaf=15, min_samples_split=16, n_estimators=25; total time=   0.1s\n",
      "[CV] END bootstrap=True, max_depth=5, min_samples_leaf=15, min_samples_split=16, n_estimators=25; total time=   0.1s\n",
      "[CV] END bootstrap=True, max_depth=5, min_samples_leaf=15, min_samples_split=16, n_estimators=25; total time=   0.1s\n",
      "[CV] END bootstrap=True, max_depth=5, min_samples_leaf=15, min_samples_split=16, n_estimators=25; total time=   0.1s\n",
      "[CV] END bootstrap=True, max_depth=5, min_samples_leaf=15, min_samples_split=16, n_estimators=30; total time=   0.1s\n",
      "[CV] END bootstrap=True, max_depth=5, min_samples_leaf=15, min_samples_split=16, n_estimators=30; total time=   0.1s\n",
      "[CV] END bootstrap=True, max_depth=5, min_samples_leaf=15, min_samples_split=16, n_estimators=30; total time=   0.1s\n",
      "[CV] END bootstrap=True, max_depth=5, min_samples_leaf=15, min_samples_split=16, n_estimators=30; total time=   0.1s\n",
      "[CV] END bootstrap=True, max_depth=5, min_samples_leaf=15, min_samples_split=16, n_estimators=30; total time=   0.1s\n",
      "[CV] END bootstrap=True, max_depth=5, min_samples_leaf=15, min_samples_split=18, n_estimators=20; total time=   0.0s\n",
      "[CV] END bootstrap=True, max_depth=5, min_samples_leaf=15, min_samples_split=18, n_estimators=20; total time=   0.0s\n",
      "[CV] END bootstrap=True, max_depth=5, min_samples_leaf=15, min_samples_split=18, n_estimators=20; total time=   0.0s\n",
      "[CV] END bootstrap=True, max_depth=5, min_samples_leaf=15, min_samples_split=18, n_estimators=20; total time=   0.0s\n",
      "[CV] END bootstrap=True, max_depth=5, min_samples_leaf=15, min_samples_split=18, n_estimators=20; total time=   0.0s\n",
      "[CV] END bootstrap=True, max_depth=5, min_samples_leaf=15, min_samples_split=18, n_estimators=25; total time=   0.1s\n",
      "[CV] END bootstrap=True, max_depth=5, min_samples_leaf=15, min_samples_split=18, n_estimators=25; total time=   0.1s\n",
      "[CV] END bootstrap=True, max_depth=5, min_samples_leaf=15, min_samples_split=18, n_estimators=25; total time=   0.1s\n",
      "[CV] END bootstrap=True, max_depth=5, min_samples_leaf=15, min_samples_split=18, n_estimators=25; total time=   0.1s\n",
      "[CV] END bootstrap=True, max_depth=5, min_samples_leaf=15, min_samples_split=18, n_estimators=25; total time=   0.1s\n",
      "[CV] END bootstrap=True, max_depth=5, min_samples_leaf=15, min_samples_split=18, n_estimators=30; total time=   0.1s\n",
      "[CV] END bootstrap=True, max_depth=5, min_samples_leaf=15, min_samples_split=18, n_estimators=30; total time=   0.1s\n",
      "[CV] END bootstrap=True, max_depth=5, min_samples_leaf=15, min_samples_split=18, n_estimators=30; total time=   0.1s\n",
      "[CV] END bootstrap=True, max_depth=5, min_samples_leaf=15, min_samples_split=18, n_estimators=30; total time=   0.1s\n",
      "[CV] END bootstrap=True, max_depth=5, min_samples_leaf=15, min_samples_split=18, n_estimators=30; total time=   0.1s\n",
      "[CV] END bootstrap=True, max_depth=5, min_samples_leaf=18, min_samples_split=16, n_estimators=20; total time=   0.0s\n",
      "[CV] END bootstrap=True, max_depth=5, min_samples_leaf=18, min_samples_split=16, n_estimators=20; total time=   0.0s\n",
      "[CV] END bootstrap=True, max_depth=5, min_samples_leaf=18, min_samples_split=16, n_estimators=20; total time=   0.0s\n",
      "[CV] END bootstrap=True, max_depth=5, min_samples_leaf=18, min_samples_split=16, n_estimators=20; total time=   0.0s\n",
      "[CV] END bootstrap=True, max_depth=5, min_samples_leaf=18, min_samples_split=16, n_estimators=20; total time=   0.0s\n",
      "[CV] END bootstrap=True, max_depth=5, min_samples_leaf=18, min_samples_split=16, n_estimators=25; total time=   0.1s\n",
      "[CV] END bootstrap=True, max_depth=5, min_samples_leaf=18, min_samples_split=16, n_estimators=25; total time=   0.0s\n",
      "[CV] END bootstrap=True, max_depth=5, min_samples_leaf=18, min_samples_split=16, n_estimators=25; total time=   0.0s\n",
      "[CV] END bootstrap=True, max_depth=5, min_samples_leaf=18, min_samples_split=16, n_estimators=25; total time=   0.0s\n",
      "[CV] END bootstrap=True, max_depth=5, min_samples_leaf=18, min_samples_split=16, n_estimators=25; total time=   0.1s\n",
      "[CV] END bootstrap=True, max_depth=5, min_samples_leaf=18, min_samples_split=16, n_estimators=30; total time=   0.1s\n",
      "[CV] END bootstrap=True, max_depth=5, min_samples_leaf=18, min_samples_split=16, n_estimators=30; total time=   0.1s\n",
      "[CV] END bootstrap=True, max_depth=5, min_samples_leaf=18, min_samples_split=16, n_estimators=30; total time=   0.1s\n",
      "[CV] END bootstrap=True, max_depth=5, min_samples_leaf=18, min_samples_split=16, n_estimators=30; total time=   0.1s\n",
      "[CV] END bootstrap=True, max_depth=5, min_samples_leaf=18, min_samples_split=16, n_estimators=30; total time=   0.1s\n",
      "[CV] END bootstrap=True, max_depth=5, min_samples_leaf=18, min_samples_split=18, n_estimators=20; total time=   0.0s\n",
      "[CV] END bootstrap=True, max_depth=5, min_samples_leaf=18, min_samples_split=18, n_estimators=20; total time=   0.0s\n",
      "[CV] END bootstrap=True, max_depth=5, min_samples_leaf=18, min_samples_split=18, n_estimators=20; total time=   0.0s\n",
      "[CV] END bootstrap=True, max_depth=5, min_samples_leaf=18, min_samples_split=18, n_estimators=20; total time=   0.0s\n",
      "[CV] END bootstrap=True, max_depth=5, min_samples_leaf=18, min_samples_split=18, n_estimators=20; total time=   0.0s\n",
      "[CV] END bootstrap=True, max_depth=5, min_samples_leaf=18, min_samples_split=18, n_estimators=25; total time=   0.1s\n",
      "[CV] END bootstrap=True, max_depth=5, min_samples_leaf=18, min_samples_split=18, n_estimators=25; total time=   0.1s\n",
      "[CV] END bootstrap=True, max_depth=5, min_samples_leaf=18, min_samples_split=18, n_estimators=25; total time=   0.0s\n",
      "[CV] END bootstrap=True, max_depth=5, min_samples_leaf=18, min_samples_split=18, n_estimators=25; total time=   0.1s\n",
      "[CV] END bootstrap=True, max_depth=5, min_samples_leaf=18, min_samples_split=18, n_estimators=25; total time=   0.1s\n",
      "[CV] END bootstrap=True, max_depth=5, min_samples_leaf=18, min_samples_split=18, n_estimators=30; total time=   0.1s\n",
      "[CV] END bootstrap=True, max_depth=5, min_samples_leaf=18, min_samples_split=18, n_estimators=30; total time=   0.1s\n",
      "[CV] END bootstrap=True, max_depth=5, min_samples_leaf=18, min_samples_split=18, n_estimators=30; total time=   0.1s\n",
      "[CV] END bootstrap=True, max_depth=5, min_samples_leaf=18, min_samples_split=18, n_estimators=30; total time=   0.1s\n",
      "[CV] END bootstrap=True, max_depth=5, min_samples_leaf=18, min_samples_split=18, n_estimators=30; total time=   0.1s\n",
      "[CV] END bootstrap=True, max_depth=6, min_samples_leaf=15, min_samples_split=16, n_estimators=20; total time=   0.0s\n",
      "[CV] END bootstrap=True, max_depth=6, min_samples_leaf=15, min_samples_split=16, n_estimators=20; total time=   0.0s\n",
      "[CV] END bootstrap=True, max_depth=6, min_samples_leaf=15, min_samples_split=16, n_estimators=20; total time=   0.0s\n",
      "[CV] END bootstrap=True, max_depth=6, min_samples_leaf=15, min_samples_split=16, n_estimators=20; total time=   0.0s\n",
      "[CV] END bootstrap=True, max_depth=6, min_samples_leaf=15, min_samples_split=16, n_estimators=20; total time=   0.0s\n",
      "[CV] END bootstrap=True, max_depth=6, min_samples_leaf=15, min_samples_split=16, n_estimators=25; total time=   0.1s\n",
      "[CV] END bootstrap=True, max_depth=6, min_samples_leaf=15, min_samples_split=16, n_estimators=25; total time=   0.1s\n",
      "[CV] END bootstrap=True, max_depth=6, min_samples_leaf=15, min_samples_split=16, n_estimators=25; total time=   0.1s\n",
      "[CV] END bootstrap=True, max_depth=6, min_samples_leaf=15, min_samples_split=16, n_estimators=25; total time=   0.1s\n",
      "[CV] END bootstrap=True, max_depth=6, min_samples_leaf=15, min_samples_split=16, n_estimators=25; total time=   0.1s\n",
      "[CV] END bootstrap=True, max_depth=6, min_samples_leaf=15, min_samples_split=16, n_estimators=30; total time=   0.1s\n",
      "[CV] END bootstrap=True, max_depth=6, min_samples_leaf=15, min_samples_split=16, n_estimators=30; total time=   0.1s\n",
      "[CV] END bootstrap=True, max_depth=6, min_samples_leaf=15, min_samples_split=16, n_estimators=30; total time=   0.1s\n",
      "[CV] END bootstrap=True, max_depth=6, min_samples_leaf=15, min_samples_split=16, n_estimators=30; total time=   0.1s\n",
      "[CV] END bootstrap=True, max_depth=6, min_samples_leaf=15, min_samples_split=16, n_estimators=30; total time=   0.1s\n",
      "[CV] END bootstrap=True, max_depth=6, min_samples_leaf=15, min_samples_split=18, n_estimators=20; total time=   0.0s\n",
      "[CV] END bootstrap=True, max_depth=6, min_samples_leaf=15, min_samples_split=18, n_estimators=20; total time=   0.0s\n",
      "[CV] END bootstrap=True, max_depth=6, min_samples_leaf=15, min_samples_split=18, n_estimators=20; total time=   0.0s\n",
      "[CV] END bootstrap=True, max_depth=6, min_samples_leaf=15, min_samples_split=18, n_estimators=20; total time=   0.0s\n",
      "[CV] END bootstrap=True, max_depth=6, min_samples_leaf=15, min_samples_split=18, n_estimators=20; total time=   0.0s\n",
      "[CV] END bootstrap=True, max_depth=6, min_samples_leaf=15, min_samples_split=18, n_estimators=25; total time=   0.1s\n",
      "[CV] END bootstrap=True, max_depth=6, min_samples_leaf=15, min_samples_split=18, n_estimators=25; total time=   0.1s\n",
      "[CV] END bootstrap=True, max_depth=6, min_samples_leaf=15, min_samples_split=18, n_estimators=25; total time=   0.1s\n",
      "[CV] END bootstrap=True, max_depth=6, min_samples_leaf=15, min_samples_split=18, n_estimators=25; total time=   0.1s\n",
      "[CV] END bootstrap=True, max_depth=6, min_samples_leaf=15, min_samples_split=18, n_estimators=25; total time=   0.1s\n",
      "[CV] END bootstrap=True, max_depth=6, min_samples_leaf=15, min_samples_split=18, n_estimators=30; total time=   0.1s\n",
      "[CV] END bootstrap=True, max_depth=6, min_samples_leaf=15, min_samples_split=18, n_estimators=30; total time=   0.1s\n",
      "[CV] END bootstrap=True, max_depth=6, min_samples_leaf=15, min_samples_split=18, n_estimators=30; total time=   0.1s\n",
      "[CV] END bootstrap=True, max_depth=6, min_samples_leaf=15, min_samples_split=18, n_estimators=30; total time=   0.1s\n",
      "[CV] END bootstrap=True, max_depth=6, min_samples_leaf=15, min_samples_split=18, n_estimators=30; total time=   0.1s\n",
      "[CV] END bootstrap=True, max_depth=6, min_samples_leaf=18, min_samples_split=16, n_estimators=20; total time=   0.0s\n",
      "[CV] END bootstrap=True, max_depth=6, min_samples_leaf=18, min_samples_split=16, n_estimators=20; total time=   0.0s\n",
      "[CV] END bootstrap=True, max_depth=6, min_samples_leaf=18, min_samples_split=16, n_estimators=20; total time=   0.0s\n",
      "[CV] END bootstrap=True, max_depth=6, min_samples_leaf=18, min_samples_split=16, n_estimators=20; total time=   0.0s\n",
      "[CV] END bootstrap=True, max_depth=6, min_samples_leaf=18, min_samples_split=16, n_estimators=20; total time=   0.0s\n",
      "[CV] END bootstrap=True, max_depth=6, min_samples_leaf=18, min_samples_split=16, n_estimators=25; total time=   0.1s\n",
      "[CV] END bootstrap=True, max_depth=6, min_samples_leaf=18, min_samples_split=16, n_estimators=25; total time=   0.0s\n",
      "[CV] END bootstrap=True, max_depth=6, min_samples_leaf=18, min_samples_split=16, n_estimators=25; total time=   0.0s\n",
      "[CV] END bootstrap=True, max_depth=6, min_samples_leaf=18, min_samples_split=16, n_estimators=25; total time=   0.0s\n",
      "[CV] END bootstrap=True, max_depth=6, min_samples_leaf=18, min_samples_split=16, n_estimators=25; total time=   0.1s\n",
      "[CV] END bootstrap=True, max_depth=6, min_samples_leaf=18, min_samples_split=16, n_estimators=30; total time=   0.1s\n",
      "[CV] END bootstrap=True, max_depth=6, min_samples_leaf=18, min_samples_split=16, n_estimators=30; total time=   0.1s\n",
      "[CV] END bootstrap=True, max_depth=6, min_samples_leaf=18, min_samples_split=16, n_estimators=30; total time=   0.1s\n",
      "[CV] END bootstrap=True, max_depth=6, min_samples_leaf=18, min_samples_split=16, n_estimators=30; total time=   0.1s\n",
      "[CV] END bootstrap=True, max_depth=6, min_samples_leaf=18, min_samples_split=16, n_estimators=30; total time=   0.1s\n",
      "[CV] END bootstrap=True, max_depth=6, min_samples_leaf=18, min_samples_split=18, n_estimators=20; total time=   0.0s\n",
      "[CV] END bootstrap=True, max_depth=6, min_samples_leaf=18, min_samples_split=18, n_estimators=20; total time=   0.0s\n",
      "[CV] END bootstrap=True, max_depth=6, min_samples_leaf=18, min_samples_split=18, n_estimators=20; total time=   0.0s\n",
      "[CV] END bootstrap=True, max_depth=6, min_samples_leaf=18, min_samples_split=18, n_estimators=20; total time=   0.0s\n",
      "[CV] END bootstrap=True, max_depth=6, min_samples_leaf=18, min_samples_split=18, n_estimators=20; total time=   0.0s\n",
      "[CV] END bootstrap=True, max_depth=6, min_samples_leaf=18, min_samples_split=18, n_estimators=25; total time=   0.0s\n",
      "[CV] END bootstrap=True, max_depth=6, min_samples_leaf=18, min_samples_split=18, n_estimators=25; total time=   0.0s\n",
      "[CV] END bootstrap=True, max_depth=6, min_samples_leaf=18, min_samples_split=18, n_estimators=25; total time=   0.0s\n",
      "[CV] END bootstrap=True, max_depth=6, min_samples_leaf=18, min_samples_split=18, n_estimators=25; total time=   0.1s\n",
      "[CV] END bootstrap=True, max_depth=6, min_samples_leaf=18, min_samples_split=18, n_estimators=25; total time=   0.1s\n",
      "[CV] END bootstrap=True, max_depth=6, min_samples_leaf=18, min_samples_split=18, n_estimators=30; total time=   0.1s\n",
      "[CV] END bootstrap=True, max_depth=6, min_samples_leaf=18, min_samples_split=18, n_estimators=30; total time=   0.1s\n",
      "[CV] END bootstrap=True, max_depth=6, min_samples_leaf=18, min_samples_split=18, n_estimators=30; total time=   0.1s\n",
      "[CV] END bootstrap=True, max_depth=6, min_samples_leaf=18, min_samples_split=18, n_estimators=30; total time=   0.1s\n",
      "[CV] END bootstrap=True, max_depth=6, min_samples_leaf=18, min_samples_split=18, n_estimators=30; total time=   0.1s\n",
      "[CV] END bootstrap=True, max_depth=7, min_samples_leaf=15, min_samples_split=16, n_estimators=20; total time=   0.0s\n",
      "[CV] END bootstrap=True, max_depth=7, min_samples_leaf=15, min_samples_split=16, n_estimators=20; total time=   0.0s\n",
      "[CV] END bootstrap=True, max_depth=7, min_samples_leaf=15, min_samples_split=16, n_estimators=20; total time=   0.0s\n",
      "[CV] END bootstrap=True, max_depth=7, min_samples_leaf=15, min_samples_split=16, n_estimators=20; total time=   0.0s\n",
      "[CV] END bootstrap=True, max_depth=7, min_samples_leaf=15, min_samples_split=16, n_estimators=20; total time=   0.0s\n",
      "[CV] END bootstrap=True, max_depth=7, min_samples_leaf=15, min_samples_split=16, n_estimators=25; total time=   0.1s\n",
      "[CV] END bootstrap=True, max_depth=7, min_samples_leaf=15, min_samples_split=16, n_estimators=25; total time=   0.1s\n",
      "[CV] END bootstrap=True, max_depth=7, min_samples_leaf=15, min_samples_split=16, n_estimators=25; total time=   0.1s\n",
      "[CV] END bootstrap=True, max_depth=7, min_samples_leaf=15, min_samples_split=16, n_estimators=25; total time=   0.1s\n",
      "[CV] END bootstrap=True, max_depth=7, min_samples_leaf=15, min_samples_split=16, n_estimators=25; total time=   0.1s\n",
      "[CV] END bootstrap=True, max_depth=7, min_samples_leaf=15, min_samples_split=16, n_estimators=30; total time=   0.1s\n",
      "[CV] END bootstrap=True, max_depth=7, min_samples_leaf=15, min_samples_split=16, n_estimators=30; total time=   0.1s\n",
      "[CV] END bootstrap=True, max_depth=7, min_samples_leaf=15, min_samples_split=16, n_estimators=30; total time=   0.1s\n",
      "[CV] END bootstrap=True, max_depth=7, min_samples_leaf=15, min_samples_split=16, n_estimators=30; total time=   0.1s\n",
      "[CV] END bootstrap=True, max_depth=7, min_samples_leaf=15, min_samples_split=16, n_estimators=30; total time=   0.1s\n",
      "[CV] END bootstrap=True, max_depth=7, min_samples_leaf=15, min_samples_split=18, n_estimators=20; total time=   0.0s\n",
      "[CV] END bootstrap=True, max_depth=7, min_samples_leaf=15, min_samples_split=18, n_estimators=20; total time=   0.0s\n",
      "[CV] END bootstrap=True, max_depth=7, min_samples_leaf=15, min_samples_split=18, n_estimators=20; total time=   0.0s\n",
      "[CV] END bootstrap=True, max_depth=7, min_samples_leaf=15, min_samples_split=18, n_estimators=20; total time=   0.0s\n",
      "[CV] END bootstrap=True, max_depth=7, min_samples_leaf=15, min_samples_split=18, n_estimators=20; total time=   0.0s\n",
      "[CV] END bootstrap=True, max_depth=7, min_samples_leaf=15, min_samples_split=18, n_estimators=25; total time=   0.1s\n",
      "[CV] END bootstrap=True, max_depth=7, min_samples_leaf=15, min_samples_split=18, n_estimators=25; total time=   0.1s\n",
      "[CV] END bootstrap=True, max_depth=7, min_samples_leaf=15, min_samples_split=18, n_estimators=25; total time=   0.1s\n",
      "[CV] END bootstrap=True, max_depth=7, min_samples_leaf=15, min_samples_split=18, n_estimators=25; total time=   0.1s\n",
      "[CV] END bootstrap=True, max_depth=7, min_samples_leaf=15, min_samples_split=18, n_estimators=25; total time=   0.1s\n",
      "[CV] END bootstrap=True, max_depth=7, min_samples_leaf=15, min_samples_split=18, n_estimators=30; total time=   0.1s\n",
      "[CV] END bootstrap=True, max_depth=7, min_samples_leaf=15, min_samples_split=18, n_estimators=30; total time=   0.1s\n",
      "[CV] END bootstrap=True, max_depth=7, min_samples_leaf=15, min_samples_split=18, n_estimators=30; total time=   0.1s\n",
      "[CV] END bootstrap=True, max_depth=7, min_samples_leaf=15, min_samples_split=18, n_estimators=30; total time=   0.1s\n",
      "[CV] END bootstrap=True, max_depth=7, min_samples_leaf=15, min_samples_split=18, n_estimators=30; total time=   0.1s\n",
      "[CV] END bootstrap=True, max_depth=7, min_samples_leaf=18, min_samples_split=16, n_estimators=20; total time=   0.0s\n",
      "[CV] END bootstrap=True, max_depth=7, min_samples_leaf=18, min_samples_split=16, n_estimators=20; total time=   0.0s\n",
      "[CV] END bootstrap=True, max_depth=7, min_samples_leaf=18, min_samples_split=16, n_estimators=20; total time=   0.0s\n",
      "[CV] END bootstrap=True, max_depth=7, min_samples_leaf=18, min_samples_split=16, n_estimators=20; total time=   0.0s\n",
      "[CV] END bootstrap=True, max_depth=7, min_samples_leaf=18, min_samples_split=16, n_estimators=20; total time=   0.0s\n",
      "[CV] END bootstrap=True, max_depth=7, min_samples_leaf=18, min_samples_split=16, n_estimators=25; total time=   0.1s\n",
      "[CV] END bootstrap=True, max_depth=7, min_samples_leaf=18, min_samples_split=16, n_estimators=25; total time=   0.0s\n",
      "[CV] END bootstrap=True, max_depth=7, min_samples_leaf=18, min_samples_split=16, n_estimators=25; total time=   0.0s\n",
      "[CV] END bootstrap=True, max_depth=7, min_samples_leaf=18, min_samples_split=16, n_estimators=25; total time=   0.1s\n",
      "[CV] END bootstrap=True, max_depth=7, min_samples_leaf=18, min_samples_split=16, n_estimators=25; total time=   0.1s\n",
      "[CV] END bootstrap=True, max_depth=7, min_samples_leaf=18, min_samples_split=16, n_estimators=30; total time=   0.1s\n",
      "[CV] END bootstrap=True, max_depth=7, min_samples_leaf=18, min_samples_split=16, n_estimators=30; total time=   0.1s\n",
      "[CV] END bootstrap=True, max_depth=7, min_samples_leaf=18, min_samples_split=16, n_estimators=30; total time=   0.1s\n",
      "[CV] END bootstrap=True, max_depth=7, min_samples_leaf=18, min_samples_split=16, n_estimators=30; total time=   0.1s\n",
      "[CV] END bootstrap=True, max_depth=7, min_samples_leaf=18, min_samples_split=16, n_estimators=30; total time=   0.1s\n",
      "[CV] END bootstrap=True, max_depth=7, min_samples_leaf=18, min_samples_split=18, n_estimators=20; total time=   0.0s\n",
      "[CV] END bootstrap=True, max_depth=7, min_samples_leaf=18, min_samples_split=18, n_estimators=20; total time=   0.0s\n",
      "[CV] END bootstrap=True, max_depth=7, min_samples_leaf=18, min_samples_split=18, n_estimators=20; total time=   0.0s\n",
      "[CV] END bootstrap=True, max_depth=7, min_samples_leaf=18, min_samples_split=18, n_estimators=20; total time=   0.0s\n",
      "[CV] END bootstrap=True, max_depth=7, min_samples_leaf=18, min_samples_split=18, n_estimators=20; total time=   0.0s\n",
      "[CV] END bootstrap=True, max_depth=7, min_samples_leaf=18, min_samples_split=18, n_estimators=25; total time=   0.0s\n",
      "[CV] END bootstrap=True, max_depth=7, min_samples_leaf=18, min_samples_split=18, n_estimators=25; total time=   0.1s\n",
      "[CV] END bootstrap=True, max_depth=7, min_samples_leaf=18, min_samples_split=18, n_estimators=25; total time=   0.1s\n",
      "[CV] END bootstrap=True, max_depth=7, min_samples_leaf=18, min_samples_split=18, n_estimators=25; total time=   0.1s\n",
      "[CV] END bootstrap=True, max_depth=7, min_samples_leaf=18, min_samples_split=18, n_estimators=25; total time=   0.1s\n",
      "[CV] END bootstrap=True, max_depth=7, min_samples_leaf=18, min_samples_split=18, n_estimators=30; total time=   0.1s\n",
      "[CV] END bootstrap=True, max_depth=7, min_samples_leaf=18, min_samples_split=18, n_estimators=30; total time=   0.1s\n",
      "[CV] END bootstrap=True, max_depth=7, min_samples_leaf=18, min_samples_split=18, n_estimators=30; total time=   0.1s\n",
      "[CV] END bootstrap=True, max_depth=7, min_samples_leaf=18, min_samples_split=18, n_estimators=30; total time=   0.1s\n",
      "[CV] END bootstrap=True, max_depth=7, min_samples_leaf=18, min_samples_split=18, n_estimators=30; total time=   0.1s\n",
      "Best parameters: {'bootstrap': True, 'max_depth': 7, 'min_samples_leaf': 15, 'min_samples_split': 16, 'n_estimators': 30}\n",
      "Best score: 0.4360341231509091\n",
      "[RF][Training Set] MSE: 46.07; MAPE: 0.06; MAE: 4.90; R2 score: 0.60\n",
      "[RF][Testing Set]  MSE: 76.53; MAPE: 0.08; MAE: 6.49; R2 score: 0.43\n"
     ]
    }
   ],
   "execution_count": 77
  },
  {
   "metadata": {
    "ExecuteTime": {
     "end_time": "2025-03-11T22:34:30.443763Z",
     "start_time": "2025-03-11T22:34:30.436450Z"
    }
   },
   "cell_type": "code",
   "source": [
    "feature_importances = grid_search.best_estimator_.feature_importances_\n",
    "print(feature_importances.shape)\n",
    "print(X_train_selected.shape)\n",
    "features_df = pd.DataFrame({\n",
    "    'Feature': X_train_selected.columns,\n",
    "    'Importance': feature_importances\n",
    "}).sort_values(by='Importance', ascending=False)\n",
    "\n",
    "features_df"
   ],
   "id": "36119e5fa97c9a30",
   "outputs": [
    {
     "name": "stdout",
     "output_type": "stream",
     "text": [
      "(6,)\n",
      "(1018, 6)\n"
     ]
    },
    {
     "data": {
      "text/plain": [
       "                        Feature  Importance\n",
       "1             HGVs_2_rigid_axle    0.249221\n",
       "0  HGVs_3_or_4_articulated_axle    0.242119\n",
       "2       HGVs_6_articulated_axle    0.237809\n",
       "3     HGVs_4_or_more_rigid_axle    0.116041\n",
       "4                          LGVs    0.082443\n",
       "5             buses_and_coaches    0.072366"
      ],
      "text/html": [
       "<div>\n",
       "<style scoped>\n",
       "    .dataframe tbody tr th:only-of-type {\n",
       "        vertical-align: middle;\n",
       "    }\n",
       "\n",
       "    .dataframe tbody tr th {\n",
       "        vertical-align: top;\n",
       "    }\n",
       "\n",
       "    .dataframe thead th {\n",
       "        text-align: right;\n",
       "    }\n",
       "</style>\n",
       "<table border=\"1\" class=\"dataframe\">\n",
       "  <thead>\n",
       "    <tr style=\"text-align: right;\">\n",
       "      <th></th>\n",
       "      <th>Feature</th>\n",
       "      <th>Importance</th>\n",
       "    </tr>\n",
       "  </thead>\n",
       "  <tbody>\n",
       "    <tr>\n",
       "      <th>1</th>\n",
       "      <td>HGVs_2_rigid_axle</td>\n",
       "      <td>0.249221</td>\n",
       "    </tr>\n",
       "    <tr>\n",
       "      <th>0</th>\n",
       "      <td>HGVs_3_or_4_articulated_axle</td>\n",
       "      <td>0.242119</td>\n",
       "    </tr>\n",
       "    <tr>\n",
       "      <th>2</th>\n",
       "      <td>HGVs_6_articulated_axle</td>\n",
       "      <td>0.237809</td>\n",
       "    </tr>\n",
       "    <tr>\n",
       "      <th>3</th>\n",
       "      <td>HGVs_4_or_more_rigid_axle</td>\n",
       "      <td>0.116041</td>\n",
       "    </tr>\n",
       "    <tr>\n",
       "      <th>4</th>\n",
       "      <td>LGVs</td>\n",
       "      <td>0.082443</td>\n",
       "    </tr>\n",
       "    <tr>\n",
       "      <th>5</th>\n",
       "      <td>buses_and_coaches</td>\n",
       "      <td>0.072366</td>\n",
       "    </tr>\n",
       "  </tbody>\n",
       "</table>\n",
       "</div>"
      ]
     },
     "execution_count": 59,
     "metadata": {},
     "output_type": "execute_result"
    }
   ],
   "execution_count": 59
  },
  {
   "metadata": {
    "ExecuteTime": {
     "end_time": "2025-03-11T22:34:30.648834Z",
     "start_time": "2025-03-11T22:34:30.501629Z"
    }
   },
   "cell_type": "code",
   "source": [
    "# plot importance of features\n",
    "plt.figure(figsize=(8, 6))\n",
    "plt.bar(x=0, bottom=features_df['Feature'],\n",
    "        height=0.5, width=features_df['Importance'], orientation='horizontal')\n",
    "plt.xlabel('Importance')\n",
    "plt.ylabel('Feature')\n",
    "plt.title('Selected Feature Importances')\n",
    "plt.show()"
   ],
   "id": "e5ca79dce9219cdf",
   "outputs": [
    {
     "data": {
      "text/plain": [
       "<Figure size 800x600 with 1 Axes>"
      ],
      "image/png": "[encoded data removed]"
     },
     "metadata": {},
     "output_type": "display_data"
    }
   ],
   "execution_count": 60
  },
  {
   "metadata": {},
   "cell_type": "markdown",
   "source": [
    "As we have found the important features:\n",
    "- HGVs_3_or_4_articulated_axle\n",
    "- HGVs_6_articulated_axle\n",
    "- LGVs\n",
    "- HGVs_2_rigid_axle\n",
    "- HGVs_4_or_more_rigid_axle\n"
   ],
   "id": "431efb6ce05552d5"
  },
  {
   "metadata": {
    "ExecuteTime": {
     "end_time": "2025-03-11T22:34:30.783091Z",
     "start_time": "2025-03-11T22:34:30.780707Z"
    }
   },
   "cell_type": "code",
   "source": "",
   "id": "2c05faca37285416",
   "outputs": [],
   "execution_count": null
  }
 ],
 "metadata": {
  "kernelspec": {
   "display_name": "Python 3",
   "language": "python",
   "name": "python3"
  },
  "language_info": {
   "codemirror_mode": {
    "name": "ipython",
    "version": 2
   },
   "file_extension": ".py",
   "mimetype": "text/x-python",
   "name": "python",
   "nbconvert_exporter": "python",
   "pygments_lexer": "ipython2",
   "version": "2.7.6"
  }
 },
 "nbformat": 4,
 "nbformat_minor": 5
}
